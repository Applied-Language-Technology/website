{
 "cells": [
  {
   "cell_type": "markdown",
   "metadata": {},
   "source": [
    "# Processing texts using spaCy\n",
    "\n",
    "This section introduces you to basic tasks in natural language processing and how they can be performed using a Python library named spaCy.\n",
    "\n",
    "After reading this section, you should:\n",
    "\n",
    " - know some of the key concepts and tasks in natural language processing\n",
    " - know how to perform simple natural language processing tasks using the spaCy library"
   ]
  },
  {
   "cell_type": "markdown",
   "metadata": {},
   "source": [
    "## Getting started\n",
    "\n",
    "To get started, we import [spaCy](https://spacy.io/), one of the many libraries available for natural language processing in Python."
   ]
  },
  {
   "cell_type": "code",
   "execution_count": 1,
   "metadata": {},
   "outputs": [],
   "source": [
    "import spacy"
   ]
  },
  {
   "cell_type": "markdown",
   "metadata": {},
   "source": [
    "To perform natural language processing tasks for a given language, we must load a _language model_ that has been trained to perform these tasks for the language in question. \n",
    "\n",
    "spaCy supports [many languages](https://spacy.io/usage/models#languages), but provides pre-trained [language models](https://spacy.io/models/) for fewer languages.\n",
    "\n",
    "These language models come in different sizes and flavours. We will explore these models and their differences later. \n",
    "\n",
    "To get acquainted with basic tasks in natural language processing, we will start with a small language model for the English language.\n",
    "\n",
    "Language models are loaded using spaCy's `load()` function, which takes the name of the model as input."
   ]
  },
  {
   "cell_type": "code",
   "execution_count": 2,
   "metadata": {},
   "outputs": [
    {
     "data": {
      "text/plain": [
       "<spacy.lang.en.English at 0x111532ee0>"
      ]
     },
     "execution_count": 2,
     "metadata": {},
     "output_type": "execute_result"
    }
   ],
   "source": [
    "# Load the small language model for English and assign it to the variable 'nlp'\n",
    "nlp = spacy.load('en_core_web_sm')\n",
    "\n",
    "# Call the variable to examine the object\n",
    "nlp"
   ]
  },
  {
   "cell_type": "markdown",
   "metadata": {},
   "source": [
    "Calling the variable `nlp` returns a spaCy [_Language_](https://spacy.io/api/language) object that contains a language model for the English language.\n",
    "\n",
    "Esentially, spaCy's *Language* object is a pipeline that uses the language model to perform a number of natural language processing tasks. We will return to these tasks shortly below."
   ]
  },
  {
   "cell_type": "markdown",
   "metadata": {},
   "source": [
    "### What is a language model?\n",
    "\n",
    "Most modern language models are based on *statistics* instead of human-defined rules. \n",
    "\n",
    "Statistical language models are based on probabilities, e.g.: \n",
    "\n",
    " - What is the probability of a given sentence occurring in a language? \n",
    " - How likely is a given word to occur in a sequence of words?\n",
    "\n",
    "Consider the following sentences from the news articles from the previous sections:\n",
    "\n",
    " - From financial exchanges in `HIDDEN` Manhattan to cloakrooms in Washington and homeless shelters in California, unfamiliar rituals were the order of the day.\n",
    "\n",
    " - Security precautions were being taken around the `HIDDEN` as the deadline for Iraq to withdraw from Kuwait neared.\n",
    "\n",
    "You can probably make informed guesses on the `HIDDEN` words based on your knowledge of the English language and the world in general.\n",
    "\n",
    "Similarly, creating a statistical language model involves observing the occurrence of words in large corpora and calculating their probabilities of occurrence in a given context. The language model can then be trained by making predictions and adjusting the model based on the errors made during prediction."
   ]
  },
  {
   "cell_type": "markdown",
   "metadata": {},
   "source": [
    "### How are language models trained?\n",
    "\n",
    "The small language model for English, for instance, is trained on a corpus called [OntoNotes 5.0](https://catalog.ldc.upenn.edu/LDC2013T19), which features texts from different *genres* such as newswire text, broadcast news, broadcast and telephone conversations and blogs.\n",
    "\n",
    "This allows the corpus to cover linguistic variation in both written and spoken English.\n",
    "\n",
    "The OntoNotes 5.0 corpus consists of more than just *plain text*: the annotations include *part-of-speech tags*, *syntactic dependencies* and *co-references* between words.\n",
    "\n",
    "This allows modelling not just the occurrence of particular words or their sequences, but their grammatical features as well."
   ]
  },
  {
   "cell_type": "markdown",
   "metadata": {},
   "source": [
    "## Performing basic NLP tasks using spaCy\n",
    "\n",
    "To process text using the *Language* object containing the language model for English, we simply call the *Language* object `nlp` on some text.\n",
    "\n",
    "Let's begin by defining a simple test sentence, a Python string object that is stored under the variable `text`.\n",
    "\n",
    "As usual, we can print out the contents by calling the variable."
   ]
  },
  {
   "cell_type": "code",
   "execution_count": 3,
   "metadata": {},
   "outputs": [
    {
     "data": {
      "text/plain": [
       "'The Federal Bureau of Investigation has been ordered to track down as many as 3,000 Iraqis in this country whose visas have expired, the Justice Department said yesterday.'"
      ]
     },
     "execution_count": 3,
     "metadata": {},
     "output_type": "execute_result"
    }
   ],
   "source": [
    "# Assign an example sentence to the variable 'text'\n",
    "text = \"The Federal Bureau of Investigation has been ordered to track down as many as 3,000 Iraqis in this country whose visas have expired, the Justice Department said yesterday.\"\n",
    "\n",
    "# Call the variable to examine the output\n",
    "text"
   ]
  },
  {
   "cell_type": "markdown",
   "metadata": {},
   "source": [
    "Passing the variable `text` to the _Language_ object `nlp` returns a spaCy *Doc* object, short for document.\n",
    "\n",
    "In natural language processing, longer pieces of text are commonly referred to as documents, although in this case our document consists of a single sentence.\n",
    "\n",
    "This object contains both the input text stored under `text` and the results of natural language processing using spaCy."
   ]
  },
  {
   "cell_type": "code",
   "execution_count": 4,
   "metadata": {},
   "outputs": [],
   "source": [
    "# Feed the string object under 'text' to the Language object under 'nlp'\n",
    "# Store the result under the variable 'doc'\n",
    "doc = nlp(text)"
   ]
  },
  {
   "cell_type": "markdown",
   "metadata": {},
   "source": [
    "The _Doc_ object is now stored under the variable `doc`."
   ]
  },
  {
   "cell_type": "code",
   "execution_count": 5,
   "metadata": {},
   "outputs": [
    {
     "data": {
      "text/plain": [
       "The Federal Bureau of Investigation has been ordered to track down as many as 3,000 Iraqis in this country whose visas have expired, the Justice Department said yesterday."
      ]
     },
     "execution_count": 5,
     "metadata": {},
     "output_type": "execute_result"
    }
   ],
   "source": [
    "# Call the variable to examine the object\n",
    "doc"
   ]
  },
  {
   "cell_type": "markdown",
   "metadata": {},
   "source": [
    "Calling the variable `doc` returns the contents of the object.\n",
    "\n",
    "Although the output resembles that of a Python string, the *Doc* object contains a wealth of information about its linguistic structure, which spaCy generated by passing the text through the NLP pipeline.\n",
    "\n",
    "We will now examine the tasks that were performed under the hood after we provided the input sentence to the language model."
   ]
  },
  {
   "cell_type": "markdown",
   "metadata": {},
   "source": [
    "### Tokenization\n",
    "\n",
    "What takes place first is a task known as *tokenization*, which breaks the text down into analytical units in need of further processing. \n",
    "\n",
    "In most cases, a *token* corresponds to words separated by whitespace, but punctuation marks are also considered as independent tokens. Because computers treat words as sequences of characters, assigning punctuation marks to their own tokens prevents trailing punctuation from attaching to the words that precede them.\n",
    "\n",
    "The diagram below the outlines the tasks that spaCy can perform after a text has been tokenised, such as *part-of-speech tagging*, *syntactic parsing* and *named entity recognition*.\n",
    "\n",
    "![The spaCy pipeline from https://spacy.io/usage/linguistic-features#section-tokenization](img/spacy_pipeline.png)\n",
    "\n",
    "A spaCy _Doc_ object is consists of a sequence of *Token* objects, which store the results of various natural language processing tasks.\n",
    "\n",
    "Let's print out each *Token* object stored in the _Doc_ object `doc`."
   ]
  },
  {
   "cell_type": "code",
   "execution_count": 6,
   "metadata": {},
   "outputs": [
    {
     "name": "stdout",
     "output_type": "stream",
     "text": [
      "The\n",
      "Federal\n",
      "Bureau\n",
      "of\n",
      "Investigation\n",
      "has\n",
      "been\n",
      "ordered\n",
      "to\n",
      "track\n",
      "down\n",
      "as\n",
      "many\n",
      "as\n",
      "3,000\n",
      "Iraqis\n",
      "in\n",
      "this\n",
      "country\n",
      "whose\n",
      "visas\n",
      "have\n",
      "expired\n",
      ",\n",
      "the\n",
      "Justice\n",
      "Department\n",
      "said\n",
      "yesterday\n",
      ".\n"
     ]
    }
   ],
   "source": [
    "# Loop over items in the Doc object, using the variable 'token' to refer to items in the list\n",
    "for token in doc:  \n",
    "    \n",
    "    # Print each token\n",
    "    print(token)  "
   ]
  },
  {
   "cell_type": "markdown",
   "metadata": {},
   "source": [
    "The output shows one _Token_ per line. As expected, punctuation marks such as '.' and ',' constitute their own _Tokens_."
   ]
  },
  {
   "cell_type": "markdown",
   "metadata": {},
   "source": [
    "### Part-of-speech tagging\n",
    "\n",
    "Part-of-speech (POS) tagging is the task of determining the word class of a token. This is crucial for *disambiguation*, because different parts of speech may have similar forms.\n",
    "\n",
    "Consider the example: *The sailor dogs the hatch*.\n",
    "\n",
    "The present tense of the verb *dog* (to fasten something with something) is precisely the same as the plural form of the noun *dog*: *dogs*.\n",
    "\n",
    "To identify the correct word class, we must examine the context in which the word appears.\n",
    "\n",
    "*spaCy* provides two types of part-of-speech tags, *coarse* and *fine-grained*, which are stored under the attributes `pos_` and `tag_`, respectively.\n",
    "\n",
    "We can access the attributes of a Python object by inserting the *attribute* after the *object* and separating them with a full stop, e.g. `token.pos_`.\n",
    "\n",
    "To access the results of POS tagging, let's loop over the *Doc* object `doc` and print each *Token* and its coarse and fine-grained part-of-speech tags."
   ]
  },
  {
   "cell_type": "code",
   "execution_count": 7,
   "metadata": {},
   "outputs": [
    {
     "name": "stdout",
     "output_type": "stream",
     "text": [
      "The DET DT\n",
      "Federal PROPN NNP\n",
      "Bureau PROPN NNP\n",
      "of ADP IN\n",
      "Investigation PROPN NNP\n",
      "has AUX VBZ\n",
      "been AUX VBN\n",
      "ordered VERB VBN\n",
      "to PART TO\n",
      "track VERB VB\n",
      "down ADP RP\n",
      "as ADV RB\n",
      "many ADJ JJ\n",
      "as ADP IN\n",
      "3,000 NUM CD\n",
      "Iraqis PROPN NNPS\n",
      "in ADP IN\n",
      "this DET DT\n",
      "country NOUN NN\n",
      "whose DET WP$\n",
      "visas NOUN NNS\n",
      "have AUX VBP\n",
      "expired VERB VBN\n",
      ", PUNCT ,\n",
      "the DET DT\n",
      "Justice PROPN NNP\n",
      "Department PROPN NNP\n",
      "said VERB VBD\n",
      "yesterday NOUN NN\n",
      ". PUNCT .\n"
     ]
    }
   ],
   "source": [
    "# Loop over items in the Doc object, using the variable 'token' to refer to items in the list\n",
    "for token in doc:\n",
    "    \n",
    "    # Print the token and the POS tags\n",
    "    print(token, token.pos_, token.tag_)"
   ]
  },
  {
   "cell_type": "markdown",
   "metadata": {},
   "source": [
    "The coarse part-of-speech tags available under the `pos_` attribute are based on the [Universal Dependencies](https://universaldependencies.org/u/pos/all.html) tag set.\n",
    "\n",
    "The fine-grained part-of-speech tags under `tag_`, in turn, are based on the OntoNotes 5.0 corpus introduced above.\n",
    "\n",
    "In contrast to coarse part-of-speech tags, the fine-grained tags also encode [grammatical information](https://spacy.io/api/annotation#pos-en). The tags for verbs, for example, are distinguished by aspect and tense. "
   ]
  },
  {
   "cell_type": "markdown",
   "metadata": {
    "nbsphinx": "hidden"
   },
   "source": [
    "### Quick exercise\n",
    "\n",
    "Define a string object with some text in English. Be creative and think of language use on social media – and feed the string to the language model stored under the variable `nlp`. \n",
    "\n",
    "Store the result under the variable `my_text`, e.g.\n",
    "\n",
    "`my_text = nlp(\"Your example goes here.\")`"
   ]
  },
  {
   "cell_type": "code",
   "execution_count": 8,
   "metadata": {
    "nbsphinx": "hidden"
   },
   "outputs": [],
   "source": [
    "### Enter your code below this line and run the cell (press Shift and Enter at the same time)\n"
   ]
  },
  {
   "cell_type": "markdown",
   "metadata": {
    "nbsphinx": "hidden"
   },
   "source": [
    "Next, print the part of speech tags for each _Token_ in your Doc object `my_text`."
   ]
  },
  {
   "cell_type": "code",
   "execution_count": 9,
   "metadata": {
    "nbsphinx": "hidden"
   },
   "outputs": [],
   "source": [
    "### Enter your code below this line and run the cell (press Shift and Enter at the same time)\n"
   ]
  },
  {
   "cell_type": "markdown",
   "metadata": {
    "nbsphinx": "hidden"
   },
   "source": [
    "Is the language model able to classify the parts-of-speech correctly?"
   ]
  },
  {
   "cell_type": "markdown",
   "metadata": {},
   "source": [
    "### Morphological analysis\n",
    "\n",
    "Morphemes constitute the smallest grammatical units that carry meaning. Two types of morphemes are generally recognised: *free* morphemes, which consist of words that can stand on their own, and *bound* morphemes, which inflect other morphemes. For the English language, bound morphemes include suffixes such as _-s_, which is used to indicate the plural form of a noun.\n",
    "\n",
    "Put differently, morphemes shape the external *form* of a word, and these forms are associated with given grammatical *functions*.\n",
    "\n",
    "spaCy performs morphological analysis automatically and stores the result under the attribute `morph` of a _Token_ object."
   ]
  },
  {
   "cell_type": "code",
   "execution_count": 10,
   "metadata": {},
   "outputs": [
    {
     "name": "stdout",
     "output_type": "stream",
     "text": [
      "The Definite=Def|PronType=Art\n",
      "Federal NounType=Prop|Number=Sing\n",
      "Bureau NounType=Prop|Number=Sing\n",
      "of \n",
      "Investigation NounType=Prop|Number=Sing\n",
      "has Mood=Ind|Number=Sing|Person=3|Tense=Pres|VerbForm=Fin\n",
      "been Tense=Past|VerbForm=Part\n",
      "ordered Aspect=Perf|Tense=Past|VerbForm=Part\n",
      "to \n",
      "track VerbForm=Inf\n",
      "down \n",
      "as \n",
      "many Degree=Pos\n",
      "as \n",
      "3,000 NumType=Card\n",
      "Iraqis NounType=Prop|Number=Plur\n",
      "in \n",
      "this Number=Sing|PronType=Dem\n",
      "country Number=Sing\n",
      "whose Poss=Yes\n",
      "visas Number=Plur\n",
      "have Mood=Ind|Tense=Pres|VerbForm=Fin\n",
      "expired Aspect=Perf|Tense=Past|VerbForm=Part\n",
      ", PunctType=Comm\n",
      "the Definite=Def|PronType=Art\n",
      "Justice NounType=Prop|Number=Sing\n",
      "Department NounType=Prop|Number=Sing\n",
      "said Tense=Past|VerbForm=Fin\n",
      "yesterday Number=Sing\n",
      ". PunctType=Peri\n"
     ]
    }
   ],
   "source": [
    "# Loop over items in the Doc object, using the variable 'token' to refer to items in the list\n",
    "for token in doc:\n",
    "\n",
    "    # Print the token and the results of morphological analysis\n",
    "    print(token, token.morph)"
   ]
  },
  {
   "cell_type": "markdown",
   "metadata": {},
   "source": [
    "As the output shows, all _Tokens_ do not have morphological information, because they consist of free morphemes.\n",
    "\n",
    "To retrieve morphological information from a _Token_ object, we must use the `get()` method of the `morph` attribute.\n",
    "\n",
    "We can use the brackets `[]` to access items in the _Doc_ object.\n",
    "\n",
    "The following line retrieves morphological information about aspect for the 22nd _Token_ in the _Doc_ object."
   ]
  },
  {
   "cell_type": "code",
   "execution_count": 11,
   "metadata": {},
   "outputs": [
    {
     "data": {
      "text/plain": [
       "['Perf']"
      ]
     },
     "execution_count": 11,
     "metadata": {},
     "output_type": "execute_result"
    }
   ],
   "source": [
    "# Retrieve morphological information on aspect for 22nd item in the Doc object\n",
    "doc[22].morph.get('Aspect')"
   ]
  },
  {
   "cell_type": "markdown",
   "metadata": {},
   "source": [
    "This returns a list with a single string item _Perf_, which refers to the perfective aspect.\n",
    "\n",
    "What if we attempt to retrieve a morphological feature that a _Token_ does not have?\n",
    "\n",
    "Let's attempt to retrieve information on aspect for the 21st _Token_ in the _Doc_ object."
   ]
  },
  {
   "cell_type": "code",
   "execution_count": 12,
   "metadata": {},
   "outputs": [
    {
     "data": {
      "text/plain": [
       "[]"
      ]
     },
     "execution_count": 12,
     "metadata": {},
     "output_type": "execute_result"
    }
   ],
   "source": [
    "# Retrieve morphological information on aspect for 21st Token in the Doc object\n",
    "doc[21].morph.get('Aspect')"
   ]
  },
  {
   "cell_type": "markdown",
   "metadata": {},
   "source": [
    "This returns an empty list, as indicated by the brackets `[ ]` with nothing between them.\n",
    "\n",
    "To retrieve all the morphological information available for a given _Token_, the best solution is to use the `to_dict()` method of the `morph` attribute.\n",
    "\n",
    "This returns a dictionary, a Python data structure consisting of _key_ and _value_ pairs."
   ]
  },
  {
   "cell_type": "code",
   "execution_count": 13,
   "metadata": {},
   "outputs": [
    {
     "data": {
      "text/plain": [
       "{'Mood': 'Ind', 'Tense': 'Pres', 'VerbForm': 'Fin'}"
      ]
     },
     "execution_count": 13,
     "metadata": {},
     "output_type": "execute_result"
    }
   ],
   "source": [
    "# Retrieve morphological information for 21st Token in the Doc object\n",
    "# Use the to_dict() method to cast the result into a dictionary\n",
    "doc[21].morph.to_dict()"
   ]
  },
  {
   "cell_type": "markdown",
   "metadata": {},
   "source": [
    "A Python dictionary is marked by curly brackets `{ }`. Each key/value pair is separated by a colon `:`. In this case, both keys and values consist of string objects.\n",
    "\n",
    "The value stored under a key may be accessed by placing the key name in brackets `[ ]` and placing this right after the name of the dictionary, as shown below."
   ]
  },
  {
   "cell_type": "code",
   "execution_count": 14,
   "metadata": {},
   "outputs": [
    {
     "data": {
      "text/plain": [
       "'Ind'"
      ]
     },
     "execution_count": 14,
     "metadata": {},
     "output_type": "execute_result"
    }
   ],
   "source": [
    "# Assign morphological information to the dictionary 'morph_dict' \n",
    "morph_dict = doc[21].morph.to_dict()\n",
    "\n",
    "# Get the value corresponding to the key 'Mood'\n",
    "morph_dict['Mood']"
   ]
  },
  {
   "cell_type": "markdown",
   "metadata": {},
   "source": [
    "Dictionaries are a powerful data structure, which we will use frequently for storing information."
   ]
  },
  {
   "cell_type": "markdown",
   "metadata": {},
   "source": [
    "### Syntactic parsing\n",
    "\n",
    "Syntactic parsing (or _dependency parsing_) is the task of defining syntactic dependencies that hold between tokens. This task is closely aligned with traditional grammatical analyses, and consequently the results are often represented using tree diagrams.\n",
    "\n",
    "The syntactic dependencies identified during parsing are available under the `dep_` attribute of a _Token_.\n",
    "\n",
    "Let's print out the syntactic dependencies for each _Token_ in the _Doc_ object."
   ]
  },
  {
   "cell_type": "code",
   "execution_count": 15,
   "metadata": {},
   "outputs": [
    {
     "name": "stdout",
     "output_type": "stream",
     "text": [
      "The det\n",
      "Federal compound\n",
      "Bureau nsubjpass\n",
      "of prep\n",
      "Investigation pobj\n",
      "has aux\n",
      "been auxpass\n",
      "ordered ccomp\n",
      "to aux\n",
      "track xcomp\n",
      "down prt\n",
      "as advmod\n",
      "many amod\n",
      "as quantmod\n",
      "3,000 nummod\n",
      "Iraqis dobj\n",
      "in prep\n",
      "this det\n",
      "country pobj\n",
      "whose poss\n",
      "visas nsubj\n",
      "have aux\n",
      "expired relcl\n",
      ", punct\n",
      "the det\n",
      "Justice compound\n",
      "Department nsubj\n",
      "said ROOT\n",
      "yesterday npadvmod\n",
      ". punct\n"
     ]
    }
   ],
   "source": [
    "# Loop over items in the Doc object, using the variable 'token' to refer to items in the list\n",
    "for token in doc:\n",
    "    \n",
    "    # Print the token and its dependency tag\n",
    "    print(token, token.dep_)"
   ]
  },
  {
   "cell_type": "markdown",
   "metadata": {},
   "source": [
    "Unlike part-of-speech tags that are associated with a single _Token_, dependency tags indicate a relation that holds between two _Tokens_.\n",
    "\n",
    "To better understand the syntactic relations captured by dependency parsing, let's use some of the additional attributes available for each _Token_:\n",
    "\n",
    " 1. `i`: the position of the _Token_ in the _Doc_\n",
    " 2. `token`: the _Token_ itself\n",
    " 3. `dep_`: the dependency tag\n",
    " 4. `head` and `i`: the _Token_ that governs the current _Token_ and its index\n",
    " \n",
    "This illustrates how Python attributes can be used in a flexible manner: the attribute `head` points to another _Token_, which naturally has the attribute `i` that contains its index or position in the _Doc_. We can combine these two attributes to retrieve this information for any token by referring to `.head.i`."
   ]
  },
  {
   "cell_type": "code",
   "execution_count": 16,
   "metadata": {},
   "outputs": [
    {
     "name": "stdout",
     "output_type": "stream",
     "text": [
      "0 The det 2 Bureau\n",
      "1 Federal compound 2 Bureau\n",
      "2 Bureau nsubjpass 7 ordered\n",
      "3 of prep 2 Bureau\n",
      "4 Investigation pobj 3 of\n",
      "5 has aux 7 ordered\n",
      "6 been auxpass 7 ordered\n",
      "7 ordered ccomp 27 said\n",
      "8 to aux 9 track\n",
      "9 track xcomp 7 ordered\n",
      "10 down prt 9 track\n",
      "11 as advmod 14 3,000\n",
      "12 many amod 14 3,000\n",
      "13 as quantmod 14 3,000\n",
      "14 3,000 nummod 15 Iraqis\n",
      "15 Iraqis dobj 9 track\n",
      "16 in prep 9 track\n",
      "17 this det 18 country\n",
      "18 country pobj 16 in\n",
      "19 whose poss 20 visas\n",
      "20 visas nsubj 22 expired\n",
      "21 have aux 22 expired\n",
      "22 expired relcl 18 country\n",
      "23 , punct 27 said\n",
      "24 the det 26 Department\n",
      "25 Justice compound 26 Department\n",
      "26 Department nsubj 27 said\n",
      "27 said ROOT 27 said\n",
      "28 yesterday npadvmod 27 said\n",
      "29 . punct 27 said\n"
     ]
    }
   ],
   "source": [
    "# Loop over items in the Doc object, using the variable 'token' to refer to items in the list\n",
    "for token in doc:\n",
    "    \n",
    "    # Print the index of current token, the token itself, the dependency, the head and its index\n",
    "    print(token.i, token, token.dep_, token.head.i, token.head)"
   ]
  },
  {
   "cell_type": "markdown",
   "metadata": {},
   "source": [
    "Although the output above helps to clarify the syntactic dependencies between tokens, they are generally much easier to perceive using diagrams.\n",
    "\n",
    "spaCy provides a [visualisation tool](https://spacy.io/usage/visualizers) for visualising dependencies. This component of the spaCy library, _displacy_, can be imported using the following command."
   ]
  },
  {
   "cell_type": "code",
   "execution_count": 17,
   "metadata": {},
   "outputs": [],
   "source": [
    "from spacy import displacy"
   ]
  },
  {
   "cell_type": "markdown",
   "metadata": {},
   "source": [
    "The `displacy` module has a method named `render()`, which takes a _Doc_ object as input.\n",
    "\n",
    "To draw a dependency tree, we provide the _Doc_ object `doc` to the `render()` method with two arguments:\n",
    "\n",
    " 1. `style`: The value `dep` instructs _displacy_ to draw a visualisation for syntactic dependencies.\n",
    " 2. `options`: This argument takes a Python dictionary as input. We provide a dictionary with the key `compact` and Boolean value `True` to instruct _displacy_ to draw a compact tree diagram. Additional options for formatting the visualisation can be found in spaCy [documentation](https://spacy.io/api/top-level#displacy_options)."
   ]
  },
  {
   "cell_type": "code",
   "execution_count": 18,
   "metadata": {},
   "outputs": [
    {
     "data": {
      "text/html": [
       "<span class=\"tex2jax_ignore\"><svg xmlns=\"http://www.w3.org/2000/svg\" xmlns:xlink=\"http://www.w3.org/1999/xlink\" xml:lang=\"en\" id=\"608020d1694b4854b75be0a40a34dc43-0\" class=\"displacy\" width=\"4250\" height=\"737.0\" direction=\"ltr\" style=\"max-width: none; height: 737.0px; color: #000000; background: #ffffff; font-family: Arial; direction: ltr\">\n",
       "<text class=\"displacy-token\" fill=\"currentColor\" text-anchor=\"middle\" y=\"647.0\">\n",
       "    <tspan class=\"displacy-word\" fill=\"currentColor\" x=\"50\">The</tspan>\n",
       "    <tspan class=\"displacy-tag\" dy=\"2em\" fill=\"currentColor\" x=\"50\">DET</tspan>\n",
       "</text>\n",
       "\n",
       "<text class=\"displacy-token\" fill=\"currentColor\" text-anchor=\"middle\" y=\"647.0\">\n",
       "    <tspan class=\"displacy-word\" fill=\"currentColor\" x=\"200\">Federal</tspan>\n",
       "    <tspan class=\"displacy-tag\" dy=\"2em\" fill=\"currentColor\" x=\"200\">PROPN</tspan>\n",
       "</text>\n",
       "\n",
       "<text class=\"displacy-token\" fill=\"currentColor\" text-anchor=\"middle\" y=\"647.0\">\n",
       "    <tspan class=\"displacy-word\" fill=\"currentColor\" x=\"350\">Bureau</tspan>\n",
       "    <tspan class=\"displacy-tag\" dy=\"2em\" fill=\"currentColor\" x=\"350\">PROPN</tspan>\n",
       "</text>\n",
       "\n",
       "<text class=\"displacy-token\" fill=\"currentColor\" text-anchor=\"middle\" y=\"647.0\">\n",
       "    <tspan class=\"displacy-word\" fill=\"currentColor\" x=\"500\">of</tspan>\n",
       "    <tspan class=\"displacy-tag\" dy=\"2em\" fill=\"currentColor\" x=\"500\">ADP</tspan>\n",
       "</text>\n",
       "\n",
       "<text class=\"displacy-token\" fill=\"currentColor\" text-anchor=\"middle\" y=\"647.0\">\n",
       "    <tspan class=\"displacy-word\" fill=\"currentColor\" x=\"650\">Investigation</tspan>\n",
       "    <tspan class=\"displacy-tag\" dy=\"2em\" fill=\"currentColor\" x=\"650\">PROPN</tspan>\n",
       "</text>\n",
       "\n",
       "<text class=\"displacy-token\" fill=\"currentColor\" text-anchor=\"middle\" y=\"647.0\">\n",
       "    <tspan class=\"displacy-word\" fill=\"currentColor\" x=\"800\">has</tspan>\n",
       "    <tspan class=\"displacy-tag\" dy=\"2em\" fill=\"currentColor\" x=\"800\">AUX</tspan>\n",
       "</text>\n",
       "\n",
       "<text class=\"displacy-token\" fill=\"currentColor\" text-anchor=\"middle\" y=\"647.0\">\n",
       "    <tspan class=\"displacy-word\" fill=\"currentColor\" x=\"950\">been</tspan>\n",
       "    <tspan class=\"displacy-tag\" dy=\"2em\" fill=\"currentColor\" x=\"950\">AUX</tspan>\n",
       "</text>\n",
       "\n",
       "<text class=\"displacy-token\" fill=\"currentColor\" text-anchor=\"middle\" y=\"647.0\">\n",
       "    <tspan class=\"displacy-word\" fill=\"currentColor\" x=\"1100\">ordered</tspan>\n",
       "    <tspan class=\"displacy-tag\" dy=\"2em\" fill=\"currentColor\" x=\"1100\">VERB</tspan>\n",
       "</text>\n",
       "\n",
       "<text class=\"displacy-token\" fill=\"currentColor\" text-anchor=\"middle\" y=\"647.0\">\n",
       "    <tspan class=\"displacy-word\" fill=\"currentColor\" x=\"1250\">to</tspan>\n",
       "    <tspan class=\"displacy-tag\" dy=\"2em\" fill=\"currentColor\" x=\"1250\">PART</tspan>\n",
       "</text>\n",
       "\n",
       "<text class=\"displacy-token\" fill=\"currentColor\" text-anchor=\"middle\" y=\"647.0\">\n",
       "    <tspan class=\"displacy-word\" fill=\"currentColor\" x=\"1400\">track</tspan>\n",
       "    <tspan class=\"displacy-tag\" dy=\"2em\" fill=\"currentColor\" x=\"1400\">VERB</tspan>\n",
       "</text>\n",
       "\n",
       "<text class=\"displacy-token\" fill=\"currentColor\" text-anchor=\"middle\" y=\"647.0\">\n",
       "    <tspan class=\"displacy-word\" fill=\"currentColor\" x=\"1550\">down</tspan>\n",
       "    <tspan class=\"displacy-tag\" dy=\"2em\" fill=\"currentColor\" x=\"1550\">ADP</tspan>\n",
       "</text>\n",
       "\n",
       "<text class=\"displacy-token\" fill=\"currentColor\" text-anchor=\"middle\" y=\"647.0\">\n",
       "    <tspan class=\"displacy-word\" fill=\"currentColor\" x=\"1700\">as</tspan>\n",
       "    <tspan class=\"displacy-tag\" dy=\"2em\" fill=\"currentColor\" x=\"1700\">ADV</tspan>\n",
       "</text>\n",
       "\n",
       "<text class=\"displacy-token\" fill=\"currentColor\" text-anchor=\"middle\" y=\"647.0\">\n",
       "    <tspan class=\"displacy-word\" fill=\"currentColor\" x=\"1850\">many</tspan>\n",
       "    <tspan class=\"displacy-tag\" dy=\"2em\" fill=\"currentColor\" x=\"1850\">ADJ</tspan>\n",
       "</text>\n",
       "\n",
       "<text class=\"displacy-token\" fill=\"currentColor\" text-anchor=\"middle\" y=\"647.0\">\n",
       "    <tspan class=\"displacy-word\" fill=\"currentColor\" x=\"2000\">as</tspan>\n",
       "    <tspan class=\"displacy-tag\" dy=\"2em\" fill=\"currentColor\" x=\"2000\">ADP</tspan>\n",
       "</text>\n",
       "\n",
       "<text class=\"displacy-token\" fill=\"currentColor\" text-anchor=\"middle\" y=\"647.0\">\n",
       "    <tspan class=\"displacy-word\" fill=\"currentColor\" x=\"2150\">3,000</tspan>\n",
       "    <tspan class=\"displacy-tag\" dy=\"2em\" fill=\"currentColor\" x=\"2150\">NUM</tspan>\n",
       "</text>\n",
       "\n",
       "<text class=\"displacy-token\" fill=\"currentColor\" text-anchor=\"middle\" y=\"647.0\">\n",
       "    <tspan class=\"displacy-word\" fill=\"currentColor\" x=\"2300\">Iraqis</tspan>\n",
       "    <tspan class=\"displacy-tag\" dy=\"2em\" fill=\"currentColor\" x=\"2300\">PROPN</tspan>\n",
       "</text>\n",
       "\n",
       "<text class=\"displacy-token\" fill=\"currentColor\" text-anchor=\"middle\" y=\"647.0\">\n",
       "    <tspan class=\"displacy-word\" fill=\"currentColor\" x=\"2450\">in</tspan>\n",
       "    <tspan class=\"displacy-tag\" dy=\"2em\" fill=\"currentColor\" x=\"2450\">ADP</tspan>\n",
       "</text>\n",
       "\n",
       "<text class=\"displacy-token\" fill=\"currentColor\" text-anchor=\"middle\" y=\"647.0\">\n",
       "    <tspan class=\"displacy-word\" fill=\"currentColor\" x=\"2600\">this</tspan>\n",
       "    <tspan class=\"displacy-tag\" dy=\"2em\" fill=\"currentColor\" x=\"2600\">DET</tspan>\n",
       "</text>\n",
       "\n",
       "<text class=\"displacy-token\" fill=\"currentColor\" text-anchor=\"middle\" y=\"647.0\">\n",
       "    <tspan class=\"displacy-word\" fill=\"currentColor\" x=\"2750\">country</tspan>\n",
       "    <tspan class=\"displacy-tag\" dy=\"2em\" fill=\"currentColor\" x=\"2750\">NOUN</tspan>\n",
       "</text>\n",
       "\n",
       "<text class=\"displacy-token\" fill=\"currentColor\" text-anchor=\"middle\" y=\"647.0\">\n",
       "    <tspan class=\"displacy-word\" fill=\"currentColor\" x=\"2900\">whose</tspan>\n",
       "    <tspan class=\"displacy-tag\" dy=\"2em\" fill=\"currentColor\" x=\"2900\">DET</tspan>\n",
       "</text>\n",
       "\n",
       "<text class=\"displacy-token\" fill=\"currentColor\" text-anchor=\"middle\" y=\"647.0\">\n",
       "    <tspan class=\"displacy-word\" fill=\"currentColor\" x=\"3050\">visas</tspan>\n",
       "    <tspan class=\"displacy-tag\" dy=\"2em\" fill=\"currentColor\" x=\"3050\">NOUN</tspan>\n",
       "</text>\n",
       "\n",
       "<text class=\"displacy-token\" fill=\"currentColor\" text-anchor=\"middle\" y=\"647.0\">\n",
       "    <tspan class=\"displacy-word\" fill=\"currentColor\" x=\"3200\">have</tspan>\n",
       "    <tspan class=\"displacy-tag\" dy=\"2em\" fill=\"currentColor\" x=\"3200\">AUX</tspan>\n",
       "</text>\n",
       "\n",
       "<text class=\"displacy-token\" fill=\"currentColor\" text-anchor=\"middle\" y=\"647.0\">\n",
       "    <tspan class=\"displacy-word\" fill=\"currentColor\" x=\"3350\">expired,</tspan>\n",
       "    <tspan class=\"displacy-tag\" dy=\"2em\" fill=\"currentColor\" x=\"3350\">VERB</tspan>\n",
       "</text>\n",
       "\n",
       "<text class=\"displacy-token\" fill=\"currentColor\" text-anchor=\"middle\" y=\"647.0\">\n",
       "    <tspan class=\"displacy-word\" fill=\"currentColor\" x=\"3500\">the</tspan>\n",
       "    <tspan class=\"displacy-tag\" dy=\"2em\" fill=\"currentColor\" x=\"3500\">DET</tspan>\n",
       "</text>\n",
       "\n",
       "<text class=\"displacy-token\" fill=\"currentColor\" text-anchor=\"middle\" y=\"647.0\">\n",
       "    <tspan class=\"displacy-word\" fill=\"currentColor\" x=\"3650\">Justice</tspan>\n",
       "    <tspan class=\"displacy-tag\" dy=\"2em\" fill=\"currentColor\" x=\"3650\">PROPN</tspan>\n",
       "</text>\n",
       "\n",
       "<text class=\"displacy-token\" fill=\"currentColor\" text-anchor=\"middle\" y=\"647.0\">\n",
       "    <tspan class=\"displacy-word\" fill=\"currentColor\" x=\"3800\">Department</tspan>\n",
       "    <tspan class=\"displacy-tag\" dy=\"2em\" fill=\"currentColor\" x=\"3800\">PROPN</tspan>\n",
       "</text>\n",
       "\n",
       "<text class=\"displacy-token\" fill=\"currentColor\" text-anchor=\"middle\" y=\"647.0\">\n",
       "    <tspan class=\"displacy-word\" fill=\"currentColor\" x=\"3950\">said</tspan>\n",
       "    <tspan class=\"displacy-tag\" dy=\"2em\" fill=\"currentColor\" x=\"3950\">VERB</tspan>\n",
       "</text>\n",
       "\n",
       "<text class=\"displacy-token\" fill=\"currentColor\" text-anchor=\"middle\" y=\"647.0\">\n",
       "    <tspan class=\"displacy-word\" fill=\"currentColor\" x=\"4100\">yesterday.</tspan>\n",
       "    <tspan class=\"displacy-tag\" dy=\"2em\" fill=\"currentColor\" x=\"4100\">NOUN</tspan>\n",
       "</text>\n",
       "\n",
       "<g class=\"displacy-arrow\">\n",
       "    <path class=\"displacy-arc\" id=\"arrow-608020d1694b4854b75be0a40a34dc43-0-0\" stroke-width=\"2px\" d=\"M62,602.0 62,552.0 332.0,552.0 332.0,602.0\" fill=\"none\" stroke=\"currentColor\"/>\n",
       "    <text dy=\"1.25em\" style=\"font-size: 0.8em; letter-spacing: 1px\">\n",
       "        <textPath xlink:href=\"#arrow-608020d1694b4854b75be0a40a34dc43-0-0\" class=\"displacy-label\" startOffset=\"50%\" side=\"left\" fill=\"currentColor\" text-anchor=\"middle\">det</textPath>\n",
       "    </text>\n",
       "    <path class=\"displacy-arrowhead\" d=\"M62,604.0 L58,596.0 66,596.0\" fill=\"currentColor\"/>\n",
       "</g>\n",
       "\n",
       "<g class=\"displacy-arrow\">\n",
       "    <path class=\"displacy-arc\" id=\"arrow-608020d1694b4854b75be0a40a34dc43-0-1\" stroke-width=\"2px\" d=\"M212,602.0 212,577.0 329.0,577.0 329.0,602.0\" fill=\"none\" stroke=\"currentColor\"/>\n",
       "    <text dy=\"1.25em\" style=\"font-size: 0.8em; letter-spacing: 1px\">\n",
       "        <textPath xlink:href=\"#arrow-608020d1694b4854b75be0a40a34dc43-0-1\" class=\"displacy-label\" startOffset=\"50%\" side=\"left\" fill=\"currentColor\" text-anchor=\"middle\">compound</textPath>\n",
       "    </text>\n",
       "    <path class=\"displacy-arrowhead\" d=\"M212,604.0 L208,596.0 216,596.0\" fill=\"currentColor\"/>\n",
       "</g>\n",
       "\n",
       "<g class=\"displacy-arrow\">\n",
       "    <path class=\"displacy-arc\" id=\"arrow-608020d1694b4854b75be0a40a34dc43-0-2\" stroke-width=\"2px\" d=\"M362,602.0 362,477.0 1091.0,477.0 1091.0,602.0\" fill=\"none\" stroke=\"currentColor\"/>\n",
       "    <text dy=\"1.25em\" style=\"font-size: 0.8em; letter-spacing: 1px\">\n",
       "        <textPath xlink:href=\"#arrow-608020d1694b4854b75be0a40a34dc43-0-2\" class=\"displacy-label\" startOffset=\"50%\" side=\"left\" fill=\"currentColor\" text-anchor=\"middle\">nsubjpass</textPath>\n",
       "    </text>\n",
       "    <path class=\"displacy-arrowhead\" d=\"M362,604.0 L358,596.0 366,596.0\" fill=\"currentColor\"/>\n",
       "</g>\n",
       "\n",
       "<g class=\"displacy-arrow\">\n",
       "    <path class=\"displacy-arc\" id=\"arrow-608020d1694b4854b75be0a40a34dc43-0-3\" stroke-width=\"2px\" d=\"M362,602.0 362,577.0 479.0,577.0 479.0,602.0\" fill=\"none\" stroke=\"currentColor\"/>\n",
       "    <text dy=\"1.25em\" style=\"font-size: 0.8em; letter-spacing: 1px\">\n",
       "        <textPath xlink:href=\"#arrow-608020d1694b4854b75be0a40a34dc43-0-3\" class=\"displacy-label\" startOffset=\"50%\" side=\"left\" fill=\"currentColor\" text-anchor=\"middle\">prep</textPath>\n",
       "    </text>\n",
       "    <path class=\"displacy-arrowhead\" d=\"M479.0,604.0 L483.0,596.0 475.0,596.0\" fill=\"currentColor\"/>\n",
       "</g>\n",
       "\n",
       "<g class=\"displacy-arrow\">\n",
       "    <path class=\"displacy-arc\" id=\"arrow-608020d1694b4854b75be0a40a34dc43-0-4\" stroke-width=\"2px\" d=\"M512,602.0 512,577.0 629.0,577.0 629.0,602.0\" fill=\"none\" stroke=\"currentColor\"/>\n",
       "    <text dy=\"1.25em\" style=\"font-size: 0.8em; letter-spacing: 1px\">\n",
       "        <textPath xlink:href=\"#arrow-608020d1694b4854b75be0a40a34dc43-0-4\" class=\"displacy-label\" startOffset=\"50%\" side=\"left\" fill=\"currentColor\" text-anchor=\"middle\">pobj</textPath>\n",
       "    </text>\n",
       "    <path class=\"displacy-arrowhead\" d=\"M629.0,604.0 L633.0,596.0 625.0,596.0\" fill=\"currentColor\"/>\n",
       "</g>\n",
       "\n",
       "<g class=\"displacy-arrow\">\n",
       "    <path class=\"displacy-arc\" id=\"arrow-608020d1694b4854b75be0a40a34dc43-0-5\" stroke-width=\"2px\" d=\"M812,602.0 812,552.0 1082.0,552.0 1082.0,602.0\" fill=\"none\" stroke=\"currentColor\"/>\n",
       "    <text dy=\"1.25em\" style=\"font-size: 0.8em; letter-spacing: 1px\">\n",
       "        <textPath xlink:href=\"#arrow-608020d1694b4854b75be0a40a34dc43-0-5\" class=\"displacy-label\" startOffset=\"50%\" side=\"left\" fill=\"currentColor\" text-anchor=\"middle\">aux</textPath>\n",
       "    </text>\n",
       "    <path class=\"displacy-arrowhead\" d=\"M812,604.0 L808,596.0 816,596.0\" fill=\"currentColor\"/>\n",
       "</g>\n",
       "\n",
       "<g class=\"displacy-arrow\">\n",
       "    <path class=\"displacy-arc\" id=\"arrow-608020d1694b4854b75be0a40a34dc43-0-6\" stroke-width=\"2px\" d=\"M962,602.0 962,577.0 1079.0,577.0 1079.0,602.0\" fill=\"none\" stroke=\"currentColor\"/>\n",
       "    <text dy=\"1.25em\" style=\"font-size: 0.8em; letter-spacing: 1px\">\n",
       "        <textPath xlink:href=\"#arrow-608020d1694b4854b75be0a40a34dc43-0-6\" class=\"displacy-label\" startOffset=\"50%\" side=\"left\" fill=\"currentColor\" text-anchor=\"middle\">auxpass</textPath>\n",
       "    </text>\n",
       "    <path class=\"displacy-arrowhead\" d=\"M962,604.0 L958,596.0 966,596.0\" fill=\"currentColor\"/>\n",
       "</g>\n",
       "\n",
       "<g class=\"displacy-arrow\">\n",
       "    <path class=\"displacy-arc\" id=\"arrow-608020d1694b4854b75be0a40a34dc43-0-7\" stroke-width=\"2px\" d=\"M1112,602.0 1112,402.0 3950.0,402.0 3950.0,602.0\" fill=\"none\" stroke=\"currentColor\"/>\n",
       "    <text dy=\"1.25em\" style=\"font-size: 0.8em; letter-spacing: 1px\">\n",
       "        <textPath xlink:href=\"#arrow-608020d1694b4854b75be0a40a34dc43-0-7\" class=\"displacy-label\" startOffset=\"50%\" side=\"left\" fill=\"currentColor\" text-anchor=\"middle\">ccomp</textPath>\n",
       "    </text>\n",
       "    <path class=\"displacy-arrowhead\" d=\"M1112,604.0 L1108,596.0 1116,596.0\" fill=\"currentColor\"/>\n",
       "</g>\n",
       "\n",
       "<g class=\"displacy-arrow\">\n",
       "    <path class=\"displacy-arc\" id=\"arrow-608020d1694b4854b75be0a40a34dc43-0-8\" stroke-width=\"2px\" d=\"M1262,602.0 1262,577.0 1379.0,577.0 1379.0,602.0\" fill=\"none\" stroke=\"currentColor\"/>\n",
       "    <text dy=\"1.25em\" style=\"font-size: 0.8em; letter-spacing: 1px\">\n",
       "        <textPath xlink:href=\"#arrow-608020d1694b4854b75be0a40a34dc43-0-8\" class=\"displacy-label\" startOffset=\"50%\" side=\"left\" fill=\"currentColor\" text-anchor=\"middle\">aux</textPath>\n",
       "    </text>\n",
       "    <path class=\"displacy-arrowhead\" d=\"M1262,604.0 L1258,596.0 1266,596.0\" fill=\"currentColor\"/>\n",
       "</g>\n",
       "\n",
       "<g class=\"displacy-arrow\">\n",
       "    <path class=\"displacy-arc\" id=\"arrow-608020d1694b4854b75be0a40a34dc43-0-9\" stroke-width=\"2px\" d=\"M1112,602.0 1112,552.0 1382.0,552.0 1382.0,602.0\" fill=\"none\" stroke=\"currentColor\"/>\n",
       "    <text dy=\"1.25em\" style=\"font-size: 0.8em; letter-spacing: 1px\">\n",
       "        <textPath xlink:href=\"#arrow-608020d1694b4854b75be0a40a34dc43-0-9\" class=\"displacy-label\" startOffset=\"50%\" side=\"left\" fill=\"currentColor\" text-anchor=\"middle\">xcomp</textPath>\n",
       "    </text>\n",
       "    <path class=\"displacy-arrowhead\" d=\"M1382.0,604.0 L1386.0,596.0 1378.0,596.0\" fill=\"currentColor\"/>\n",
       "</g>\n",
       "\n",
       "<g class=\"displacy-arrow\">\n",
       "    <path class=\"displacy-arc\" id=\"arrow-608020d1694b4854b75be0a40a34dc43-0-10\" stroke-width=\"2px\" d=\"M1412,602.0 1412,577.0 1529.0,577.0 1529.0,602.0\" fill=\"none\" stroke=\"currentColor\"/>\n",
       "    <text dy=\"1.25em\" style=\"font-size: 0.8em; letter-spacing: 1px\">\n",
       "        <textPath xlink:href=\"#arrow-608020d1694b4854b75be0a40a34dc43-0-10\" class=\"displacy-label\" startOffset=\"50%\" side=\"left\" fill=\"currentColor\" text-anchor=\"middle\">prt</textPath>\n",
       "    </text>\n",
       "    <path class=\"displacy-arrowhead\" d=\"M1529.0,604.0 L1533.0,596.0 1525.0,596.0\" fill=\"currentColor\"/>\n",
       "</g>\n",
       "\n",
       "<g class=\"displacy-arrow\">\n",
       "    <path class=\"displacy-arc\" id=\"arrow-608020d1694b4854b75be0a40a34dc43-0-11\" stroke-width=\"2px\" d=\"M1712,602.0 1712,527.0 2135.0,527.0 2135.0,602.0\" fill=\"none\" stroke=\"currentColor\"/>\n",
       "    <text dy=\"1.25em\" style=\"font-size: 0.8em; letter-spacing: 1px\">\n",
       "        <textPath xlink:href=\"#arrow-608020d1694b4854b75be0a40a34dc43-0-11\" class=\"displacy-label\" startOffset=\"50%\" side=\"left\" fill=\"currentColor\" text-anchor=\"middle\">advmod</textPath>\n",
       "    </text>\n",
       "    <path class=\"displacy-arrowhead\" d=\"M1712,604.0 L1708,596.0 1716,596.0\" fill=\"currentColor\"/>\n",
       "</g>\n",
       "\n",
       "<g class=\"displacy-arrow\">\n",
       "    <path class=\"displacy-arc\" id=\"arrow-608020d1694b4854b75be0a40a34dc43-0-12\" stroke-width=\"2px\" d=\"M1862,602.0 1862,552.0 2132.0,552.0 2132.0,602.0\" fill=\"none\" stroke=\"currentColor\"/>\n",
       "    <text dy=\"1.25em\" style=\"font-size: 0.8em; letter-spacing: 1px\">\n",
       "        <textPath xlink:href=\"#arrow-608020d1694b4854b75be0a40a34dc43-0-12\" class=\"displacy-label\" startOffset=\"50%\" side=\"left\" fill=\"currentColor\" text-anchor=\"middle\">amod</textPath>\n",
       "    </text>\n",
       "    <path class=\"displacy-arrowhead\" d=\"M1862,604.0 L1858,596.0 1866,596.0\" fill=\"currentColor\"/>\n",
       "</g>\n",
       "\n",
       "<g class=\"displacy-arrow\">\n",
       "    <path class=\"displacy-arc\" id=\"arrow-608020d1694b4854b75be0a40a34dc43-0-13\" stroke-width=\"2px\" d=\"M2012,602.0 2012,577.0 2129.0,577.0 2129.0,602.0\" fill=\"none\" stroke=\"currentColor\"/>\n",
       "    <text dy=\"1.25em\" style=\"font-size: 0.8em; letter-spacing: 1px\">\n",
       "        <textPath xlink:href=\"#arrow-608020d1694b4854b75be0a40a34dc43-0-13\" class=\"displacy-label\" startOffset=\"50%\" side=\"left\" fill=\"currentColor\" text-anchor=\"middle\">quantmod</textPath>\n",
       "    </text>\n",
       "    <path class=\"displacy-arrowhead\" d=\"M2012,604.0 L2008,596.0 2016,596.0\" fill=\"currentColor\"/>\n",
       "</g>\n",
       "\n",
       "<g class=\"displacy-arrow\">\n",
       "    <path class=\"displacy-arc\" id=\"arrow-608020d1694b4854b75be0a40a34dc43-0-14\" stroke-width=\"2px\" d=\"M2162,602.0 2162,577.0 2279.0,577.0 2279.0,602.0\" fill=\"none\" stroke=\"currentColor\"/>\n",
       "    <text dy=\"1.25em\" style=\"font-size: 0.8em; letter-spacing: 1px\">\n",
       "        <textPath xlink:href=\"#arrow-608020d1694b4854b75be0a40a34dc43-0-14\" class=\"displacy-label\" startOffset=\"50%\" side=\"left\" fill=\"currentColor\" text-anchor=\"middle\">nummod</textPath>\n",
       "    </text>\n",
       "    <path class=\"displacy-arrowhead\" d=\"M2162,604.0 L2158,596.0 2166,596.0\" fill=\"currentColor\"/>\n",
       "</g>\n",
       "\n",
       "<g class=\"displacy-arrow\">\n",
       "    <path class=\"displacy-arc\" id=\"arrow-608020d1694b4854b75be0a40a34dc43-0-15\" stroke-width=\"2px\" d=\"M1412,602.0 1412,452.0 2294.0,452.0 2294.0,602.0\" fill=\"none\" stroke=\"currentColor\"/>\n",
       "    <text dy=\"1.25em\" style=\"font-size: 0.8em; letter-spacing: 1px\">\n",
       "        <textPath xlink:href=\"#arrow-608020d1694b4854b75be0a40a34dc43-0-15\" class=\"displacy-label\" startOffset=\"50%\" side=\"left\" fill=\"currentColor\" text-anchor=\"middle\">dobj</textPath>\n",
       "    </text>\n",
       "    <path class=\"displacy-arrowhead\" d=\"M2294.0,604.0 L2298.0,596.0 2290.0,596.0\" fill=\"currentColor\"/>\n",
       "</g>\n",
       "\n",
       "<g class=\"displacy-arrow\">\n",
       "    <path class=\"displacy-arc\" id=\"arrow-608020d1694b4854b75be0a40a34dc43-0-16\" stroke-width=\"2px\" d=\"M1412,602.0 1412,427.0 2447.0,427.0 2447.0,602.0\" fill=\"none\" stroke=\"currentColor\"/>\n",
       "    <text dy=\"1.25em\" style=\"font-size: 0.8em; letter-spacing: 1px\">\n",
       "        <textPath xlink:href=\"#arrow-608020d1694b4854b75be0a40a34dc43-0-16\" class=\"displacy-label\" startOffset=\"50%\" side=\"left\" fill=\"currentColor\" text-anchor=\"middle\">prep</textPath>\n",
       "    </text>\n",
       "    <path class=\"displacy-arrowhead\" d=\"M2447.0,604.0 L2451.0,596.0 2443.0,596.0\" fill=\"currentColor\"/>\n",
       "</g>\n",
       "\n",
       "<g class=\"displacy-arrow\">\n",
       "    <path class=\"displacy-arc\" id=\"arrow-608020d1694b4854b75be0a40a34dc43-0-17\" stroke-width=\"2px\" d=\"M2612,602.0 2612,577.0 2729.0,577.0 2729.0,602.0\" fill=\"none\" stroke=\"currentColor\"/>\n",
       "    <text dy=\"1.25em\" style=\"font-size: 0.8em; letter-spacing: 1px\">\n",
       "        <textPath xlink:href=\"#arrow-608020d1694b4854b75be0a40a34dc43-0-17\" class=\"displacy-label\" startOffset=\"50%\" side=\"left\" fill=\"currentColor\" text-anchor=\"middle\">det</textPath>\n",
       "    </text>\n",
       "    <path class=\"displacy-arrowhead\" d=\"M2612,604.0 L2608,596.0 2616,596.0\" fill=\"currentColor\"/>\n",
       "</g>\n",
       "\n",
       "<g class=\"displacy-arrow\">\n",
       "    <path class=\"displacy-arc\" id=\"arrow-608020d1694b4854b75be0a40a34dc43-0-18\" stroke-width=\"2px\" d=\"M2462,602.0 2462,552.0 2732.0,552.0 2732.0,602.0\" fill=\"none\" stroke=\"currentColor\"/>\n",
       "    <text dy=\"1.25em\" style=\"font-size: 0.8em; letter-spacing: 1px\">\n",
       "        <textPath xlink:href=\"#arrow-608020d1694b4854b75be0a40a34dc43-0-18\" class=\"displacy-label\" startOffset=\"50%\" side=\"left\" fill=\"currentColor\" text-anchor=\"middle\">pobj</textPath>\n",
       "    </text>\n",
       "    <path class=\"displacy-arrowhead\" d=\"M2732.0,604.0 L2736.0,596.0 2728.0,596.0\" fill=\"currentColor\"/>\n",
       "</g>\n",
       "\n",
       "<g class=\"displacy-arrow\">\n",
       "    <path class=\"displacy-arc\" id=\"arrow-608020d1694b4854b75be0a40a34dc43-0-19\" stroke-width=\"2px\" d=\"M2912,602.0 2912,577.0 3029.0,577.0 3029.0,602.0\" fill=\"none\" stroke=\"currentColor\"/>\n",
       "    <text dy=\"1.25em\" style=\"font-size: 0.8em; letter-spacing: 1px\">\n",
       "        <textPath xlink:href=\"#arrow-608020d1694b4854b75be0a40a34dc43-0-19\" class=\"displacy-label\" startOffset=\"50%\" side=\"left\" fill=\"currentColor\" text-anchor=\"middle\">poss</textPath>\n",
       "    </text>\n",
       "    <path class=\"displacy-arrowhead\" d=\"M2912,604.0 L2908,596.0 2916,596.0\" fill=\"currentColor\"/>\n",
       "</g>\n",
       "\n",
       "<g class=\"displacy-arrow\">\n",
       "    <path class=\"displacy-arc\" id=\"arrow-608020d1694b4854b75be0a40a34dc43-0-20\" stroke-width=\"2px\" d=\"M3062,602.0 3062,552.0 3332.0,552.0 3332.0,602.0\" fill=\"none\" stroke=\"currentColor\"/>\n",
       "    <text dy=\"1.25em\" style=\"font-size: 0.8em; letter-spacing: 1px\">\n",
       "        <textPath xlink:href=\"#arrow-608020d1694b4854b75be0a40a34dc43-0-20\" class=\"displacy-label\" startOffset=\"50%\" side=\"left\" fill=\"currentColor\" text-anchor=\"middle\">nsubj</textPath>\n",
       "    </text>\n",
       "    <path class=\"displacy-arrowhead\" d=\"M3062,604.0 L3058,596.0 3066,596.0\" fill=\"currentColor\"/>\n",
       "</g>\n",
       "\n",
       "<g class=\"displacy-arrow\">\n",
       "    <path class=\"displacy-arc\" id=\"arrow-608020d1694b4854b75be0a40a34dc43-0-21\" stroke-width=\"2px\" d=\"M3212,602.0 3212,577.0 3329.0,577.0 3329.0,602.0\" fill=\"none\" stroke=\"currentColor\"/>\n",
       "    <text dy=\"1.25em\" style=\"font-size: 0.8em; letter-spacing: 1px\">\n",
       "        <textPath xlink:href=\"#arrow-608020d1694b4854b75be0a40a34dc43-0-21\" class=\"displacy-label\" startOffset=\"50%\" side=\"left\" fill=\"currentColor\" text-anchor=\"middle\">aux</textPath>\n",
       "    </text>\n",
       "    <path class=\"displacy-arrowhead\" d=\"M3212,604.0 L3208,596.0 3216,596.0\" fill=\"currentColor\"/>\n",
       "</g>\n",
       "\n",
       "<g class=\"displacy-arrow\">\n",
       "    <path class=\"displacy-arc\" id=\"arrow-608020d1694b4854b75be0a40a34dc43-0-22\" stroke-width=\"2px\" d=\"M2762,602.0 2762,502.0 3338.0,502.0 3338.0,602.0\" fill=\"none\" stroke=\"currentColor\"/>\n",
       "    <text dy=\"1.25em\" style=\"font-size: 0.8em; letter-spacing: 1px\">\n",
       "        <textPath xlink:href=\"#arrow-608020d1694b4854b75be0a40a34dc43-0-22\" class=\"displacy-label\" startOffset=\"50%\" side=\"left\" fill=\"currentColor\" text-anchor=\"middle\">relcl</textPath>\n",
       "    </text>\n",
       "    <path class=\"displacy-arrowhead\" d=\"M3338.0,604.0 L3342.0,596.0 3334.0,596.0\" fill=\"currentColor\"/>\n",
       "</g>\n",
       "\n",
       "<g class=\"displacy-arrow\">\n",
       "    <path class=\"displacy-arc\" id=\"arrow-608020d1694b4854b75be0a40a34dc43-0-23\" stroke-width=\"2px\" d=\"M3512,602.0 3512,552.0 3782.0,552.0 3782.0,602.0\" fill=\"none\" stroke=\"currentColor\"/>\n",
       "    <text dy=\"1.25em\" style=\"font-size: 0.8em; letter-spacing: 1px\">\n",
       "        <textPath xlink:href=\"#arrow-608020d1694b4854b75be0a40a34dc43-0-23\" class=\"displacy-label\" startOffset=\"50%\" side=\"left\" fill=\"currentColor\" text-anchor=\"middle\">det</textPath>\n",
       "    </text>\n",
       "    <path class=\"displacy-arrowhead\" d=\"M3512,604.0 L3508,596.0 3516,596.0\" fill=\"currentColor\"/>\n",
       "</g>\n",
       "\n",
       "<g class=\"displacy-arrow\">\n",
       "    <path class=\"displacy-arc\" id=\"arrow-608020d1694b4854b75be0a40a34dc43-0-24\" stroke-width=\"2px\" d=\"M3662,602.0 3662,577.0 3779.0,577.0 3779.0,602.0\" fill=\"none\" stroke=\"currentColor\"/>\n",
       "    <text dy=\"1.25em\" style=\"font-size: 0.8em; letter-spacing: 1px\">\n",
       "        <textPath xlink:href=\"#arrow-608020d1694b4854b75be0a40a34dc43-0-24\" class=\"displacy-label\" startOffset=\"50%\" side=\"left\" fill=\"currentColor\" text-anchor=\"middle\">compound</textPath>\n",
       "    </text>\n",
       "    <path class=\"displacy-arrowhead\" d=\"M3662,604.0 L3658,596.0 3666,596.0\" fill=\"currentColor\"/>\n",
       "</g>\n",
       "\n",
       "<g class=\"displacy-arrow\">\n",
       "    <path class=\"displacy-arc\" id=\"arrow-608020d1694b4854b75be0a40a34dc43-0-25\" stroke-width=\"2px\" d=\"M3812,602.0 3812,577.0 3929.0,577.0 3929.0,602.0\" fill=\"none\" stroke=\"currentColor\"/>\n",
       "    <text dy=\"1.25em\" style=\"font-size: 0.8em; letter-spacing: 1px\">\n",
       "        <textPath xlink:href=\"#arrow-608020d1694b4854b75be0a40a34dc43-0-25\" class=\"displacy-label\" startOffset=\"50%\" side=\"left\" fill=\"currentColor\" text-anchor=\"middle\">nsubj</textPath>\n",
       "    </text>\n",
       "    <path class=\"displacy-arrowhead\" d=\"M3812,604.0 L3808,596.0 3816,596.0\" fill=\"currentColor\"/>\n",
       "</g>\n",
       "\n",
       "<g class=\"displacy-arrow\">\n",
       "    <path class=\"displacy-arc\" id=\"arrow-608020d1694b4854b75be0a40a34dc43-0-26\" stroke-width=\"2px\" d=\"M3962,602.0 3962,577.0 4079.0,577.0 4079.0,602.0\" fill=\"none\" stroke=\"currentColor\"/>\n",
       "    <text dy=\"1.25em\" style=\"font-size: 0.8em; letter-spacing: 1px\">\n",
       "        <textPath xlink:href=\"#arrow-608020d1694b4854b75be0a40a34dc43-0-26\" class=\"displacy-label\" startOffset=\"50%\" side=\"left\" fill=\"currentColor\" text-anchor=\"middle\">npadvmod</textPath>\n",
       "    </text>\n",
       "    <path class=\"displacy-arrowhead\" d=\"M4079.0,604.0 L4083.0,596.0 4075.0,596.0\" fill=\"currentColor\"/>\n",
       "</g>\n",
       "</svg></span>"
      ],
      "text/plain": [
       "<IPython.core.display.HTML object>"
      ]
     },
     "metadata": {},
     "output_type": "display_data"
    }
   ],
   "source": [
    "displacy.render(doc, style='dep', options={'compact': True})"
   ]
  },
  {
   "cell_type": "markdown",
   "metadata": {},
   "source": [
    "The syntactic dependencies are visualised using lines that lead from the __head__ _Token_ to the _Token_ governed by that head.\n",
    "\n",
    "The dependency tags are based on [universal dependencies](https://universaldependencies.org/), a framework for describing grammatical features across languages.\n",
    "\n",
    "If you don't know what a particular tag means, spaCy provides a function for explaining the tags, `explain()`, which takes a tag as input (note that the tags are case-sensitive)."
   ]
  },
  {
   "cell_type": "code",
   "execution_count": 19,
   "metadata": {},
   "outputs": [
    {
     "data": {
      "text/plain": [
       "'object of preposition'"
      ]
     },
     "execution_count": 19,
     "metadata": {},
     "output_type": "execute_result"
    }
   ],
   "source": [
    "spacy.explain('pobj')"
   ]
  },
  {
   "cell_type": "markdown",
   "metadata": {
    "nbsphinx": "hidden"
   },
   "source": [
    "### Quick exercise\n",
    "\n",
    "Choose a tag that you don't know from the examples above and ask spaCy for an explanation using the `explain()` function.\n",
    "\n",
    "Input the tag as a string – don't forget the quotation marks!"
   ]
  },
  {
   "cell_type": "code",
   "execution_count": 20,
   "metadata": {
    "nbsphinx": "hidden"
   },
   "outputs": [],
   "source": [
    "### Enter your code below this line and run the cell (press Shift and Enter at the same time)\n"
   ]
  },
  {
   "cell_type": "markdown",
   "metadata": {},
   "source": [
    "Finally, if you wonder about the underscores `_` in the attribute names: spaCy encodes all strings by mapping them to hash values (a numerical representation) for computational efficiency.\n",
    "\n",
    "Let's print out the first Token in the Doc `[0]` and its dependencies to examine how this works."
   ]
  },
  {
   "cell_type": "code",
   "execution_count": 21,
   "metadata": {},
   "outputs": [
    {
     "name": "stdout",
     "output_type": "stream",
     "text": [
      "The 415 det\n"
     ]
    }
   ],
   "source": [
    "print(doc[0], doc[0].dep, doc[0].dep_)"
   ]
  },
  {
   "cell_type": "markdown",
   "metadata": {},
   "source": [
    "As you can see, the hash value 415 is reserved for the tag corresponding to a determiner (`det`). \n",
    "\n",
    "If you want human-readable output for dependency parsing and spaCy returns sequences of numbers, then you most likely forgot to add the underscore to the attribute name."
   ]
  },
  {
   "cell_type": "markdown",
   "metadata": {},
   "source": [
    "### Sentence segmentation\n",
    "\n",
    "spaCy also segments _Doc_ objects into sentences as a part of [_sentence segmentation_](https://spacy.io/usage/linguistic-features#section-sbd).\n",
    "\n",
    "Sentence segmentation imposes additional structure to larger texts. By determining the boundaries of a sentence, we can constrain tasks such as dependency parsing to individual sentences.\n",
    "\n",
    "spaCy provides access to the results of sentence segmentation via the attribute `sents` of a _Doc_ object.\n",
    "\n",
    "Let's loop over the sentences contained in the _Doc_ object `doc` and count them using Python's `enumerate()` function.\n",
    "\n",
    "Using the `enumerate()` function returns a count that increases with each item in the loop. \n",
    "\n",
    "We assign this count to the variable `number`, whereas each sentence is stored under `sent`. We then print out both at the same time using the `print()` function."
   ]
  },
  {
   "cell_type": "code",
   "execution_count": 22,
   "metadata": {},
   "outputs": [
    {
     "name": "stdout",
     "output_type": "stream",
     "text": [
      "0 The Federal Bureau of Investigation has been ordered to track down as many as 3,000 Iraqis in this country whose visas have expired, the Justice Department said yesterday.\n"
     ]
    }
   ],
   "source": [
    "# Loop over sentences in the Doc object and count them using enumerate()\n",
    "for number, sent in enumerate(doc.sents):\n",
    "    \n",
    "    # Print the token and its dependency tag\n",
    "    print(number, sent)"
   ]
  },
  {
   "cell_type": "markdown",
   "metadata": {},
   "source": [
    "This only returns a single sentence, but the _Doc_ object could easily hold a longer text with multiple sentences, such as an entire newspaper article."
   ]
  },
  {
   "cell_type": "markdown",
   "metadata": {},
   "source": [
    "### Lemmatization\n",
    "\n",
    "A lemma is the base form of a word. Keep in mind that unless explicitly instructed, computers cannot tell the difference between singular and plural forms of words, but treat them as distinct tokens, because their forms differ. \n",
    "\n",
    "If one wants to count the occurrences of words, for instance, a process known as _lemmatization_ is needed to group together the different forms of the same token.\n",
    "\n",
    "Lemmas are available for each _Token_ under the attribute `lemma_`."
   ]
  },
  {
   "cell_type": "code",
   "execution_count": 23,
   "metadata": {},
   "outputs": [
    {
     "name": "stdout",
     "output_type": "stream",
     "text": [
      "The the\n",
      "Federal Federal\n",
      "Bureau Bureau\n",
      "of of\n",
      "Investigation Investigation\n",
      "has have\n",
      "been be\n",
      "ordered order\n",
      "to to\n",
      "track track\n",
      "down down\n",
      "as as\n",
      "many many\n",
      "as as\n",
      "3,000 3,000\n",
      "Iraqis Iraqis\n",
      "in in\n",
      "this this\n",
      "country country\n",
      "whose whose\n",
      "visas visa\n",
      "have have\n",
      "expired expire\n",
      ", ,\n",
      "the the\n",
      "Justice Justice\n",
      "Department Department\n",
      "said say\n",
      "yesterday yesterday\n",
      ". .\n"
     ]
    }
   ],
   "source": [
    "# Loop over items in the Doc object, using the variable 'token' to refer to items in the list\n",
    "for token in doc:\n",
    "    \n",
    "    # Print the token and its dependency tag\n",
    "    print(token, token.lemma_)"
   ]
  },
  {
   "cell_type": "markdown",
   "metadata": {},
   "source": [
    "### Named entity recognition (NER)\n",
    "\n",
    "Named entity recognition (NER) is the task of recognising and classifying entities named in a text. \n",
    "\n",
    "spaCy can recognise the [named entities annotated in the OntoNotes 5 corpus](https://spacy.io/api/annotation#named-entities), such as persons, geographic locations and products, to name but a few examples.\n",
    "\n",
    "Instead of looping over *Tokens* in the *Doc* object, we can use the *Doc* object's `.ents` attribute to get the entities. \n",
    "\n",
    "This returns a _Span_ object, which is a sequence of _Tokens_, as many named entities span multiple _Tokens_. \n",
    "\n",
    "The named entities and their types are stored under the attributes `.text` and `.label_`.\n",
    "\n",
    "Let's print out the named entities in the _Doc_ object `doc`."
   ]
  },
  {
   "cell_type": "code",
   "execution_count": 24,
   "metadata": {},
   "outputs": [
    {
     "name": "stdout",
     "output_type": "stream",
     "text": [
      "The Federal Bureau of Investigation ORG\n",
      "as many as 3,000 CARDINAL\n",
      "Iraqis NORP\n",
      "the Justice Department ORG\n",
      "yesterday DATE\n"
     ]
    }
   ],
   "source": [
    "# Loop over the named entities in the Doc object \n",
    "for ent in doc.ents:\n",
    "\n",
    "    # Print the named entity and its label\n",
    "    print(ent.text, ent.label_)"
   ]
  },
  {
   "cell_type": "markdown",
   "metadata": {},
   "source": [
    "The majority of named entities identified in the _Doc_ consist of multiple _Tokens_, which is why they are represented as _Span_ objects.\n",
    "\n",
    "We can verify this by accessing the first named entity under `doc.ents`, which can be found at position `0`, because Python starts counting from zero, and feeding this object to Python's `type()` function."
   ]
  },
  {
   "cell_type": "code",
   "execution_count": 25,
   "metadata": {},
   "outputs": [
    {
     "data": {
      "text/plain": [
       "spacy.tokens.span.Span"
      ]
     },
     "execution_count": 25,
     "metadata": {},
     "output_type": "execute_result"
    }
   ],
   "source": [
    "# Check the type of the object used to store named entities\n",
    "type(doc.ents[0])"
   ]
  },
  {
   "cell_type": "markdown",
   "metadata": {},
   "source": [
    "spaCy [_Span_](https://spacy.io/api/span) objects contain several useful arguments.\n",
    "\n",
    "Most importantly, the attributes `start` and `end` return the indices of _Tokens_, which determine where the _Span_ starts and ends.\n",
    "\n",
    "We can examine this in greater detail by printing out the `start` and `end` attributes for the first named entity in the document."
   ]
  },
  {
   "cell_type": "code",
   "execution_count": 26,
   "metadata": {},
   "outputs": [
    {
     "name": "stdout",
     "output_type": "stream",
     "text": [
      "The Federal Bureau of Investigation 0 5\n"
     ]
    }
   ],
   "source": [
    "# Print the named entity and indices of its start and end Tokens\n",
    "print(doc.ents[0], doc.ents[0].start, doc.ents[0].end)"
   ]
  },
  {
   "cell_type": "markdown",
   "metadata": {},
   "source": [
    "The named entity starts at index 0 and ends at index 5.\n",
    "\n",
    "If we print out the fifth _Token_ in the _Doc_ object, we will see that this corresponds to the Token \"has\"."
   ]
  },
  {
   "cell_type": "code",
   "execution_count": 27,
   "metadata": {},
   "outputs": [
    {
     "data": {
      "text/plain": [
       "has"
      ]
     },
     "execution_count": 27,
     "metadata": {},
     "output_type": "execute_result"
    }
   ],
   "source": [
    "doc[5]"
   ]
  },
  {
   "cell_type": "markdown",
   "metadata": {},
   "source": [
    "This means that the index returned by the `end` argument does __not__ correspond to the _last Token_ in a _Span_, but returns the index of the _first Token_ following the _Span_.\n",
    "\n",
    "Put differently, the `start` means that the _Span_ starts here, whereas the `end` attribute means that the _Span_ has _ended_ here."
   ]
  },
  {
   "cell_type": "markdown",
   "metadata": {},
   "source": [
    "We can also render the named entities using _displacy_, the module used for visualising dependency parses above.\n",
    "\n",
    "Note that we must pass the string `ent` to the `style` argument to indicate that we wish to visualise named entities. "
   ]
  },
  {
   "cell_type": "code",
   "execution_count": 28,
   "metadata": {},
   "outputs": [
    {
     "data": {
      "text/html": [
       "<span class=\"tex2jax_ignore\"><div class=\"entities\" style=\"line-height: 2.5; direction: ltr\">\n",
       "<mark class=\"entity\" style=\"background: #7aecec; padding: 0.45em 0.6em; margin: 0 0.25em; line-height: 1; border-radius: 0.35em;\">\n",
       "    The Federal Bureau of Investigation\n",
       "    <span style=\"font-size: 0.8em; font-weight: bold; line-height: 1; border-radius: 0.35em; vertical-align: middle; margin-left: 0.5rem\">ORG</span>\n",
       "</mark>\n",
       " has been ordered to track down \n",
       "<mark class=\"entity\" style=\"background: #e4e7d2; padding: 0.45em 0.6em; margin: 0 0.25em; line-height: 1; border-radius: 0.35em;\">\n",
       "    as many as 3,000\n",
       "    <span style=\"font-size: 0.8em; font-weight: bold; line-height: 1; border-radius: 0.35em; vertical-align: middle; margin-left: 0.5rem\">CARDINAL</span>\n",
       "</mark>\n",
       " \n",
       "<mark class=\"entity\" style=\"background: #c887fb; padding: 0.45em 0.6em; margin: 0 0.25em; line-height: 1; border-radius: 0.35em;\">\n",
       "    Iraqis\n",
       "    <span style=\"font-size: 0.8em; font-weight: bold; line-height: 1; border-radius: 0.35em; vertical-align: middle; margin-left: 0.5rem\">NORP</span>\n",
       "</mark>\n",
       " in this country whose visas have expired, \n",
       "<mark class=\"entity\" style=\"background: #7aecec; padding: 0.45em 0.6em; margin: 0 0.25em; line-height: 1; border-radius: 0.35em;\">\n",
       "    the Justice Department\n",
       "    <span style=\"font-size: 0.8em; font-weight: bold; line-height: 1; border-radius: 0.35em; vertical-align: middle; margin-left: 0.5rem\">ORG</span>\n",
       "</mark>\n",
       " said \n",
       "<mark class=\"entity\" style=\"background: #bfe1d9; padding: 0.45em 0.6em; margin: 0 0.25em; line-height: 1; border-radius: 0.35em;\">\n",
       "    yesterday\n",
       "    <span style=\"font-size: 0.8em; font-weight: bold; line-height: 1; border-radius: 0.35em; vertical-align: middle; margin-left: 0.5rem\">DATE</span>\n",
       "</mark>\n",
       ".</div></span>"
      ],
      "text/plain": [
       "<IPython.core.display.HTML object>"
      ]
     },
     "metadata": {},
     "output_type": "display_data"
    }
   ],
   "source": [
    "displacy.render(doc, style='ent')"
   ]
  },
  {
   "cell_type": "markdown",
   "metadata": {},
   "source": [
    "If you don't recognise a particular tag used for a named entity, you can always ask spaCy for an explanation."
   ]
  },
  {
   "cell_type": "code",
   "execution_count": 29,
   "metadata": {},
   "outputs": [
    {
     "data": {
      "text/plain": [
       "'Nationalities or religious or political groups'"
      ]
     },
     "execution_count": 29,
     "metadata": {},
     "output_type": "execute_result"
    }
   ],
   "source": [
    "spacy.explain('NORP')"
   ]
  },
  {
   "cell_type": "markdown",
   "metadata": {
    "nbsphinx": "hidden"
   },
   "source": [
    "### Quick exercise\n",
    "\n",
    "Load the example texts in our data directory, feed them to the language model under `nlp` and explore the results.\n",
    "\n",
    "How does the quality of optical character recognition affect the results of natural language processing?"
   ]
  },
  {
   "cell_type": "code",
   "execution_count": 30,
   "metadata": {
    "nbsphinx": "hidden"
   },
   "outputs": [
    {
     "name": "stdout",
     "output_type": "stream",
     "text": [
      "\n",
      "[INFO] Now processing data/WP_1990-08-10-25A.txt ...\n",
      "\n",
      "\n",
      "[INFO] Now processing data/mod_mod_WP_1990-08-10-25A.txt ...\n",
      "\n",
      "\n",
      "[INFO] Now processing data/mod_WP_1990-08-10-25A.txt ...\n",
      "\n",
      "\n",
      "[INFO] Now processing data/NYT_1991-01-16-A15.txt ...\n",
      "\n",
      "\n",
      "[INFO] Now processing data/WP_1991-01-17-A1B.txt ...\n",
      "\n",
      "\n",
      "[INFO] Now processing data/mod_mod_NYT_1991-01-16-A15.txt ...\n",
      "\n",
      "\n",
      "[INFO] Now processing data/mod_mod_WP_1991-01-17-A1B.txt ...\n",
      "\n",
      "\n",
      "[INFO] Now processing data/mod_WP_1991-01-17-A1B.txt ...\n",
      "\n",
      "\n",
      "[INFO] Now processing data/mod_NYT_1991-01-16-A15.txt ...\n",
      "\n"
     ]
    }
   ],
   "source": [
    "# Import Path class from pathlib\n",
    "from pathlib import Path\n",
    "\n",
    "# Create a Path object pointing towards the corpus dir\n",
    "corpus_dir = Path('data')\n",
    "\n",
    "# Collect all .txt files\n",
    "corpus_files = list(corpus_dir.glob('*.txt'))\n",
    "\n",
    "# Loop over the files\n",
    "for corpus_file in corpus_files:\n",
    "    \n",
    "    # Print a status message to separate the results\n",
    "    print(f\"\\n[INFO] Now processing {corpus_file} ...\\n\")\n",
    "    \n",
    "    # Open the file for reading and read the contents (note the .read() method at the end)\n",
    "    text = open(corpus_file, encoding='utf-8').read()\n",
    "    \n",
    "    # Feed the text to the spaCy language model / pipeline\n",
    "    text = nlp(text)\n",
    "    \n",
    "    # Try out different things by uncommenting (remove #s) some of the lines below\n",
    "    \n",
    "    # 1. Loop over a range of Tokens [130:150] and print out part-of-speech tags and dependencies\n",
    "    # for token in text[130:150]:\n",
    "        \n",
    "        # print(token, token.pos_, token.tag_, token.dep_)\n",
    "        \n",
    "    # 2. Print out the first 20 named entities in the text\n",
    "    # for ent in text.ents[:20]:\n",
    "        \n",
    "        # print(ent.text, ent.label_)\n",
    "        \n",
    "    # 3. Print out the sentences in each text. Enumerate them for clarity.\n",
    "    # for i, sent in enumerate(text.sents):\n",
    "        \n",
    "        # print(i, sent)"
   ]
  },
  {
   "cell_type": "markdown",
   "metadata": {},
   "source": [
    "This section should have given you an idea of some basic natural language processing tasks, how they can be performed using spaCy and what kinds of linguistic annotations they produce.\n",
    "\n",
    "The [following section](basic_nlp_continued.ipynb) focuses on how to customise spaCy. "
   ]
  }
 ],
 "metadata": {
  "celltoolbar": "Edit Metadata",
  "kernelspec": {
   "display_name": "Python 3",
   "language": "python",
   "name": "python3"
  },
  "language_info": {
   "codemirror_mode": {
    "name": "ipython",
    "version": 3
   },
   "file_extension": ".py",
   "mimetype": "text/x-python",
   "name": "python",
   "nbconvert_exporter": "python",
   "pygments_lexer": "ipython3",
   "version": "3.8.5"
  }
 },
 "nbformat": 4,
 "nbformat_minor": 2
}
