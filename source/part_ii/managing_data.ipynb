{
 "cells": [
  {
   "cell_type": "markdown",
   "metadata": {},
   "source": [
    "# Managing textual data using pandas\n",
    "\n",
    "This section introduces how to prepare and manage textual data for analysis using [pandas](http://pandas.pydata.org/), a Python library for working with tabular data.\n",
    "\n",
    "After reading this section, you should know:\n",
    "\n",
    "- how to import data into a pandas DataFrame\n",
    "- how to explore data stored in a pandas DataFrame\n",
    "- how to append data to a pandas DataFrame\n",
    "- how to save the data in a pandas DataFrame"
   ]
  },
  {
   "cell_type": "markdown",
   "metadata": {},
   "source": [
    "## Importing data to pandas\n",
    "\n",
    "Let's start by importing the pandas library. \n",
    "\n",
    "Note that we can control the name of the imported module using the `as` addition to the `import` command. pandas is commonly abbreviated `pd`.\n",
    "\n",
    "This allows us to use the variable `pd` to refer to the *pandas* library."
   ]
  },
  {
   "cell_type": "code",
   "execution_count": 1,
   "metadata": {},
   "outputs": [],
   "source": [
    "import pandas as pd"
   ]
  },
  {
   "cell_type": "markdown",
   "metadata": {},
   "source": [
    "### Importing data from a single file\n",
    "\n",
    "You must often load and prepare the data yourself, either from a single file or from multiple files.\n",
    "\n",
    "Typical formats for distributing corpora include CSV files, which stands for Comma-separated Values, and JSON, which stands for JavaScript Object Notation or simple plain text files.\n",
    "\n",
    "pandas provides plenty of functions for [reading data in various formats](https://pandas.pydata.org/pandas-docs/stable/user_guide/io.html). You can even try importing Excel sheets!\n",
    "\n",
    "The following example shows how to load a corpus from a CSV file for processing in Python using the [SFU Opinion and Comments Corpus (SOCC)](https://github.com/sfu-discourse-lab/SOCC) (Kolhatkar et al. [2020](https://doi.org/10.1007/s41701-019-00065-w)).\n",
    "\n",
    "Let's load a part of the SFU Opinion and Comments Corpus, which contains the opinion articles from [The Globe and Mail](https://www.theglobeandmail.com/), a Canadian newspaper.\n",
    "\n",
    "We can use the `read_csv()` function from *pandas* to read files with comma-separated values, such as the SOCC corpus.\n",
    "\n",
    "The `read_csv()` function takes a string object as input, which defines a path to the input file."
   ]
  },
  {
   "cell_type": "code",
   "execution_count": 2,
   "metadata": {},
   "outputs": [],
   "source": [
    "# Read the CSV file and assign the output to the variable 'socc'\n",
    "socc = pd.read_csv('data/socc_gnm_articles.csv')"
   ]
  },
  {
   "cell_type": "markdown",
   "metadata": {},
   "source": [
    "pandas does all the heavy lifting and returns the contents of the CSV file in a pandas [DataFrame](https://pandas.pydata.org/pandas-docs/stable/reference/api/pandas.DataFrame.html), which is data structure native to pandas."
   ]
  },
  {
   "cell_type": "code",
   "execution_count": 3,
   "metadata": {},
   "outputs": [
    {
     "data": {
      "text/plain": [
       "pandas.core.frame.DataFrame"
      ]
     },
     "execution_count": 3,
     "metadata": {},
     "output_type": "execute_result"
    }
   ],
   "source": [
    "# Examine the type of the object stored under the variable 'socc'\n",
    "type(socc)"
   ]
  },
  {
   "cell_type": "markdown",
   "metadata": {},
   "source": [
    "Let's use the `head()` method of a DataFrame to check out the first five rows in the DataFrame."
   ]
  },
  {
   "cell_type": "code",
   "execution_count": 4,
   "metadata": {},
   "outputs": [
    {
     "data": {
      "text/html": [
       "<div>\n",
       "<style scoped>\n",
       "    .dataframe tbody tr th:only-of-type {\n",
       "        vertical-align: middle;\n",
       "    }\n",
       "\n",
       "    .dataframe tbody tr th {\n",
       "        vertical-align: top;\n",
       "    }\n",
       "\n",
       "    .dataframe thead th {\n",
       "        text-align: right;\n",
       "    }\n",
       "</style>\n",
       "<table border=\"1\" class=\"dataframe\">\n",
       "  <thead>\n",
       "    <tr style=\"text-align: right;\">\n",
       "      <th></th>\n",
       "      <th>article_id</th>\n",
       "      <th>title</th>\n",
       "      <th>article_url</th>\n",
       "      <th>author</th>\n",
       "      <th>published_date</th>\n",
       "      <th>ncomments</th>\n",
       "      <th>ntop_level_comments</th>\n",
       "      <th>article_text</th>\n",
       "    </tr>\n",
       "  </thead>\n",
       "  <tbody>\n",
       "    <tr>\n",
       "      <th>0</th>\n",
       "      <td>26842506</td>\n",
       "      <td>The Tories deserve another mandate - Stephen H...</td>\n",
       "      <td>http://www.theglobeandmail.com/opinion/editori...</td>\n",
       "      <td>GLOBE EDITORIAL</td>\n",
       "      <td>2015-10-16 EDT</td>\n",
       "      <td>2187.0</td>\n",
       "      <td>1378.0</td>\n",
       "      <td>&lt;p&gt;All elections are choices among imperfect a...</td>\n",
       "    </tr>\n",
       "    <tr>\n",
       "      <th>1</th>\n",
       "      <td>26055892</td>\n",
       "      <td>Harper hysteria a sign of closed liberal minds</td>\n",
       "      <td>http://www.theglobeandmail.com/opinion/harper-...</td>\n",
       "      <td>Konrad Yakabuski</td>\n",
       "      <td>2015-08-24 EDT</td>\n",
       "      <td>1103.0</td>\n",
       "      <td>455.0</td>\n",
       "      <td>&lt;p&gt;If even a fraction of the darkness that his...</td>\n",
       "    </tr>\n",
       "    <tr>\n",
       "      <th>2</th>\n",
       "      <td>6929035</td>\n",
       "      <td>Too many first nations people live in a dream ...</td>\n",
       "      <td>http://www.theglobeandmail.com/opinion/too-man...</td>\n",
       "      <td>Jeffrey Simpson</td>\n",
       "      <td>2013-01-05 EST</td>\n",
       "      <td>1164.0</td>\n",
       "      <td>433.0</td>\n",
       "      <td>&lt;p&gt;Large elements of aboriginal Canada live in...</td>\n",
       "    </tr>\n",
       "    <tr>\n",
       "      <th>3</th>\n",
       "      <td>19047636</td>\n",
       "      <td>The Globe's editorial board endorses Tim Hudak...</td>\n",
       "      <td>http://www.theglobeandmail.com/opinion/editori...</td>\n",
       "      <td>GLOBE EDITORIAL</td>\n",
       "      <td>2014-06-06 EDT</td>\n",
       "      <td>905.0</td>\n",
       "      <td>432.0</td>\n",
       "      <td>&lt;p&gt;Over four days, The Globe editorial board l...</td>\n",
       "    </tr>\n",
       "    <tr>\n",
       "      <th>4</th>\n",
       "      <td>11672346</td>\n",
       "      <td>Disgruntled Arab states look to strip Canada o...</td>\n",
       "      <td>http://www.theglobeandmail.com/news/world/disg...</td>\n",
       "      <td>Campbell Clark</td>\n",
       "      <td>2013-05-02 EDT</td>\n",
       "      <td>1129.0</td>\n",
       "      <td>411.0</td>\n",
       "      <td>&lt;p&gt;Growing discontent among Arab nations over ...</td>\n",
       "    </tr>\n",
       "  </tbody>\n",
       "</table>\n",
       "</div>"
      ],
      "text/plain": [
       "   article_id                                              title  \\\n",
       "0    26842506  The Tories deserve another mandate - Stephen H...   \n",
       "1    26055892     Harper hysteria a sign of closed liberal minds   \n",
       "2     6929035  Too many first nations people live in a dream ...   \n",
       "3    19047636  The Globe's editorial board endorses Tim Hudak...   \n",
       "4    11672346  Disgruntled Arab states look to strip Canada o...   \n",
       "\n",
       "                                         article_url            author  \\\n",
       "0  http://www.theglobeandmail.com/opinion/editori...   GLOBE EDITORIAL   \n",
       "1  http://www.theglobeandmail.com/opinion/harper-...  Konrad Yakabuski   \n",
       "2  http://www.theglobeandmail.com/opinion/too-man...   Jeffrey Simpson   \n",
       "3  http://www.theglobeandmail.com/opinion/editori...   GLOBE EDITORIAL   \n",
       "4  http://www.theglobeandmail.com/news/world/disg...    Campbell Clark   \n",
       "\n",
       "   published_date  ncomments  ntop_level_comments  \\\n",
       "0  2015-10-16 EDT     2187.0               1378.0   \n",
       "1  2015-08-24 EDT     1103.0                455.0   \n",
       "2  2013-01-05 EST     1164.0                433.0   \n",
       "3  2014-06-06 EDT      905.0                432.0   \n",
       "4  2013-05-02 EDT     1129.0                411.0   \n",
       "\n",
       "                                        article_text  \n",
       "0  <p>All elections are choices among imperfect a...  \n",
       "1  <p>If even a fraction of the darkness that his...  \n",
       "2  <p>Large elements of aboriginal Canada live in...  \n",
       "3  <p>Over four days, The Globe editorial board l...  \n",
       "4  <p>Growing discontent among Arab nations over ...  "
      ]
     },
     "execution_count": 4,
     "metadata": {},
     "output_type": "execute_result"
    }
   ],
   "source": [
    "socc.head(5)"
   ]
  },
  {
   "cell_type": "markdown",
   "metadata": {},
   "source": [
    "As you can see, the DataFrame has a tabular form.\n",
    "\n",
    "The DataFrame contains several columns such as **article_id**, **title** and **article_text**, accompanied by an index for each row (**0, 1, 2, 3, 4**).\n",
    "\n",
    "The `.at[]` accessor can be used to inspect a single item in the DataFrame.\n",
    "\n",
    "Let's examine the value in the column **title** at index 123."
   ]
  },
  {
   "cell_type": "code",
   "execution_count": 5,
   "metadata": {},
   "outputs": [
    {
     "data": {
      "text/plain": [
       "\"How Toronto got a 'world-class,' gold-plated, half-billion-dollar empty train\""
      ]
     },
     "execution_count": 5,
     "metadata": {},
     "output_type": "execute_result"
    }
   ],
   "source": [
    "socc.at[123, 'title']"
   ]
  },
  {
   "cell_type": "markdown",
   "metadata": {
    "nbsphinx": "hidden"
   },
   "source": [
    "### Quick exercise\n",
    "\n",
    "Let's go back to the SOCC corpus stored under the variable `socc`.\n",
    "\n",
    "Who is the author (`author`) of article at index 256? \n",
    "\n",
    "How many top-level comments (`ntop_level_comments`) did the article at index 1000 receive?"
   ]
  },
  {
   "cell_type": "code",
   "execution_count": 6,
   "metadata": {
    "nbsphinx": "hidden"
   },
   "outputs": [],
   "source": [
    "### Enter your code below this line and run the cell (press Shift and Enter at the same time)\n"
   ]
  },
  {
   "cell_type": "markdown",
   "metadata": {},
   "source": [
    "### Importing data from multiple files\n",
    "\n",
    "Another common scenario is that you have multiple files with text data, which you want to load into *pandas*.\n",
    "\n",
    "Let's first collect the files that we want to load."
   ]
  },
  {
   "cell_type": "code",
   "execution_count": 7,
   "metadata": {},
   "outputs": [
    {
     "data": {
      "text/plain": [
       "[PosixPath('data/WP_1990-08-10-25A.txt'),\n",
       " PosixPath('data/mod_mod_WP_1990-08-10-25A.txt'),\n",
       " PosixPath('data/mod_WP_1990-08-10-25A.txt'),\n",
       " PosixPath('data/NYT_1991-01-16-A15.txt'),\n",
       " PosixPath('data/WP_1991-01-17-A1B.txt'),\n",
       " PosixPath('data/mod_mod_NYT_1991-01-16-A15.txt'),\n",
       " PosixPath('data/mod_mod_WP_1991-01-17-A1B.txt'),\n",
       " PosixPath('data/mod_WP_1991-01-17-A1B.txt'),\n",
       " PosixPath('data/mod_NYT_1991-01-16-A15.txt')]"
      ]
     },
     "execution_count": 7,
     "metadata": {},
     "output_type": "execute_result"
    }
   ],
   "source": [
    "# Import the patch library\n",
    "from pathlib import Path\n",
    "\n",
    "# Create a Path object that points to the directory with data\n",
    "corpus_dir = Path('data')\n",
    "\n",
    "# Get all .txt files in the corpus directory\n",
    "corpus_files = list(corpus_dir.glob('*.txt'))\n",
    "\n",
    "# Check the corpus files\n",
    "corpus_files"
   ]
  },
  {
   "cell_type": "markdown",
   "metadata": {},
   "source": [
    "To accommodate our data, let's create an empty pandas DataFrame and specify its *shape* in advance, that is, the number of rows (`index`) and the names of the columns `columns`.\n",
    "\n",
    "We can determine the number of rows needed using Python's `range()` function. This function generates a list of numbers that fall within certain range, which we can use for the index of the DataFrame.\n",
    "\n",
    "In this case, we define a `range()` between `0` and the number of text files in the directory, which are stored under the variable `corpus_files`. We retrieve their number using the `len()` function, which returns the length of Python objects, if applicable.\n",
    "\n",
    "For the columns of the DataFrame, we simply create columns for filenames and their textual content by providing a list of strings to the `columns` argument."
   ]
  },
  {
   "cell_type": "code",
   "execution_count": 8,
   "metadata": {},
   "outputs": [
    {
     "data": {
      "text/html": [
       "<div>\n",
       "<style scoped>\n",
       "    .dataframe tbody tr th:only-of-type {\n",
       "        vertical-align: middle;\n",
       "    }\n",
       "\n",
       "    .dataframe tbody tr th {\n",
       "        vertical-align: top;\n",
       "    }\n",
       "\n",
       "    .dataframe thead th {\n",
       "        text-align: right;\n",
       "    }\n",
       "</style>\n",
       "<table border=\"1\" class=\"dataframe\">\n",
       "  <thead>\n",
       "    <tr style=\"text-align: right;\">\n",
       "      <th></th>\n",
       "      <th>filename</th>\n",
       "      <th>text</th>\n",
       "    </tr>\n",
       "  </thead>\n",
       "  <tbody>\n",
       "    <tr>\n",
       "      <th>0</th>\n",
       "      <td>NaN</td>\n",
       "      <td>NaN</td>\n",
       "    </tr>\n",
       "    <tr>\n",
       "      <th>1</th>\n",
       "      <td>NaN</td>\n",
       "      <td>NaN</td>\n",
       "    </tr>\n",
       "    <tr>\n",
       "      <th>2</th>\n",
       "      <td>NaN</td>\n",
       "      <td>NaN</td>\n",
       "    </tr>\n",
       "    <tr>\n",
       "      <th>3</th>\n",
       "      <td>NaN</td>\n",
       "      <td>NaN</td>\n",
       "    </tr>\n",
       "    <tr>\n",
       "      <th>4</th>\n",
       "      <td>NaN</td>\n",
       "      <td>NaN</td>\n",
       "    </tr>\n",
       "    <tr>\n",
       "      <th>5</th>\n",
       "      <td>NaN</td>\n",
       "      <td>NaN</td>\n",
       "    </tr>\n",
       "    <tr>\n",
       "      <th>6</th>\n",
       "      <td>NaN</td>\n",
       "      <td>NaN</td>\n",
       "    </tr>\n",
       "    <tr>\n",
       "      <th>7</th>\n",
       "      <td>NaN</td>\n",
       "      <td>NaN</td>\n",
       "    </tr>\n",
       "    <tr>\n",
       "      <th>8</th>\n",
       "      <td>NaN</td>\n",
       "      <td>NaN</td>\n",
       "    </tr>\n",
       "  </tbody>\n",
       "</table>\n",
       "</div>"
      ],
      "text/plain": [
       "  filename text\n",
       "0      NaN  NaN\n",
       "1      NaN  NaN\n",
       "2      NaN  NaN\n",
       "3      NaN  NaN\n",
       "4      NaN  NaN\n",
       "5      NaN  NaN\n",
       "6      NaN  NaN\n",
       "7      NaN  NaN\n",
       "8      NaN  NaN"
      ]
     },
     "execution_count": 8,
     "metadata": {},
     "output_type": "execute_result"
    }
   ],
   "source": [
    "# Create a DataFrame and assign the result to the variable 'df'\n",
    "df = pd.DataFrame(index=range(0, len(corpus_files)), columns=['filename', 'text'])\n",
    "\n",
    "# Call the variable to inspect the output\n",
    "df"
   ]
  },
  {
   "cell_type": "markdown",
   "metadata": {},
   "source": [
    "Now that we have an empty data with rows for each file in the corpus, we can loop over the file paths under `corpus_files` and add their contents to the DataFrame."
   ]
  },
  {
   "cell_type": "code",
   "execution_count": 9,
   "metadata": {},
   "outputs": [],
   "source": [
    "# Loop over the corpus files and count each loop using enumerate()\n",
    "for i, f in enumerate(corpus_files):\n",
    "    \n",
    "    # Open the file for reading\n",
    "    c_file = open(f, encoding=\"utf-8\")\n",
    "    \n",
    "    # Get the filename from the Path object\n",
    "    filename = f.name\n",
    "        \n",
    "    # Read the file contents\n",
    "    text = c_file.read()\n",
    "    \n",
    "    # Assign the text from the file to index 'i' at column 'text'\n",
    "    # using the .at accessor – note that this modifies the DataFrame\n",
    "    # \"in place\" – you don't need to assign the result into a variable\n",
    "    df.at[i, 'text'] = text\n",
    "    \n",
    "    # We then do the same to the filename\n",
    "    df.at[i, 'filename'] = filename"
   ]
  },
  {
   "cell_type": "markdown",
   "metadata": {},
   "source": [
    "Let's check the result by calling the variable `df`."
   ]
  },
  {
   "cell_type": "code",
   "execution_count": 10,
   "metadata": {},
   "outputs": [
    {
     "data": {
      "text/html": [
       "<div>\n",
       "<style scoped>\n",
       "    .dataframe tbody tr th:only-of-type {\n",
       "        vertical-align: middle;\n",
       "    }\n",
       "\n",
       "    .dataframe tbody tr th {\n",
       "        vertical-align: top;\n",
       "    }\n",
       "\n",
       "    .dataframe thead th {\n",
       "        text-align: right;\n",
       "    }\n",
       "</style>\n",
       "<table border=\"1\" class=\"dataframe\">\n",
       "  <thead>\n",
       "    <tr style=\"text-align: right;\">\n",
       "      <th></th>\n",
       "      <th>filename</th>\n",
       "      <th>text</th>\n",
       "    </tr>\n",
       "  </thead>\n",
       "  <tbody>\n",
       "    <tr>\n",
       "      <th>0</th>\n",
       "      <td>WP_1990-08-10-25A.txt</td>\n",
       "      <td>﻿*We Don’t Stand for Bullies': Diverse Voices ...</td>\n",
       "    </tr>\n",
       "    <tr>\n",
       "      <th>1</th>\n",
       "      <td>mod_mod_WP_1990-08-10-25A.txt</td>\n",
       "      <td>﻿*We Don’t Stand for Bullies': Diverse Voices ...</td>\n",
       "    </tr>\n",
       "    <tr>\n",
       "      <th>2</th>\n",
       "      <td>mod_WP_1990-08-10-25A.txt</td>\n",
       "      <td>﻿*We Don’t Stand for Bullies': Diverse Voices ...</td>\n",
       "    </tr>\n",
       "    <tr>\n",
       "      <th>3</th>\n",
       "      <td>NYT_1991-01-16-A15.txt</td>\n",
       "      <td>﻿U.S. TAKING STEPS TO CURB TERRORISM: F.B.I. I...</td>\n",
       "    </tr>\n",
       "    <tr>\n",
       "      <th>4</th>\n",
       "      <td>WP_1991-01-17-A1B.txt</td>\n",
       "      <td>﻿U.S., Allies Launch Massive Air War Against T...</td>\n",
       "    </tr>\n",
       "    <tr>\n",
       "      <th>5</th>\n",
       "      <td>mod_mod_NYT_1991-01-16-A15.txt</td>\n",
       "      <td>﻿U.S. TAKING STEPS TO CURB TERRORISM: F.B.I. I...</td>\n",
       "    </tr>\n",
       "    <tr>\n",
       "      <th>6</th>\n",
       "      <td>mod_mod_WP_1991-01-17-A1B.txt</td>\n",
       "      <td>﻿U.S Allies Launch Massive Air War Against Tar...</td>\n",
       "    </tr>\n",
       "    <tr>\n",
       "      <th>7</th>\n",
       "      <td>mod_WP_1991-01-17-A1B.txt</td>\n",
       "      <td>﻿U.S Allies Launch Massive Air War Against Tar...</td>\n",
       "    </tr>\n",
       "    <tr>\n",
       "      <th>8</th>\n",
       "      <td>mod_NYT_1991-01-16-A15.txt</td>\n",
       "      <td>﻿U.S. TAKING STEPS TO CURB TERRORISM: F.B.I. I...</td>\n",
       "    </tr>\n",
       "  </tbody>\n",
       "</table>\n",
       "</div>"
      ],
      "text/plain": [
       "                         filename  \\\n",
       "0           WP_1990-08-10-25A.txt   \n",
       "1   mod_mod_WP_1990-08-10-25A.txt   \n",
       "2       mod_WP_1990-08-10-25A.txt   \n",
       "3          NYT_1991-01-16-A15.txt   \n",
       "4           WP_1991-01-17-A1B.txt   \n",
       "5  mod_mod_NYT_1991-01-16-A15.txt   \n",
       "6   mod_mod_WP_1991-01-17-A1B.txt   \n",
       "7       mod_WP_1991-01-17-A1B.txt   \n",
       "8      mod_NYT_1991-01-16-A15.txt   \n",
       "\n",
       "                                                text  \n",
       "0  ﻿*We Don’t Stand for Bullies': Diverse Voices ...  \n",
       "1  ﻿*We Don’t Stand for Bullies': Diverse Voices ...  \n",
       "2  ﻿*We Don’t Stand for Bullies': Diverse Voices ...  \n",
       "3  ﻿U.S. TAKING STEPS TO CURB TERRORISM: F.B.I. I...  \n",
       "4  ﻿U.S., Allies Launch Massive Air War Against T...  \n",
       "5  ﻿U.S. TAKING STEPS TO CURB TERRORISM: F.B.I. I...  \n",
       "6  ﻿U.S Allies Launch Massive Air War Against Tar...  \n",
       "7  ﻿U.S Allies Launch Massive Air War Against Tar...  \n",
       "8  ﻿U.S. TAKING STEPS TO CURB TERRORISM: F.B.I. I...  "
      ]
     },
     "execution_count": 10,
     "metadata": {},
     "output_type": "execute_result"
    }
   ],
   "source": [
    "df"
   ]
  },
  {
   "cell_type": "markdown",
   "metadata": {},
   "source": [
    "As you can see, the DataFrame has been populated with filenames and text.\n",
    "\n",
    "Now that we know how to load data into DataFrames, we can turn towards accessing and manipulating the data that they store."
   ]
  },
  {
   "cell_type": "markdown",
   "metadata": {},
   "source": [
    "## Examining DataFrames\n",
    "\n",
    "pandas DataFrames can hold a lot of information, which is often organised into columns.\n",
    "\n",
    "The columns present in a DataFrame are accessible through the attribute `columns`."
   ]
  },
  {
   "cell_type": "code",
   "execution_count": 11,
   "metadata": {},
   "outputs": [
    {
     "data": {
      "text/plain": [
       "Index(['article_id', 'title', 'article_url', 'author', 'published_date',\n",
       "       'ncomments', 'ntop_level_comments', 'article_text'],\n",
       "      dtype='object')"
      ]
     },
     "execution_count": 11,
     "metadata": {},
     "output_type": "execute_result"
    }
   ],
   "source": [
    "# Retrieve the columns and their names\n",
    "socc.columns"
   ]
  },
  {
   "cell_type": "markdown",
   "metadata": {},
   "source": [
    "pandas provides various methods for examining the contents of entire columns, which can be accessed just like the keys and values of a Python dictionary.\n",
    "\n",
    "The brackets `[]` can be used to access entire columns by placing the column name within the brackets as a string.\n",
    "\n",
    "Let's retrieve the contents of the column `author`, which contains author information."
   ]
  },
  {
   "cell_type": "code",
   "execution_count": 12,
   "metadata": {},
   "outputs": [
    {
     "data": {
      "text/plain": [
       "0         GLOBE EDITORIAL\n",
       "1        Konrad Yakabuski\n",
       "2         Jeffrey Simpson\n",
       "3         GLOBE EDITORIAL\n",
       "4          Campbell Clark\n",
       "               ...       \n",
       "10334     GLOBE EDITORIAL\n",
       "10335     GLOBE EDITORIAL\n",
       "10336     GLOBE EDITORIAL\n",
       "10337      Adam Radwanski\n",
       "10338     GLOBE EDITORIAL\n",
       "Name: author, Length: 10339, dtype: object"
      ]
     },
     "execution_count": 12,
     "metadata": {},
     "output_type": "execute_result"
    }
   ],
   "source": [
    "socc['author']"
   ]
  },
  {
   "cell_type": "markdown",
   "metadata": {},
   "source": [
    "As you can see, the column `author` contains 10399 objects, as indicated by the *Length* and *dtype* properties. The numbers on the left-hand side give the index, that is, the row numbers.\n",
    "\n",
    "The columns of a pandas DataFrame consist of another object type, namely *pandas* Series. You can think of the DataFrame as an entire table, whose columns consist of Series.\n",
    "\n",
    "We can verify this by examining their type using Python's `type()` function."
   ]
  },
  {
   "cell_type": "code",
   "execution_count": 13,
   "metadata": {},
   "outputs": [
    {
     "data": {
      "text/plain": [
       "(pandas.core.frame.DataFrame, pandas.core.series.Series)"
      ]
     },
     "execution_count": 13,
     "metadata": {},
     "output_type": "execute_result"
    }
   ],
   "source": [
    "type(socc), type(socc['author'])"
   ]
  },
  {
   "cell_type": "markdown",
   "metadata": {},
   "source": [
    "When printing out the contents of a DataFrame or Series, pandas omits everything between the first and last five rows by default. This is convenient when working with thousands of rows.\n",
    "\n",
    "This also applies to the output for methods such as `value_counts()`, which allows counting the number of unique values in a Series."
   ]
  },
  {
   "cell_type": "code",
   "execution_count": 14,
   "metadata": {},
   "outputs": [
    {
     "data": {
      "text/plain": [
       "GLOBE EDITORIAL                2712\n",
       "Jeffrey Simpson                 649\n",
       "Margaret Wente                  547\n",
       "Konrad Yakabuski                404\n",
       "Gary Mason                      365\n",
       "                               ... \n",
       "Ryan Gosling                      1\n",
       "John Duffy                        1\n",
       "SARAH HUNT And NAOMI SAYERS       1\n",
       "RICHARD GILBERT                   1\n",
       "John Fraser                       1\n",
       "Name: author, Length: 1896, dtype: int64"
      ]
     },
     "execution_count": 14,
     "metadata": {},
     "output_type": "execute_result"
    }
   ],
   "source": [
    "socc['author'].value_counts()"
   ]
  },
  {
   "cell_type": "markdown",
   "metadata": {},
   "source": [
    "Not surprisingly, the editorial team at the *The Globe and Mail* is responsible for most of the editorials!\n",
    "\n",
    "Let's take another look at the data by visualising the result by calling the `.plot()` method for the author information column. This method calls an external library named matplotlib, which can be used to produce all kinds of plots and visualisations.\n",
    "\n",
    "More specifically, we instruct the `plot()` method to draw a bar chart by providing the string `bar` to the `kind` argument.\n",
    "\n",
    "We also use the brackets `[:10]` to limit the output to the ten most profilic authors."
   ]
  },
  {
   "cell_type": "code",
   "execution_count": 15,
   "metadata": {},
   "outputs": [
    {
     "data": {
      "text/plain": [
       "<AxesSubplot:>"
      ]
     },
     "execution_count": 15,
     "metadata": {},
     "output_type": "execute_result"
    },
    {
     "data": {
      "image/png": "[encoded data removed]",
      "text/plain": [
       "<Figure size 432x288 with 1 Axes>"
      ]
     },
     "metadata": {
      "needs_background": "light"
     },
     "output_type": "display_data"
    }
   ],
   "source": [
    "# This is some Jupyter magic that allows us to render matplotlib plots in the notebooks!\n",
    "# You only need to enter this command once.\n",
    "%matplotlib inline\n",
    "\n",
    "# Count the values in the column 'author' and clip the result to top-10 before plotting.\n",
    "socc['author'].value_counts()[:10].plot(kind='bar')"
   ]
  },
  {
   "cell_type": "markdown",
   "metadata": {},
   "source": [
    "For columns with numerical values, we can also use the `describe()` method to get basic descriptive statistics on the data."
   ]
  },
  {
   "cell_type": "code",
   "execution_count": 16,
   "metadata": {},
   "outputs": [
    {
     "data": {
      "text/plain": [
       "count    10339.000000\n",
       "mean        26.384273\n",
       "std         39.786923\n",
       "min          0.000000\n",
       "25%          1.000000\n",
       "50%         14.000000\n",
       "75%         35.000000\n",
       "max       1378.000000\n",
       "Name: ntop_level_comments, dtype: float64"
      ]
     },
     "execution_count": 16,
     "metadata": {},
     "output_type": "execute_result"
    }
   ],
   "source": [
    "socc['ntop_level_comments'].describe()"
   ]
  },
  {
   "cell_type": "markdown",
   "metadata": {},
   "source": [
    "As we can see, the column `ntop_level_comments` has a total of 10339 rows. \n",
    "\n",
    "The average number of comments received by an editorial is approximately 26, but this number fluctuates, as the standard deviation from the average is nearly 40.\n",
    "\n",
    " - Some editorials do not have any comments at all, as indicated by the minimum value of 0. \n",
    " - The lowest quartile shows that 25% of the data has only one comment or less (none).\n",
    " - The second quartile (50%), which is also known as the median, indicates that *half* of the data has less than 14 comments and *half* has more than 14 comments. \n",
    " - The third quartile shows that 75% of the data has 35 comments or less. \n",
    " - The most commented editorial has 1378 comments."
   ]
  },
  {
   "cell_type": "markdown",
   "metadata": {},
   "source": [
    "What if we would like to find the articles with zero comments?\n",
    "\n",
    "We can use the DataFrame accessor `.loc` to access columns or rows based on their labels.\n",
    "\n",
    "The number of comments is stored in the column `ntop_level_comments`, but we also need to specify that the DataFrame stored under the variable `socc` contains the column that we wish to examine. \n",
    "\n",
    "This causes the somewhat repetitive reference to the `socc` DataFrame, which is nevertheless necessary for being explicit.\n",
    "\n",
    "We also need to provide a command for \"is equal to\". Since the single equal sign `=` is reserved for assigning variables in Python, two equal signs `==` are used for comparison.\n",
    "\n",
    "Finally, we place the value we want to evaluate against on the right-hand side of the double equal sign `==`, that is, zero for no comments."
   ]
  },
  {
   "cell_type": "code",
   "execution_count": 17,
   "metadata": {},
   "outputs": [
    {
     "data": {
      "text/html": [
       "<div>\n",
       "<style scoped>\n",
       "    .dataframe tbody tr th:only-of-type {\n",
       "        vertical-align: middle;\n",
       "    }\n",
       "\n",
       "    .dataframe tbody tr th {\n",
       "        vertical-align: top;\n",
       "    }\n",
       "\n",
       "    .dataframe thead th {\n",
       "        text-align: right;\n",
       "    }\n",
       "</style>\n",
       "<table border=\"1\" class=\"dataframe\">\n",
       "  <thead>\n",
       "    <tr style=\"text-align: right;\">\n",
       "      <th></th>\n",
       "      <th>article_id</th>\n",
       "      <th>title</th>\n",
       "      <th>article_url</th>\n",
       "      <th>author</th>\n",
       "      <th>published_date</th>\n",
       "      <th>ncomments</th>\n",
       "      <th>ntop_level_comments</th>\n",
       "      <th>article_text</th>\n",
       "    </tr>\n",
       "  </thead>\n",
       "  <tbody>\n",
       "    <tr>\n",
       "      <th>7797</th>\n",
       "      <td>33441604</td>\n",
       "      <td>Joseph Boyden, where are you from?</td>\n",
       "      <td>http://www.theglobeandmail.com/opinion/joseph-...</td>\n",
       "      <td>Hayden King</td>\n",
       "      <td>2016-12-28 EST</td>\n",
       "      <td>0.0</td>\n",
       "      <td>0.0</td>\n",
       "      <td>&lt;p&gt;Hayden King teaches in the School of Public...</td>\n",
       "    </tr>\n",
       "    <tr>\n",
       "      <th>7798</th>\n",
       "      <td>33316285</td>\n",
       "      <td>Globe editorial: Rejoice! Congress just gave t...</td>\n",
       "      <td>http://www.theglobeandmail.com/opinion/editori...</td>\n",
       "      <td>GLOBE EDITORIAL</td>\n",
       "      <td>2016-12-13 EST</td>\n",
       "      <td>0.0</td>\n",
       "      <td>0.0</td>\n",
       "      <td>&lt;p&gt;The United States may have just elected a p...</td>\n",
       "    </tr>\n",
       "    <tr>\n",
       "      <th>7799</th>\n",
       "      <td>33009790</td>\n",
       "      <td>Police and La Presse: Warrants not warranted</td>\n",
       "      <td>http://www.theglobeandmail.com/opinion/editori...</td>\n",
       "      <td>GLOBE EDITORIAL</td>\n",
       "      <td>2016-11-23 EST</td>\n",
       "      <td>0.0</td>\n",
       "      <td>0.0</td>\n",
       "      <td>&lt;p&gt;The discovery that the Montreal Police obta...</td>\n",
       "    </tr>\n",
       "    <tr>\n",
       "      <th>7800</th>\n",
       "      <td>32970624</td>\n",
       "      <td>The Galloway affair: Salem comes to UBC</td>\n",
       "      <td>http://www.theglobeandmail.com/opinion/the-gal...</td>\n",
       "      <td>Margaret Wente</td>\n",
       "      <td>2016-11-22 EST</td>\n",
       "      <td>0.0</td>\n",
       "      <td>0.0</td>\n",
       "      <td>&lt;p&gt;I have a question about the Steven Galloway...</td>\n",
       "    </tr>\n",
       "    <tr>\n",
       "      <th>7801</th>\n",
       "      <td>32927142</td>\n",
       "      <td>Justice delayed: the law of unintended consequ...</td>\n",
       "      <td>http://www.theglobeandmail.com/opinion/unreaso...</td>\n",
       "      <td>BENJAMIN PERRIN</td>\n",
       "      <td>2016-11-19 EST</td>\n",
       "      <td>0.0</td>\n",
       "      <td>0.0</td>\n",
       "      <td>&lt;p&gt;Benjamin Perrin is a law professor at the U...</td>\n",
       "    </tr>\n",
       "    <tr>\n",
       "      <th>...</th>\n",
       "      <td>...</td>\n",
       "      <td>...</td>\n",
       "      <td>...</td>\n",
       "      <td>...</td>\n",
       "      <td>...</td>\n",
       "      <td>...</td>\n",
       "      <td>...</td>\n",
       "      <td>...</td>\n",
       "    </tr>\n",
       "    <tr>\n",
       "      <th>10334</th>\n",
       "      <td>533784</td>\n",
       "      <td>WTO action on China's rare-earth quotas makes ...</td>\n",
       "      <td>http://www.theglobeandmail.com/opinion/editori...</td>\n",
       "      <td>GLOBE EDITORIAL</td>\n",
       "      <td>2012-03-14 EDT</td>\n",
       "      <td>0.0</td>\n",
       "      <td>0.0</td>\n",
       "      <td>&lt;p&gt;The confusingly named substances known as '...</td>\n",
       "    </tr>\n",
       "    <tr>\n",
       "      <th>10335</th>\n",
       "      <td>533594</td>\n",
       "      <td>A customer-friendly Finance Department</td>\n",
       "      <td>http://www.theglobeandmail.com/opinion/editori...</td>\n",
       "      <td>GLOBE EDITORIAL</td>\n",
       "      <td>2012-03-13 EDT</td>\n",
       "      <td>0.0</td>\n",
       "      <td>0.0</td>\n",
       "      <td>&lt;p&gt;Of the many things that frustrate the retai...</td>\n",
       "    </tr>\n",
       "    <tr>\n",
       "      <th>10336</th>\n",
       "      <td>533508</td>\n",
       "      <td>Video raises questions about Nik Zoricic's 'fr...</td>\n",
       "      <td>http://www.theglobeandmail.com/opinion/editori...</td>\n",
       "      <td>GLOBE EDITORIAL</td>\n",
       "      <td>2012-03-12 EDT</td>\n",
       "      <td>0.0</td>\n",
       "      <td>0.0</td>\n",
       "      <td>&lt;p&gt;Officials and fans are mourning the death o...</td>\n",
       "    </tr>\n",
       "    <tr>\n",
       "      <th>10337</th>\n",
       "      <td>533504</td>\n",
       "      <td>McGuinty can't afford misgivings about gaming</td>\n",
       "      <td>http://www.theglobeandmail.com/news/politics/m...</td>\n",
       "      <td>Adam Radwanski</td>\n",
       "      <td>2012-03-12 EDT</td>\n",
       "      <td>0.0</td>\n",
       "      <td>0.0</td>\n",
       "      <td>&lt;p&gt;Unlike so many of the other measures that m...</td>\n",
       "    </tr>\n",
       "    <tr>\n",
       "      <th>10338</th>\n",
       "      <td>533471</td>\n",
       "      <td>In Russia, Canada should look for investment, ...</td>\n",
       "      <td>http://www.theglobeandmail.com/opinion/editori...</td>\n",
       "      <td>GLOBE EDITORIAL</td>\n",
       "      <td>2012-03-12 EDT</td>\n",
       "      <td>0.0</td>\n",
       "      <td>0.0</td>\n",
       "      <td>&lt;p&gt;As if in swift response to Prime Minister V...</td>\n",
       "    </tr>\n",
       "  </tbody>\n",
       "</table>\n",
       "<p>2542 rows × 8 columns</p>\n",
       "</div>"
      ],
      "text/plain": [
       "       article_id                                              title  \\\n",
       "7797     33441604                 Joseph Boyden, where are you from?   \n",
       "7798     33316285  Globe editorial: Rejoice! Congress just gave t...   \n",
       "7799     33009790       Police and La Presse: Warrants not warranted   \n",
       "7800     32970624            The Galloway affair: Salem comes to UBC   \n",
       "7801     32927142  Justice delayed: the law of unintended consequ...   \n",
       "...           ...                                                ...   \n",
       "10334      533784  WTO action on China's rare-earth quotas makes ...   \n",
       "10335      533594             A customer-friendly Finance Department   \n",
       "10336      533508  Video raises questions about Nik Zoricic's 'fr...   \n",
       "10337      533504      McGuinty can't afford misgivings about gaming   \n",
       "10338      533471  In Russia, Canada should look for investment, ...   \n",
       "\n",
       "                                             article_url           author  \\\n",
       "7797   http://www.theglobeandmail.com/opinion/joseph-...      Hayden King   \n",
       "7798   http://www.theglobeandmail.com/opinion/editori...  GLOBE EDITORIAL   \n",
       "7799   http://www.theglobeandmail.com/opinion/editori...  GLOBE EDITORIAL   \n",
       "7800   http://www.theglobeandmail.com/opinion/the-gal...   Margaret Wente   \n",
       "7801   http://www.theglobeandmail.com/opinion/unreaso...  BENJAMIN PERRIN   \n",
       "...                                                  ...              ...   \n",
       "10334  http://www.theglobeandmail.com/opinion/editori...  GLOBE EDITORIAL   \n",
       "10335  http://www.theglobeandmail.com/opinion/editori...  GLOBE EDITORIAL   \n",
       "10336  http://www.theglobeandmail.com/opinion/editori...  GLOBE EDITORIAL   \n",
       "10337  http://www.theglobeandmail.com/news/politics/m...   Adam Radwanski   \n",
       "10338  http://www.theglobeandmail.com/opinion/editori...  GLOBE EDITORIAL   \n",
       "\n",
       "       published_date  ncomments  ntop_level_comments  \\\n",
       "7797   2016-12-28 EST        0.0                  0.0   \n",
       "7798   2016-12-13 EST        0.0                  0.0   \n",
       "7799   2016-11-23 EST        0.0                  0.0   \n",
       "7800   2016-11-22 EST        0.0                  0.0   \n",
       "7801   2016-11-19 EST        0.0                  0.0   \n",
       "...               ...        ...                  ...   \n",
       "10334  2012-03-14 EDT        0.0                  0.0   \n",
       "10335  2012-03-13 EDT        0.0                  0.0   \n",
       "10336  2012-03-12 EDT        0.0                  0.0   \n",
       "10337  2012-03-12 EDT        0.0                  0.0   \n",
       "10338  2012-03-12 EDT        0.0                  0.0   \n",
       "\n",
       "                                            article_text  \n",
       "7797   <p>Hayden King teaches in the School of Public...  \n",
       "7798   <p>The United States may have just elected a p...  \n",
       "7799   <p>The discovery that the Montreal Police obta...  \n",
       "7800   <p>I have a question about the Steven Galloway...  \n",
       "7801   <p>Benjamin Perrin is a law professor at the U...  \n",
       "...                                                  ...  \n",
       "10334  <p>The confusingly named substances known as '...  \n",
       "10335  <p>Of the many things that frustrate the retai...  \n",
       "10336  <p>Officials and fans are mourning the death o...  \n",
       "10337  <p>Unlike so many of the other measures that m...  \n",
       "10338  <p>As if in swift response to Prime Minister V...  \n",
       "\n",
       "[2542 rows x 8 columns]"
      ]
     },
     "execution_count": 17,
     "metadata": {},
     "output_type": "execute_result"
    }
   ],
   "source": [
    "socc.loc[socc['ntop_level_comments'] == 0]"
   ]
  },
  {
   "cell_type": "markdown",
   "metadata": {},
   "source": [
    "This returns a total of 2542 rows where the value of the column `ntop_level_comments` is zero.\n",
    "\n",
    "For more complex views of the data, we can also combine multiple criteria using the `&` symbol, which is the Python operator for \"AND\".\n",
    "\n",
    "Note that individual criteria must be placed in parentheses `()` to perform the operation.\n",
    "\n",
    "Let's check if the first author in our result, Hayden King, wrote any other articles with zero comments."
   ]
  },
  {
   "cell_type": "code",
   "execution_count": 18,
   "metadata": {},
   "outputs": [
    {
     "data": {
      "text/html": [
       "<div>\n",
       "<style scoped>\n",
       "    .dataframe tbody tr th:only-of-type {\n",
       "        vertical-align: middle;\n",
       "    }\n",
       "\n",
       "    .dataframe tbody tr th {\n",
       "        vertical-align: top;\n",
       "    }\n",
       "\n",
       "    .dataframe thead th {\n",
       "        text-align: right;\n",
       "    }\n",
       "</style>\n",
       "<table border=\"1\" class=\"dataframe\">\n",
       "  <thead>\n",
       "    <tr style=\"text-align: right;\">\n",
       "      <th></th>\n",
       "      <th>article_id</th>\n",
       "      <th>title</th>\n",
       "      <th>article_url</th>\n",
       "      <th>author</th>\n",
       "      <th>published_date</th>\n",
       "      <th>ncomments</th>\n",
       "      <th>ntop_level_comments</th>\n",
       "      <th>article_text</th>\n",
       "    </tr>\n",
       "  </thead>\n",
       "  <tbody>\n",
       "    <tr>\n",
       "      <th>7797</th>\n",
       "      <td>33441604</td>\n",
       "      <td>Joseph Boyden, where are you from?</td>\n",
       "      <td>http://www.theglobeandmail.com/opinion/joseph-...</td>\n",
       "      <td>Hayden King</td>\n",
       "      <td>2016-12-28 EST</td>\n",
       "      <td>0.0</td>\n",
       "      <td>0.0</td>\n",
       "      <td>&lt;p&gt;Hayden King teaches in the School of Public...</td>\n",
       "    </tr>\n",
       "  </tbody>\n",
       "</table>\n",
       "</div>"
      ],
      "text/plain": [
       "      article_id                               title  \\\n",
       "7797    33441604  Joseph Boyden, where are you from?   \n",
       "\n",
       "                                            article_url       author  \\\n",
       "7797  http://www.theglobeandmail.com/opinion/joseph-...  Hayden King   \n",
       "\n",
       "      published_date  ncomments  ntop_level_comments  \\\n",
       "7797  2016-12-28 EST        0.0                  0.0   \n",
       "\n",
       "                                           article_text  \n",
       "7797  <p>Hayden King teaches in the School of Public...  "
      ]
     },
     "execution_count": 18,
     "metadata": {},
     "output_type": "execute_result"
    }
   ],
   "source": [
    "socc.loc[(socc['ntop_level_comments'] == 0) & (socc['author'] == 'Hayden King')]"
   ]
  },
  {
   "cell_type": "markdown",
   "metadata": {
    "nbsphinx": "hidden"
   },
   "source": [
    "### Quick in-class exercise\n",
    "\n",
    "How many articles with zero top-level comments were authored by the editorial team (`GLOBE EDITORIAL`)?\n",
    "\n",
    "Write out the whole command yourself instead of copy-pasting to get an idea of the syntax."
   ]
  },
  {
   "cell_type": "code",
   "execution_count": 19,
   "metadata": {
    "nbsphinx": "hidden"
   },
   "outputs": [],
   "source": [
    "### Enter your code below this line and run the cell (press Shift and Enter at the same time)\n"
   ]
  },
  {
   "cell_type": "markdown",
   "metadata": {},
   "source": [
    "## Extending DataFrames\n",
    "\n",
    "You can easily add information to *pandas* DataFrames.\n",
    "\n",
    "One common scenario could involve loading some data from an external file (such as a CSV or JSON file), performing some analyses and storing the results to the same DataFrame.\n",
    "\n",
    "We can easily add an empty column to the DataFrame. This is achieved using the column accessor `[]` and the Python datatype `None`.\n",
    "\n",
    "Let's add a new column named `comments_ratio` to the DataFrame `socc`."
   ]
  },
  {
   "cell_type": "code",
   "execution_count": 20,
   "metadata": {},
   "outputs": [],
   "source": [
    "socc['comments_ratio'] = None"
   ]
  },
  {
   "cell_type": "code",
   "execution_count": 21,
   "metadata": {},
   "outputs": [
    {
     "data": {
      "text/html": [
       "<div>\n",
       "<style scoped>\n",
       "    .dataframe tbody tr th:only-of-type {\n",
       "        vertical-align: middle;\n",
       "    }\n",
       "\n",
       "    .dataframe tbody tr th {\n",
       "        vertical-align: top;\n",
       "    }\n",
       "\n",
       "    .dataframe thead th {\n",
       "        text-align: right;\n",
       "    }\n",
       "</style>\n",
       "<table border=\"1\" class=\"dataframe\">\n",
       "  <thead>\n",
       "    <tr style=\"text-align: right;\">\n",
       "      <th></th>\n",
       "      <th>article_id</th>\n",
       "      <th>title</th>\n",
       "      <th>article_url</th>\n",
       "      <th>author</th>\n",
       "      <th>published_date</th>\n",
       "      <th>ncomments</th>\n",
       "      <th>ntop_level_comments</th>\n",
       "      <th>article_text</th>\n",
       "      <th>comments_ratio</th>\n",
       "    </tr>\n",
       "  </thead>\n",
       "  <tbody>\n",
       "    <tr>\n",
       "      <th>0</th>\n",
       "      <td>26842506</td>\n",
       "      <td>The Tories deserve another mandate - Stephen H...</td>\n",
       "      <td>http://www.theglobeandmail.com/opinion/editori...</td>\n",
       "      <td>GLOBE EDITORIAL</td>\n",
       "      <td>2015-10-16 EDT</td>\n",
       "      <td>2187.0</td>\n",
       "      <td>1378.0</td>\n",
       "      <td>&lt;p&gt;All elections are choices among imperfect a...</td>\n",
       "      <td>None</td>\n",
       "    </tr>\n",
       "    <tr>\n",
       "      <th>1</th>\n",
       "      <td>26055892</td>\n",
       "      <td>Harper hysteria a sign of closed liberal minds</td>\n",
       "      <td>http://www.theglobeandmail.com/opinion/harper-...</td>\n",
       "      <td>Konrad Yakabuski</td>\n",
       "      <td>2015-08-24 EDT</td>\n",
       "      <td>1103.0</td>\n",
       "      <td>455.0</td>\n",
       "      <td>&lt;p&gt;If even a fraction of the darkness that his...</td>\n",
       "      <td>None</td>\n",
       "    </tr>\n",
       "    <tr>\n",
       "      <th>2</th>\n",
       "      <td>6929035</td>\n",
       "      <td>Too many first nations people live in a dream ...</td>\n",
       "      <td>http://www.theglobeandmail.com/opinion/too-man...</td>\n",
       "      <td>Jeffrey Simpson</td>\n",
       "      <td>2013-01-05 EST</td>\n",
       "      <td>1164.0</td>\n",
       "      <td>433.0</td>\n",
       "      <td>&lt;p&gt;Large elements of aboriginal Canada live in...</td>\n",
       "      <td>None</td>\n",
       "    </tr>\n",
       "    <tr>\n",
       "      <th>3</th>\n",
       "      <td>19047636</td>\n",
       "      <td>The Globe's editorial board endorses Tim Hudak...</td>\n",
       "      <td>http://www.theglobeandmail.com/opinion/editori...</td>\n",
       "      <td>GLOBE EDITORIAL</td>\n",
       "      <td>2014-06-06 EDT</td>\n",
       "      <td>905.0</td>\n",
       "      <td>432.0</td>\n",
       "      <td>&lt;p&gt;Over four days, The Globe editorial board l...</td>\n",
       "      <td>None</td>\n",
       "    </tr>\n",
       "    <tr>\n",
       "      <th>4</th>\n",
       "      <td>11672346</td>\n",
       "      <td>Disgruntled Arab states look to strip Canada o...</td>\n",
       "      <td>http://www.theglobeandmail.com/news/world/disg...</td>\n",
       "      <td>Campbell Clark</td>\n",
       "      <td>2013-05-02 EDT</td>\n",
       "      <td>1129.0</td>\n",
       "      <td>411.0</td>\n",
       "      <td>&lt;p&gt;Growing discontent among Arab nations over ...</td>\n",
       "      <td>None</td>\n",
       "    </tr>\n",
       "  </tbody>\n",
       "</table>\n",
       "</div>"
      ],
      "text/plain": [
       "   article_id                                              title  \\\n",
       "0    26842506  The Tories deserve another mandate - Stephen H...   \n",
       "1    26055892     Harper hysteria a sign of closed liberal minds   \n",
       "2     6929035  Too many first nations people live in a dream ...   \n",
       "3    19047636  The Globe's editorial board endorses Tim Hudak...   \n",
       "4    11672346  Disgruntled Arab states look to strip Canada o...   \n",
       "\n",
       "                                         article_url            author  \\\n",
       "0  http://www.theglobeandmail.com/opinion/editori...   GLOBE EDITORIAL   \n",
       "1  http://www.theglobeandmail.com/opinion/harper-...  Konrad Yakabuski   \n",
       "2  http://www.theglobeandmail.com/opinion/too-man...   Jeffrey Simpson   \n",
       "3  http://www.theglobeandmail.com/opinion/editori...   GLOBE EDITORIAL   \n",
       "4  http://www.theglobeandmail.com/news/world/disg...    Campbell Clark   \n",
       "\n",
       "   published_date  ncomments  ntop_level_comments  \\\n",
       "0  2015-10-16 EDT     2187.0               1378.0   \n",
       "1  2015-08-24 EDT     1103.0                455.0   \n",
       "2  2013-01-05 EST     1164.0                433.0   \n",
       "3  2014-06-06 EDT      905.0                432.0   \n",
       "4  2013-05-02 EDT     1129.0                411.0   \n",
       "\n",
       "                                        article_text comments_ratio  \n",
       "0  <p>All elections are choices among imperfect a...           None  \n",
       "1  <p>If even a fraction of the darkness that his...           None  \n",
       "2  <p>Large elements of aboriginal Canada live in...           None  \n",
       "3  <p>Over four days, The Globe editorial board l...           None  \n",
       "4  <p>Growing discontent among Arab nations over ...           None  "
      ]
     },
     "execution_count": 21,
     "metadata": {},
     "output_type": "execute_result"
    }
   ],
   "source": [
    "socc.head(5)"
   ]
  },
  {
   "cell_type": "markdown",
   "metadata": {},
   "source": [
    "Let's populate the column with some data by calculating which percentage of the comments are top-level comments, assuming that a high percentage of top-level comments indicates comments about the article, whereas a lower percentage indicates more discussion about the comments posted.\n",
    "\n",
    "To get the proportion of top-level comments out of all comments, we must divide the number of top-level comments by the number of all comments."
   ]
  },
  {
   "cell_type": "code",
   "execution_count": 22,
   "metadata": {},
   "outputs": [],
   "source": [
    "socc['comments_ratio'] = socc['ntop_level_comments'] / socc['ncomments']"
   ]
  },
  {
   "cell_type": "markdown",
   "metadata": {},
   "source": [
    "Column accessors can be used very flexibly to access and manipulate data stored in the DataFrame, as exemplified by the division."
   ]
  },
  {
   "cell_type": "code",
   "execution_count": 23,
   "metadata": {},
   "outputs": [
    {
     "data": {
      "text/html": [
       "<div>\n",
       "<style scoped>\n",
       "    .dataframe tbody tr th:only-of-type {\n",
       "        vertical-align: middle;\n",
       "    }\n",
       "\n",
       "    .dataframe tbody tr th {\n",
       "        vertical-align: top;\n",
       "    }\n",
       "\n",
       "    .dataframe thead th {\n",
       "        text-align: right;\n",
       "    }\n",
       "</style>\n",
       "<table border=\"1\" class=\"dataframe\">\n",
       "  <thead>\n",
       "    <tr style=\"text-align: right;\">\n",
       "      <th></th>\n",
       "      <th>article_id</th>\n",
       "      <th>title</th>\n",
       "      <th>article_url</th>\n",
       "      <th>author</th>\n",
       "      <th>published_date</th>\n",
       "      <th>ncomments</th>\n",
       "      <th>ntop_level_comments</th>\n",
       "      <th>article_text</th>\n",
       "      <th>comments_ratio</th>\n",
       "    </tr>\n",
       "  </thead>\n",
       "  <tbody>\n",
       "    <tr>\n",
       "      <th>0</th>\n",
       "      <td>26842506</td>\n",
       "      <td>The Tories deserve another mandate - Stephen H...</td>\n",
       "      <td>http://www.theglobeandmail.com/opinion/editori...</td>\n",
       "      <td>GLOBE EDITORIAL</td>\n",
       "      <td>2015-10-16 EDT</td>\n",
       "      <td>2187.0</td>\n",
       "      <td>1378.0</td>\n",
       "      <td>&lt;p&gt;All elections are choices among imperfect a...</td>\n",
       "      <td>0.630087</td>\n",
       "    </tr>\n",
       "    <tr>\n",
       "      <th>1</th>\n",
       "      <td>26055892</td>\n",
       "      <td>Harper hysteria a sign of closed liberal minds</td>\n",
       "      <td>http://www.theglobeandmail.com/opinion/harper-...</td>\n",
       "      <td>Konrad Yakabuski</td>\n",
       "      <td>2015-08-24 EDT</td>\n",
       "      <td>1103.0</td>\n",
       "      <td>455.0</td>\n",
       "      <td>&lt;p&gt;If even a fraction of the darkness that his...</td>\n",
       "      <td>0.412511</td>\n",
       "    </tr>\n",
       "    <tr>\n",
       "      <th>2</th>\n",
       "      <td>6929035</td>\n",
       "      <td>Too many first nations people live in a dream ...</td>\n",
       "      <td>http://www.theglobeandmail.com/opinion/too-man...</td>\n",
       "      <td>Jeffrey Simpson</td>\n",
       "      <td>2013-01-05 EST</td>\n",
       "      <td>1164.0</td>\n",
       "      <td>433.0</td>\n",
       "      <td>&lt;p&gt;Large elements of aboriginal Canada live in...</td>\n",
       "      <td>0.371993</td>\n",
       "    </tr>\n",
       "    <tr>\n",
       "      <th>3</th>\n",
       "      <td>19047636</td>\n",
       "      <td>The Globe's editorial board endorses Tim Hudak...</td>\n",
       "      <td>http://www.theglobeandmail.com/opinion/editori...</td>\n",
       "      <td>GLOBE EDITORIAL</td>\n",
       "      <td>2014-06-06 EDT</td>\n",
       "      <td>905.0</td>\n",
       "      <td>432.0</td>\n",
       "      <td>&lt;p&gt;Over four days, The Globe editorial board l...</td>\n",
       "      <td>0.477348</td>\n",
       "    </tr>\n",
       "    <tr>\n",
       "      <th>4</th>\n",
       "      <td>11672346</td>\n",
       "      <td>Disgruntled Arab states look to strip Canada o...</td>\n",
       "      <td>http://www.theglobeandmail.com/news/world/disg...</td>\n",
       "      <td>Campbell Clark</td>\n",
       "      <td>2013-05-02 EDT</td>\n",
       "      <td>1129.0</td>\n",
       "      <td>411.0</td>\n",
       "      <td>&lt;p&gt;Growing discontent among Arab nations over ...</td>\n",
       "      <td>0.364039</td>\n",
       "    </tr>\n",
       "  </tbody>\n",
       "</table>\n",
       "</div>"
      ],
      "text/plain": [
       "   article_id                                              title  \\\n",
       "0    26842506  The Tories deserve another mandate - Stephen H...   \n",
       "1    26055892     Harper hysteria a sign of closed liberal minds   \n",
       "2     6929035  Too many first nations people live in a dream ...   \n",
       "3    19047636  The Globe's editorial board endorses Tim Hudak...   \n",
       "4    11672346  Disgruntled Arab states look to strip Canada o...   \n",
       "\n",
       "                                         article_url            author  \\\n",
       "0  http://www.theglobeandmail.com/opinion/editori...   GLOBE EDITORIAL   \n",
       "1  http://www.theglobeandmail.com/opinion/harper-...  Konrad Yakabuski   \n",
       "2  http://www.theglobeandmail.com/opinion/too-man...   Jeffrey Simpson   \n",
       "3  http://www.theglobeandmail.com/opinion/editori...   GLOBE EDITORIAL   \n",
       "4  http://www.theglobeandmail.com/news/world/disg...    Campbell Clark   \n",
       "\n",
       "   published_date  ncomments  ntop_level_comments  \\\n",
       "0  2015-10-16 EDT     2187.0               1378.0   \n",
       "1  2015-08-24 EDT     1103.0                455.0   \n",
       "2  2013-01-05 EST     1164.0                433.0   \n",
       "3  2014-06-06 EDT      905.0                432.0   \n",
       "4  2013-05-02 EDT     1129.0                411.0   \n",
       "\n",
       "                                        article_text  comments_ratio  \n",
       "0  <p>All elections are choices among imperfect a...        0.630087  \n",
       "1  <p>If even a fraction of the darkness that his...        0.412511  \n",
       "2  <p>Large elements of aboriginal Canada live in...        0.371993  \n",
       "3  <p>Over four days, The Globe editorial board l...        0.477348  \n",
       "4  <p>Growing discontent among Arab nations over ...        0.364039  "
      ]
     },
     "execution_count": 23,
     "metadata": {},
     "output_type": "execute_result"
    }
   ],
   "source": [
    "socc.head(5)"
   ]
  },
  {
   "cell_type": "markdown",
   "metadata": {},
   "source": [
    "As you can see, the column `comments_ratio` now stores the result of our calculation!\n",
    "\n",
    "However, we should also keep in mind that some articles did not receive any comments at all: thus we would have divided zero by zero.\n",
    "\n",
    "Let's examine these cases again by retrieving articles without comments, and use the `head()` method to limit the output to the first five rows."
   ]
  },
  {
   "cell_type": "code",
   "execution_count": 24,
   "metadata": {},
   "outputs": [
    {
     "data": {
      "text/html": [
       "<div>\n",
       "<style scoped>\n",
       "    .dataframe tbody tr th:only-of-type {\n",
       "        vertical-align: middle;\n",
       "    }\n",
       "\n",
       "    .dataframe tbody tr th {\n",
       "        vertical-align: top;\n",
       "    }\n",
       "\n",
       "    .dataframe thead th {\n",
       "        text-align: right;\n",
       "    }\n",
       "</style>\n",
       "<table border=\"1\" class=\"dataframe\">\n",
       "  <thead>\n",
       "    <tr style=\"text-align: right;\">\n",
       "      <th></th>\n",
       "      <th>article_id</th>\n",
       "      <th>title</th>\n",
       "      <th>article_url</th>\n",
       "      <th>author</th>\n",
       "      <th>published_date</th>\n",
       "      <th>ncomments</th>\n",
       "      <th>ntop_level_comments</th>\n",
       "      <th>article_text</th>\n",
       "      <th>comments_ratio</th>\n",
       "    </tr>\n",
       "  </thead>\n",
       "  <tbody>\n",
       "    <tr>\n",
       "      <th>7797</th>\n",
       "      <td>33441604</td>\n",
       "      <td>Joseph Boyden, where are you from?</td>\n",
       "      <td>http://www.theglobeandmail.com/opinion/joseph-...</td>\n",
       "      <td>Hayden King</td>\n",
       "      <td>2016-12-28 EST</td>\n",
       "      <td>0.0</td>\n",
       "      <td>0.0</td>\n",
       "      <td>&lt;p&gt;Hayden King teaches in the School of Public...</td>\n",
       "      <td>NaN</td>\n",
       "    </tr>\n",
       "    <tr>\n",
       "      <th>7798</th>\n",
       "      <td>33316285</td>\n",
       "      <td>Globe editorial: Rejoice! Congress just gave t...</td>\n",
       "      <td>http://www.theglobeandmail.com/opinion/editori...</td>\n",
       "      <td>GLOBE EDITORIAL</td>\n",
       "      <td>2016-12-13 EST</td>\n",
       "      <td>0.0</td>\n",
       "      <td>0.0</td>\n",
       "      <td>&lt;p&gt;The United States may have just elected a p...</td>\n",
       "      <td>NaN</td>\n",
       "    </tr>\n",
       "    <tr>\n",
       "      <th>7799</th>\n",
       "      <td>33009790</td>\n",
       "      <td>Police and La Presse: Warrants not warranted</td>\n",
       "      <td>http://www.theglobeandmail.com/opinion/editori...</td>\n",
       "      <td>GLOBE EDITORIAL</td>\n",
       "      <td>2016-11-23 EST</td>\n",
       "      <td>0.0</td>\n",
       "      <td>0.0</td>\n",
       "      <td>&lt;p&gt;The discovery that the Montreal Police obta...</td>\n",
       "      <td>NaN</td>\n",
       "    </tr>\n",
       "    <tr>\n",
       "      <th>7800</th>\n",
       "      <td>32970624</td>\n",
       "      <td>The Galloway affair: Salem comes to UBC</td>\n",
       "      <td>http://www.theglobeandmail.com/opinion/the-gal...</td>\n",
       "      <td>Margaret Wente</td>\n",
       "      <td>2016-11-22 EST</td>\n",
       "      <td>0.0</td>\n",
       "      <td>0.0</td>\n",
       "      <td>&lt;p&gt;I have a question about the Steven Galloway...</td>\n",
       "      <td>NaN</td>\n",
       "    </tr>\n",
       "    <tr>\n",
       "      <th>7801</th>\n",
       "      <td>32927142</td>\n",
       "      <td>Justice delayed: the law of unintended consequ...</td>\n",
       "      <td>http://www.theglobeandmail.com/opinion/unreaso...</td>\n",
       "      <td>BENJAMIN PERRIN</td>\n",
       "      <td>2016-11-19 EST</td>\n",
       "      <td>0.0</td>\n",
       "      <td>0.0</td>\n",
       "      <td>&lt;p&gt;Benjamin Perrin is a law professor at the U...</td>\n",
       "      <td>NaN</td>\n",
       "    </tr>\n",
       "  </tbody>\n",
       "</table>\n",
       "</div>"
      ],
      "text/plain": [
       "      article_id                                              title  \\\n",
       "7797    33441604                 Joseph Boyden, where are you from?   \n",
       "7798    33316285  Globe editorial: Rejoice! Congress just gave t...   \n",
       "7799    33009790       Police and La Presse: Warrants not warranted   \n",
       "7800    32970624            The Galloway affair: Salem comes to UBC   \n",
       "7801    32927142  Justice delayed: the law of unintended consequ...   \n",
       "\n",
       "                                            article_url           author  \\\n",
       "7797  http://www.theglobeandmail.com/opinion/joseph-...      Hayden King   \n",
       "7798  http://www.theglobeandmail.com/opinion/editori...  GLOBE EDITORIAL   \n",
       "7799  http://www.theglobeandmail.com/opinion/editori...  GLOBE EDITORIAL   \n",
       "7800  http://www.theglobeandmail.com/opinion/the-gal...   Margaret Wente   \n",
       "7801  http://www.theglobeandmail.com/opinion/unreaso...  BENJAMIN PERRIN   \n",
       "\n",
       "      published_date  ncomments  ntop_level_comments  \\\n",
       "7797  2016-12-28 EST        0.0                  0.0   \n",
       "7798  2016-12-13 EST        0.0                  0.0   \n",
       "7799  2016-11-23 EST        0.0                  0.0   \n",
       "7800  2016-11-22 EST        0.0                  0.0   \n",
       "7801  2016-11-19 EST        0.0                  0.0   \n",
       "\n",
       "                                           article_text  comments_ratio  \n",
       "7797  <p>Hayden King teaches in the School of Public...             NaN  \n",
       "7798  <p>The United States may have just elected a p...             NaN  \n",
       "7799  <p>The discovery that the Montreal Police obta...             NaN  \n",
       "7800  <p>I have a question about the Steven Galloway...             NaN  \n",
       "7801  <p>Benjamin Perrin is a law professor at the U...             NaN  "
      ]
     },
     "execution_count": 24,
     "metadata": {},
     "output_type": "execute_result"
    }
   ],
   "source": [
    "socc.loc[socc['ntop_level_comments'] == 0].head(5)"
   ]
  },
  {
   "cell_type": "markdown",
   "metadata": {},
   "source": [
    "For these rows, the `comments_ratio` column contains values marked as `NaN` or \"not a number\".\n",
    "\n",
    "This indicates that the division was performed on these cells as well, but the result was not a number.\n",
    "\n",
    "*pandas* automatically ignores `NaN` values when performing calculations, as show by the `.describe()` method."
   ]
  },
  {
   "cell_type": "code",
   "execution_count": 25,
   "metadata": {},
   "outputs": [
    {
     "data": {
      "text/plain": [
       "count    7797.000000\n",
       "mean        0.537057\n",
       "std         0.205398\n",
       "min         0.083333\n",
       "25%         0.384615\n",
       "50%         0.485714\n",
       "75%         0.647059\n",
       "max         1.000000\n",
       "Name: comments_ratio, dtype: float64"
      ]
     },
     "execution_count": 25,
     "metadata": {},
     "output_type": "execute_result"
    }
   ],
   "source": [
    "socc['comments_ratio'].describe()"
   ]
  },
  {
   "cell_type": "markdown",
   "metadata": {},
   "source": [
    "Note the difference in the result for the count. Only 7797 items out of 10399 were included in the calculation."
   ]
  },
  {
   "cell_type": "markdown",
   "metadata": {},
   "source": [
    "What if we would like to do some natural language processing and store the results in the DataFrame?\n",
    "\n",
    "Let's select articles that fall within the first quartile in terms of the ratio of original comments to all comments made (`comments_ratio`) and have received more than 200 comments (`ncomments`). "
   ]
  },
  {
   "cell_type": "code",
   "execution_count": 26,
   "metadata": {},
   "outputs": [
    {
     "data": {
      "text/html": [
       "<div>\n",
       "<style scoped>\n",
       "    .dataframe tbody tr th:only-of-type {\n",
       "        vertical-align: middle;\n",
       "    }\n",
       "\n",
       "    .dataframe tbody tr th {\n",
       "        vertical-align: top;\n",
       "    }\n",
       "\n",
       "    .dataframe thead th {\n",
       "        text-align: right;\n",
       "    }\n",
       "</style>\n",
       "<table border=\"1\" class=\"dataframe\">\n",
       "  <thead>\n",
       "    <tr style=\"text-align: right;\">\n",
       "      <th></th>\n",
       "      <th>article_id</th>\n",
       "      <th>title</th>\n",
       "      <th>article_url</th>\n",
       "      <th>author</th>\n",
       "      <th>published_date</th>\n",
       "      <th>ncomments</th>\n",
       "      <th>ntop_level_comments</th>\n",
       "      <th>article_text</th>\n",
       "      <th>comments_ratio</th>\n",
       "    </tr>\n",
       "  </thead>\n",
       "  <tbody>\n",
       "    <tr>\n",
       "      <th>2</th>\n",
       "      <td>6929035</td>\n",
       "      <td>Too many first nations people live in a dream ...</td>\n",
       "      <td>http://www.theglobeandmail.com/opinion/too-man...</td>\n",
       "      <td>Jeffrey Simpson</td>\n",
       "      <td>2013-01-05 EST</td>\n",
       "      <td>1164.0</td>\n",
       "      <td>433.0</td>\n",
       "      <td>&lt;p&gt;Large elements of aboriginal Canada live in...</td>\n",
       "      <td>0.371993</td>\n",
       "    </tr>\n",
       "    <tr>\n",
       "      <th>4</th>\n",
       "      <td>11672346</td>\n",
       "      <td>Disgruntled Arab states look to strip Canada o...</td>\n",
       "      <td>http://www.theglobeandmail.com/news/world/disg...</td>\n",
       "      <td>Campbell Clark</td>\n",
       "      <td>2013-05-02 EDT</td>\n",
       "      <td>1129.0</td>\n",
       "      <td>411.0</td>\n",
       "      <td>&lt;p&gt;Growing discontent among Arab nations over ...</td>\n",
       "      <td>0.364039</td>\n",
       "    </tr>\n",
       "    <tr>\n",
       "      <th>5</th>\n",
       "      <td>26691065</td>\n",
       "      <td>Fifty years in Canada, and now I feel like a s...</td>\n",
       "      <td>http://www.theglobeandmail.com/opinion/fifty-y...</td>\n",
       "      <td>SHEEMA KHAN</td>\n",
       "      <td>2015-10-07 EDT</td>\n",
       "      <td>1142.0</td>\n",
       "      <td>376.0</td>\n",
       "      <td>&lt;p&gt;'Too broken to write,' I told my editor, af...</td>\n",
       "      <td>0.329247</td>\n",
       "    </tr>\n",
       "    <tr>\n",
       "      <th>6</th>\n",
       "      <td>25731634</td>\n",
       "      <td>I'm Canadian - and I should have a right to vote</td>\n",
       "      <td>http://www.theglobeandmail.com/opinion/im-cana...</td>\n",
       "      <td>Donald Sutherland</td>\n",
       "      <td>2015-07-28 EDT</td>\n",
       "      <td>1021.0</td>\n",
       "      <td>348.0</td>\n",
       "      <td>&lt;p&gt;My name is Donald Sutherland. My wife's nam...</td>\n",
       "      <td>0.340842</td>\n",
       "    </tr>\n",
       "    <tr>\n",
       "      <th>8</th>\n",
       "      <td>13647608</td>\n",
       "      <td>A nation of $100,000 firefighters</td>\n",
       "      <td>http://www.theglobeandmail.com/opinion/a-natio...</td>\n",
       "      <td>Margaret Wente</td>\n",
       "      <td>2013-08-08 EDT</td>\n",
       "      <td>1102.0</td>\n",
       "      <td>338.0</td>\n",
       "      <td>&lt;p&gt;Everyone loves firefighters. They save live...</td>\n",
       "      <td>0.306715</td>\n",
       "    </tr>\n",
       "  </tbody>\n",
       "</table>\n",
       "</div>"
      ],
      "text/plain": [
       "   article_id                                              title  \\\n",
       "2     6929035  Too many first nations people live in a dream ...   \n",
       "4    11672346  Disgruntled Arab states look to strip Canada o...   \n",
       "5    26691065  Fifty years in Canada, and now I feel like a s...   \n",
       "6    25731634   I'm Canadian - and I should have a right to vote   \n",
       "8    13647608                  A nation of $100,000 firefighters   \n",
       "\n",
       "                                         article_url             author  \\\n",
       "2  http://www.theglobeandmail.com/opinion/too-man...    Jeffrey Simpson   \n",
       "4  http://www.theglobeandmail.com/news/world/disg...     Campbell Clark   \n",
       "5  http://www.theglobeandmail.com/opinion/fifty-y...        SHEEMA KHAN   \n",
       "6  http://www.theglobeandmail.com/opinion/im-cana...  Donald Sutherland   \n",
       "8  http://www.theglobeandmail.com/opinion/a-natio...     Margaret Wente   \n",
       "\n",
       "   published_date  ncomments  ntop_level_comments  \\\n",
       "2  2013-01-05 EST     1164.0                433.0   \n",
       "4  2013-05-02 EDT     1129.0                411.0   \n",
       "5  2015-10-07 EDT     1142.0                376.0   \n",
       "6  2015-07-28 EDT     1021.0                348.0   \n",
       "8  2013-08-08 EDT     1102.0                338.0   \n",
       "\n",
       "                                        article_text  comments_ratio  \n",
       "2  <p>Large elements of aboriginal Canada live in...        0.371993  \n",
       "4  <p>Growing discontent among Arab nations over ...        0.364039  \n",
       "5  <p>'Too broken to write,' I told my editor, af...        0.329247  \n",
       "6  <p>My name is Donald Sutherland. My wife's nam...        0.340842  \n",
       "8  <p>Everyone loves firefighters. They save live...        0.306715  "
      ]
     },
     "execution_count": 26,
     "metadata": {},
     "output_type": "execute_result"
    }
   ],
   "source": [
    "# Filter the DataFrame for highly commented articles and assign the result to the variable 'talk'\n",
    "talk = socc.loc[(socc['comments_ratio'] <= 0.384) & (socc['ncomments'] >= 200)]\n",
    "\n",
    "# Call the variable to examine the output\n",
    "talk.head(5)"
   ]
  },
  {
   "cell_type": "markdown",
   "metadata": {},
   "source": [
    "Let's import spaCy, load a medium-sized language model for English and assign this model to the variable `nlp`."
   ]
  },
  {
   "cell_type": "code",
   "execution_count": 27,
   "metadata": {},
   "outputs": [],
   "source": [
    "# Import the spaCy library\n",
    "import spacy\n",
    "\n",
    "# Note that we now load a medium-sized language model!\n",
    "nlp = spacy.load('en_core_web_md')"
   ]
  },
  {
   "cell_type": "markdown",
   "metadata": {},
   "source": [
    "Let's limit processing to article titles and create a placeholder column to the DataFrame named `processed_title`."
   ]
  },
  {
   "cell_type": "code",
   "execution_count": 28,
   "metadata": {},
   "outputs": [
    {
     "name": "stderr",
     "output_type": "stream",
     "text": [
      "<ipython-input-28-3d352019d57b>:1: SettingWithCopyWarning: \n",
      "A value is trying to be set on a copy of a slice from a DataFrame.\n",
      "Try using .loc[row_indexer,col_indexer] = value instead\n",
      "\n",
      "See the caveats in the documentation: https://pandas.pydata.org/pandas-docs/stable/user_guide/indexing.html#returning-a-view-versus-a-copy\n",
      "  talk['processed_title'] = None\n"
     ]
    }
   ],
   "source": [
    "talk['processed_title'] = None"
   ]
  },
  {
   "cell_type": "markdown",
   "metadata": {},
   "source": [
    "pandas warns about performing this command, because `talk` is only a slice or a _view_ into the DataFrame. \n",
    "\n",
    "Assigning a new column to **only a part of the DataFrame** would cause problems by breaking the tabular structure.\n",
    "\n",
    "We can fix the situation by creating a _deep copy_ of the slice using Python's `.copy()` method."
   ]
  },
  {
   "cell_type": "code",
   "execution_count": 29,
   "metadata": {},
   "outputs": [],
   "source": [
    "talk = talk.copy()"
   ]
  },
  {
   "cell_type": "markdown",
   "metadata": {},
   "source": [
    "Let's try creating an empty column again."
   ]
  },
  {
   "cell_type": "code",
   "execution_count": 30,
   "metadata": {},
   "outputs": [],
   "source": [
    "talk['processed_title'] = None"
   ]
  },
  {
   "cell_type": "code",
   "execution_count": 31,
   "metadata": {},
   "outputs": [
    {
     "data": {
      "text/html": [
       "<div>\n",
       "<style scoped>\n",
       "    .dataframe tbody tr th:only-of-type {\n",
       "        vertical-align: middle;\n",
       "    }\n",
       "\n",
       "    .dataframe tbody tr th {\n",
       "        vertical-align: top;\n",
       "    }\n",
       "\n",
       "    .dataframe thead th {\n",
       "        text-align: right;\n",
       "    }\n",
       "</style>\n",
       "<table border=\"1\" class=\"dataframe\">\n",
       "  <thead>\n",
       "    <tr style=\"text-align: right;\">\n",
       "      <th></th>\n",
       "      <th>article_id</th>\n",
       "      <th>title</th>\n",
       "      <th>article_url</th>\n",
       "      <th>author</th>\n",
       "      <th>published_date</th>\n",
       "      <th>ncomments</th>\n",
       "      <th>ntop_level_comments</th>\n",
       "      <th>article_text</th>\n",
       "      <th>comments_ratio</th>\n",
       "      <th>processed_title</th>\n",
       "    </tr>\n",
       "  </thead>\n",
       "  <tbody>\n",
       "    <tr>\n",
       "      <th>2</th>\n",
       "      <td>6929035</td>\n",
       "      <td>Too many first nations people live in a dream ...</td>\n",
       "      <td>http://www.theglobeandmail.com/opinion/too-man...</td>\n",
       "      <td>Jeffrey Simpson</td>\n",
       "      <td>2013-01-05 EST</td>\n",
       "      <td>1164.0</td>\n",
       "      <td>433.0</td>\n",
       "      <td>&lt;p&gt;Large elements of aboriginal Canada live in...</td>\n",
       "      <td>0.371993</td>\n",
       "      <td>None</td>\n",
       "    </tr>\n",
       "    <tr>\n",
       "      <th>4</th>\n",
       "      <td>11672346</td>\n",
       "      <td>Disgruntled Arab states look to strip Canada o...</td>\n",
       "      <td>http://www.theglobeandmail.com/news/world/disg...</td>\n",
       "      <td>Campbell Clark</td>\n",
       "      <td>2013-05-02 EDT</td>\n",
       "      <td>1129.0</td>\n",
       "      <td>411.0</td>\n",
       "      <td>&lt;p&gt;Growing discontent among Arab nations over ...</td>\n",
       "      <td>0.364039</td>\n",
       "      <td>None</td>\n",
       "    </tr>\n",
       "    <tr>\n",
       "      <th>5</th>\n",
       "      <td>26691065</td>\n",
       "      <td>Fifty years in Canada, and now I feel like a s...</td>\n",
       "      <td>http://www.theglobeandmail.com/opinion/fifty-y...</td>\n",
       "      <td>SHEEMA KHAN</td>\n",
       "      <td>2015-10-07 EDT</td>\n",
       "      <td>1142.0</td>\n",
       "      <td>376.0</td>\n",
       "      <td>&lt;p&gt;'Too broken to write,' I told my editor, af...</td>\n",
       "      <td>0.329247</td>\n",
       "      <td>None</td>\n",
       "    </tr>\n",
       "    <tr>\n",
       "      <th>6</th>\n",
       "      <td>25731634</td>\n",
       "      <td>I'm Canadian - and I should have a right to vote</td>\n",
       "      <td>http://www.theglobeandmail.com/opinion/im-cana...</td>\n",
       "      <td>Donald Sutherland</td>\n",
       "      <td>2015-07-28 EDT</td>\n",
       "      <td>1021.0</td>\n",
       "      <td>348.0</td>\n",
       "      <td>&lt;p&gt;My name is Donald Sutherland. My wife's nam...</td>\n",
       "      <td>0.340842</td>\n",
       "      <td>None</td>\n",
       "    </tr>\n",
       "    <tr>\n",
       "      <th>8</th>\n",
       "      <td>13647608</td>\n",
       "      <td>A nation of $100,000 firefighters</td>\n",
       "      <td>http://www.theglobeandmail.com/opinion/a-natio...</td>\n",
       "      <td>Margaret Wente</td>\n",
       "      <td>2013-08-08 EDT</td>\n",
       "      <td>1102.0</td>\n",
       "      <td>338.0</td>\n",
       "      <td>&lt;p&gt;Everyone loves firefighters. They save live...</td>\n",
       "      <td>0.306715</td>\n",
       "      <td>None</td>\n",
       "    </tr>\n",
       "  </tbody>\n",
       "</table>\n",
       "</div>"
      ],
      "text/plain": [
       "   article_id                                              title  \\\n",
       "2     6929035  Too many first nations people live in a dream ...   \n",
       "4    11672346  Disgruntled Arab states look to strip Canada o...   \n",
       "5    26691065  Fifty years in Canada, and now I feel like a s...   \n",
       "6    25731634   I'm Canadian - and I should have a right to vote   \n",
       "8    13647608                  A nation of $100,000 firefighters   \n",
       "\n",
       "                                         article_url             author  \\\n",
       "2  http://www.theglobeandmail.com/opinion/too-man...    Jeffrey Simpson   \n",
       "4  http://www.theglobeandmail.com/news/world/disg...     Campbell Clark   \n",
       "5  http://www.theglobeandmail.com/opinion/fifty-y...        SHEEMA KHAN   \n",
       "6  http://www.theglobeandmail.com/opinion/im-cana...  Donald Sutherland   \n",
       "8  http://www.theglobeandmail.com/opinion/a-natio...     Margaret Wente   \n",
       "\n",
       "   published_date  ncomments  ntop_level_comments  \\\n",
       "2  2013-01-05 EST     1164.0                433.0   \n",
       "4  2013-05-02 EDT     1129.0                411.0   \n",
       "5  2015-10-07 EDT     1142.0                376.0   \n",
       "6  2015-07-28 EDT     1021.0                348.0   \n",
       "8  2013-08-08 EDT     1102.0                338.0   \n",
       "\n",
       "                                        article_text  comments_ratio  \\\n",
       "2  <p>Large elements of aboriginal Canada live in...        0.371993   \n",
       "4  <p>Growing discontent among Arab nations over ...        0.364039   \n",
       "5  <p>'Too broken to write,' I told my editor, af...        0.329247   \n",
       "6  <p>My name is Donald Sutherland. My wife's nam...        0.340842   \n",
       "8  <p>Everyone loves firefighters. They save live...        0.306715   \n",
       "\n",
       "  processed_title  \n",
       "2            None  \n",
       "4            None  \n",
       "5            None  \n",
       "6            None  \n",
       "8            None  "
      ]
     },
     "execution_count": 31,
     "metadata": {},
     "output_type": "execute_result"
    }
   ],
   "source": [
    "talk.head(5)"
   ]
  },
  {
   "cell_type": "markdown",
   "metadata": {},
   "source": [
    "To retrieve the title for each article from the column `title`, feed it to the language model under `nlp` for processing and store the output into the column `processed_title`, we need to use the `apply()` method of a DataFrame.\n",
    "\n",
    "As the name suggests, the `apply()` method applies whatever is provided as input to the method to each row in the column.\n",
    "\n",
    "In this case, we pass the language model `nlp` to the `apply()` method, essentially retrieving the titles stored as string objects in the column `title` and \"applying\" the language model `nlp` to them.\n",
    "\n",
    "We assign the output to the DataFrame column named `processed_title`."
   ]
  },
  {
   "cell_type": "code",
   "execution_count": 32,
   "metadata": {},
   "outputs": [
    {
     "data": {
      "text/html": [
       "<div>\n",
       "<style scoped>\n",
       "    .dataframe tbody tr th:only-of-type {\n",
       "        vertical-align: middle;\n",
       "    }\n",
       "\n",
       "    .dataframe tbody tr th {\n",
       "        vertical-align: top;\n",
       "    }\n",
       "\n",
       "    .dataframe thead th {\n",
       "        text-align: right;\n",
       "    }\n",
       "</style>\n",
       "<table border=\"1\" class=\"dataframe\">\n",
       "  <thead>\n",
       "    <tr style=\"text-align: right;\">\n",
       "      <th></th>\n",
       "      <th>article_id</th>\n",
       "      <th>title</th>\n",
       "      <th>article_url</th>\n",
       "      <th>author</th>\n",
       "      <th>published_date</th>\n",
       "      <th>ncomments</th>\n",
       "      <th>ntop_level_comments</th>\n",
       "      <th>article_text</th>\n",
       "      <th>comments_ratio</th>\n",
       "      <th>processed_title</th>\n",
       "    </tr>\n",
       "  </thead>\n",
       "  <tbody>\n",
       "    <tr>\n",
       "      <th>2</th>\n",
       "      <td>6929035</td>\n",
       "      <td>Too many first nations people live in a dream ...</td>\n",
       "      <td>http://www.theglobeandmail.com/opinion/too-man...</td>\n",
       "      <td>Jeffrey Simpson</td>\n",
       "      <td>2013-01-05 EST</td>\n",
       "      <td>1164.0</td>\n",
       "      <td>433.0</td>\n",
       "      <td>&lt;p&gt;Large elements of aboriginal Canada live in...</td>\n",
       "      <td>0.371993</td>\n",
       "      <td>(Too, many, first, nations, people, live, in, ...</td>\n",
       "    </tr>\n",
       "    <tr>\n",
       "      <th>4</th>\n",
       "      <td>11672346</td>\n",
       "      <td>Disgruntled Arab states look to strip Canada o...</td>\n",
       "      <td>http://www.theglobeandmail.com/news/world/disg...</td>\n",
       "      <td>Campbell Clark</td>\n",
       "      <td>2013-05-02 EDT</td>\n",
       "      <td>1129.0</td>\n",
       "      <td>411.0</td>\n",
       "      <td>&lt;p&gt;Growing discontent among Arab nations over ...</td>\n",
       "      <td>0.364039</td>\n",
       "      <td>(Disgruntled, Arab, states, look, to, strip, C...</td>\n",
       "    </tr>\n",
       "    <tr>\n",
       "      <th>5</th>\n",
       "      <td>26691065</td>\n",
       "      <td>Fifty years in Canada, and now I feel like a s...</td>\n",
       "      <td>http://www.theglobeandmail.com/opinion/fifty-y...</td>\n",
       "      <td>SHEEMA KHAN</td>\n",
       "      <td>2015-10-07 EDT</td>\n",
       "      <td>1142.0</td>\n",
       "      <td>376.0</td>\n",
       "      <td>&lt;p&gt;'Too broken to write,' I told my editor, af...</td>\n",
       "      <td>0.329247</td>\n",
       "      <td>(Fifty, years, in, Canada, ,, and, now, I, fee...</td>\n",
       "    </tr>\n",
       "    <tr>\n",
       "      <th>6</th>\n",
       "      <td>25731634</td>\n",
       "      <td>I'm Canadian - and I should have a right to vote</td>\n",
       "      <td>http://www.theglobeandmail.com/opinion/im-cana...</td>\n",
       "      <td>Donald Sutherland</td>\n",
       "      <td>2015-07-28 EDT</td>\n",
       "      <td>1021.0</td>\n",
       "      <td>348.0</td>\n",
       "      <td>&lt;p&gt;My name is Donald Sutherland. My wife's nam...</td>\n",
       "      <td>0.340842</td>\n",
       "      <td>(I, 'm, Canadian, -, and, I, should, have, a, ...</td>\n",
       "    </tr>\n",
       "    <tr>\n",
       "      <th>8</th>\n",
       "      <td>13647608</td>\n",
       "      <td>A nation of $100,000 firefighters</td>\n",
       "      <td>http://www.theglobeandmail.com/opinion/a-natio...</td>\n",
       "      <td>Margaret Wente</td>\n",
       "      <td>2013-08-08 EDT</td>\n",
       "      <td>1102.0</td>\n",
       "      <td>338.0</td>\n",
       "      <td>&lt;p&gt;Everyone loves firefighters. They save live...</td>\n",
       "      <td>0.306715</td>\n",
       "      <td>(A, nation, of, $, 100,000, firefighters)</td>\n",
       "    </tr>\n",
       "    <tr>\n",
       "      <th>...</th>\n",
       "      <td>...</td>\n",
       "      <td>...</td>\n",
       "      <td>...</td>\n",
       "      <td>...</td>\n",
       "      <td>...</td>\n",
       "      <td>...</td>\n",
       "      <td>...</td>\n",
       "      <td>...</td>\n",
       "      <td>...</td>\n",
       "      <td>...</td>\n",
       "    </tr>\n",
       "    <tr>\n",
       "      <th>1694</th>\n",
       "      <td>30474884</td>\n",
       "      <td>A dangerous moment in history: Can the politic...</td>\n",
       "      <td>http://www.theglobeandmail.com/opinion/can-the...</td>\n",
       "      <td>Konrad Yakabuski</td>\n",
       "      <td>2016-06-16 EDT</td>\n",
       "      <td>239.0</td>\n",
       "      <td>50.0</td>\n",
       "      <td>&lt;p&gt;As anyone trying to maintain perspective wh...</td>\n",
       "      <td>0.209205</td>\n",
       "      <td>(A, dangerous, moment, in, history, :, Can, th...</td>\n",
       "    </tr>\n",
       "    <tr>\n",
       "      <th>1735</th>\n",
       "      <td>32088785</td>\n",
       "      <td>Clinton shines in first debate, and not just i...</td>\n",
       "      <td>http://www.theglobeandmail.com/opinion/editori...</td>\n",
       "      <td>GLOBE EDITORIAL</td>\n",
       "      <td>2016-09-27 EDT</td>\n",
       "      <td>232.0</td>\n",
       "      <td>49.0</td>\n",
       "      <td>&lt;p&gt;For those who wondered whether Hillary Clin...</td>\n",
       "      <td>0.211207</td>\n",
       "      <td>(Clinton, shines, in, first, debate, ,, and, n...</td>\n",
       "    </tr>\n",
       "    <tr>\n",
       "      <th>2213</th>\n",
       "      <td>30508530</td>\n",
       "      <td>U.S. gun control: Don't look for logic after O...</td>\n",
       "      <td>http://www.theglobeandmail.com/opinion/us-gun-...</td>\n",
       "      <td>Konrad Yakabuski</td>\n",
       "      <td>2016-06-20 EDT</td>\n",
       "      <td>243.0</td>\n",
       "      <td>40.0</td>\n",
       "      <td>&lt;p&gt;The script is by now tediously formulaic. A...</td>\n",
       "      <td>0.164609</td>\n",
       "      <td>(U.S., gun, control, :, Do, n't, look, for, lo...</td>\n",
       "    </tr>\n",
       "    <tr>\n",
       "      <th>2301</th>\n",
       "      <td>31605288</td>\n",
       "      <td>Let's make sure Ontario's sex-ed curriculum is...</td>\n",
       "      <td>http://www.theglobeandmail.com/opinion/lets-ma...</td>\n",
       "      <td>DEBRA SOH</td>\n",
       "      <td>2016-08-30 EDT</td>\n",
       "      <td>239.0</td>\n",
       "      <td>39.0</td>\n",
       "      <td>&lt;p&gt;Debra W. Soh is a sex writer and sexual neu...</td>\n",
       "      <td>0.163180</td>\n",
       "      <td>(Let, 's, make, sure, Ontario, 's, sex, -, ed,...</td>\n",
       "    </tr>\n",
       "    <tr>\n",
       "      <th>2302</th>\n",
       "      <td>24363093</td>\n",
       "      <td>Dad rules when sex ed collides with religion</td>\n",
       "      <td>http://www.theglobeandmail.com/opinion/dad-rul...</td>\n",
       "      <td>MICHAEL ADAMS</td>\n",
       "      <td>2015-05-11 EDT</td>\n",
       "      <td>222.0</td>\n",
       "      <td>39.0</td>\n",
       "      <td>&lt;p&gt;Michael Adams is founder and president of t...</td>\n",
       "      <td>0.175676</td>\n",
       "      <td>(Dad, rules, when, sex, ed, collides, with, re...</td>\n",
       "    </tr>\n",
       "  </tbody>\n",
       "</table>\n",
       "<p>519 rows × 10 columns</p>\n",
       "</div>"
      ],
      "text/plain": [
       "      article_id                                              title  \\\n",
       "2        6929035  Too many first nations people live in a dream ...   \n",
       "4       11672346  Disgruntled Arab states look to strip Canada o...   \n",
       "5       26691065  Fifty years in Canada, and now I feel like a s...   \n",
       "6       25731634   I'm Canadian - and I should have a right to vote   \n",
       "8       13647608                  A nation of $100,000 firefighters   \n",
       "...          ...                                                ...   \n",
       "1694    30474884  A dangerous moment in history: Can the politic...   \n",
       "1735    32088785  Clinton shines in first debate, and not just i...   \n",
       "2213    30508530  U.S. gun control: Don't look for logic after O...   \n",
       "2301    31605288  Let's make sure Ontario's sex-ed curriculum is...   \n",
       "2302    24363093       Dad rules when sex ed collides with religion   \n",
       "\n",
       "                                            article_url             author  \\\n",
       "2     http://www.theglobeandmail.com/opinion/too-man...    Jeffrey Simpson   \n",
       "4     http://www.theglobeandmail.com/news/world/disg...     Campbell Clark   \n",
       "5     http://www.theglobeandmail.com/opinion/fifty-y...        SHEEMA KHAN   \n",
       "6     http://www.theglobeandmail.com/opinion/im-cana...  Donald Sutherland   \n",
       "8     http://www.theglobeandmail.com/opinion/a-natio...     Margaret Wente   \n",
       "...                                                 ...                ...   \n",
       "1694  http://www.theglobeandmail.com/opinion/can-the...   Konrad Yakabuski   \n",
       "1735  http://www.theglobeandmail.com/opinion/editori...    GLOBE EDITORIAL   \n",
       "2213  http://www.theglobeandmail.com/opinion/us-gun-...   Konrad Yakabuski   \n",
       "2301  http://www.theglobeandmail.com/opinion/lets-ma...          DEBRA SOH   \n",
       "2302  http://www.theglobeandmail.com/opinion/dad-rul...      MICHAEL ADAMS   \n",
       "\n",
       "      published_date  ncomments  ntop_level_comments  \\\n",
       "2     2013-01-05 EST     1164.0                433.0   \n",
       "4     2013-05-02 EDT     1129.0                411.0   \n",
       "5     2015-10-07 EDT     1142.0                376.0   \n",
       "6     2015-07-28 EDT     1021.0                348.0   \n",
       "8     2013-08-08 EDT     1102.0                338.0   \n",
       "...              ...        ...                  ...   \n",
       "1694  2016-06-16 EDT      239.0                 50.0   \n",
       "1735  2016-09-27 EDT      232.0                 49.0   \n",
       "2213  2016-06-20 EDT      243.0                 40.0   \n",
       "2301  2016-08-30 EDT      239.0                 39.0   \n",
       "2302  2015-05-11 EDT      222.0                 39.0   \n",
       "\n",
       "                                           article_text  comments_ratio  \\\n",
       "2     <p>Large elements of aboriginal Canada live in...        0.371993   \n",
       "4     <p>Growing discontent among Arab nations over ...        0.364039   \n",
       "5     <p>'Too broken to write,' I told my editor, af...        0.329247   \n",
       "6     <p>My name is Donald Sutherland. My wife's nam...        0.340842   \n",
       "8     <p>Everyone loves firefighters. They save live...        0.306715   \n",
       "...                                                 ...             ...   \n",
       "1694  <p>As anyone trying to maintain perspective wh...        0.209205   \n",
       "1735  <p>For those who wondered whether Hillary Clin...        0.211207   \n",
       "2213  <p>The script is by now tediously formulaic. A...        0.164609   \n",
       "2301  <p>Debra W. Soh is a sex writer and sexual neu...        0.163180   \n",
       "2302  <p>Michael Adams is founder and president of t...        0.175676   \n",
       "\n",
       "                                        processed_title  \n",
       "2     (Too, many, first, nations, people, live, in, ...  \n",
       "4     (Disgruntled, Arab, states, look, to, strip, C...  \n",
       "5     (Fifty, years, in, Canada, ,, and, now, I, fee...  \n",
       "6     (I, 'm, Canadian, -, and, I, should, have, a, ...  \n",
       "8             (A, nation, of, $, 100,000, firefighters)  \n",
       "...                                                 ...  \n",
       "1694  (A, dangerous, moment, in, history, :, Can, th...  \n",
       "1735  (Clinton, shines, in, first, debate, ,, and, n...  \n",
       "2213  (U.S., gun, control, :, Do, n't, look, for, lo...  \n",
       "2301  (Let, 's, make, sure, Ontario, 's, sex, -, ed,...  \n",
       "2302  (Dad, rules, when, sex, ed, collides, with, re...  \n",
       "\n",
       "[519 rows x 10 columns]"
      ]
     },
     "execution_count": 32,
     "metadata": {},
     "output_type": "execute_result"
    }
   ],
   "source": [
    "# Apply the language model under 'nlp' to the contents of the DataFrame column 'title'\n",
    "talk['processed_title'] = talk['title'].apply(nlp)\n",
    "\n",
    "# Call the variable to check the output\n",
    "talk"
   ]
  },
  {
   "cell_type": "markdown",
   "metadata": {},
   "source": [
    "We now have the processed titles in a separate column named `processed_title`!\n",
    "\n",
    "Let's examine the first row in the DataFrame `talk`, whose index is 2."
   ]
  },
  {
   "cell_type": "code",
   "execution_count": 33,
   "metadata": {},
   "outputs": [
    {
     "data": {
      "text/plain": [
       "Too many first nations people live in a dream palace"
      ]
     },
     "execution_count": 33,
     "metadata": {},
     "output_type": "execute_result"
    }
   ],
   "source": [
    "talk.at[2, 'processed_title']"
   ]
  },
  {
   "cell_type": "code",
   "execution_count": 34,
   "metadata": {},
   "outputs": [
    {
     "data": {
      "text/plain": [
       "spacy.tokens.doc.Doc"
      ]
     },
     "execution_count": 34,
     "metadata": {},
     "output_type": "execute_result"
    }
   ],
   "source": [
    "type(talk.at[2, 'processed_title'])"
   ]
  },
  {
   "cell_type": "markdown",
   "metadata": {},
   "source": [
    "As you can see, the cell contains a spaCy _Doc_ object.\n",
    "\n",
    "Let's now define our own Python **function** to fetch lemmas for each noun in the title.\n",
    "\n",
    "Python functions are _defined_ using the command `def`, which is followed by the name of the function, in this case `get_nouns`. \n",
    "\n",
    "The input to the function is given in parentheses that follow the name of the function.\n",
    "\n",
    "In this case, we name a variable for the input called `nlp_text`. This is an arbitrary variable, which is needed for referring to whatever is being provided as input to the function. To put it simply, you can think of this variable as referring to any input that will be eventually provided to the function."
   ]
  },
  {
   "cell_type": "code",
   "execution_count": 35,
   "metadata": {},
   "outputs": [],
   "source": [
    "# Define a function named 'get_nouns' that takes a single object as input.\n",
    "# We refer to this input using the variable name 'nlp_text'.\n",
    "def get_nouns(nlp_text):\n",
    "    \n",
    "    # First we make sure that the input is of correct type\n",
    "    # by using the assert command to check the input type\n",
    "    assert type(nlp_text) == spacy.tokens.doc.Doc\n",
    "    \n",
    "    # Let's set up a placeholder list for our lemmas\n",
    "    lemmas = []\n",
    "    \n",
    "    # We begin then begin looping over the Doc object\n",
    "    for token in nlp_text:\n",
    "        \n",
    "        # If the fine-grained POS tag for the token is a noun (NN)\n",
    "        if token.tag_ == 'NN':\n",
    "            \n",
    "            # Append the token lemma to the list of lemmas\n",
    "            lemmas.append(token.lemma_)\n",
    "            \n",
    "    # When the loop is complete, return the list of lemmas\n",
    "    return lemmas"
   ]
  },
  {
   "cell_type": "markdown",
   "metadata": {},
   "source": [
    "Now that we have defined our function, we can use the function with the `.apply()` method to collect all nouns to the column `nouns`."
   ]
  },
  {
   "cell_type": "code",
   "execution_count": 36,
   "metadata": {},
   "outputs": [
    {
     "data": {
      "text/html": [
       "<div>\n",
       "<style scoped>\n",
       "    .dataframe tbody tr th:only-of-type {\n",
       "        vertical-align: middle;\n",
       "    }\n",
       "\n",
       "    .dataframe tbody tr th {\n",
       "        vertical-align: top;\n",
       "    }\n",
       "\n",
       "    .dataframe thead th {\n",
       "        text-align: right;\n",
       "    }\n",
       "</style>\n",
       "<table border=\"1\" class=\"dataframe\">\n",
       "  <thead>\n",
       "    <tr style=\"text-align: right;\">\n",
       "      <th></th>\n",
       "      <th>article_id</th>\n",
       "      <th>title</th>\n",
       "      <th>article_url</th>\n",
       "      <th>author</th>\n",
       "      <th>published_date</th>\n",
       "      <th>ncomments</th>\n",
       "      <th>ntop_level_comments</th>\n",
       "      <th>article_text</th>\n",
       "      <th>comments_ratio</th>\n",
       "      <th>processed_title</th>\n",
       "      <th>nouns</th>\n",
       "    </tr>\n",
       "  </thead>\n",
       "  <tbody>\n",
       "    <tr>\n",
       "      <th>2</th>\n",
       "      <td>6929035</td>\n",
       "      <td>Too many first nations people live in a dream ...</td>\n",
       "      <td>http://www.theglobeandmail.com/opinion/too-man...</td>\n",
       "      <td>Jeffrey Simpson</td>\n",
       "      <td>2013-01-05 EST</td>\n",
       "      <td>1164.0</td>\n",
       "      <td>433.0</td>\n",
       "      <td>&lt;p&gt;Large elements of aboriginal Canada live in...</td>\n",
       "      <td>0.371993</td>\n",
       "      <td>(Too, many, first, nations, people, live, in, ...</td>\n",
       "      <td>[dream, palace]</td>\n",
       "    </tr>\n",
       "    <tr>\n",
       "      <th>4</th>\n",
       "      <td>11672346</td>\n",
       "      <td>Disgruntled Arab states look to strip Canada o...</td>\n",
       "      <td>http://www.theglobeandmail.com/news/world/disg...</td>\n",
       "      <td>Campbell Clark</td>\n",
       "      <td>2013-05-02 EDT</td>\n",
       "      <td>1129.0</td>\n",
       "      <td>411.0</td>\n",
       "      <td>&lt;p&gt;Growing discontent among Arab nations over ...</td>\n",
       "      <td>0.364039</td>\n",
       "      <td>(Disgruntled, Arab, states, look, to, strip, C...</td>\n",
       "      <td>[agency]</td>\n",
       "    </tr>\n",
       "    <tr>\n",
       "      <th>5</th>\n",
       "      <td>26691065</td>\n",
       "      <td>Fifty years in Canada, and now I feel like a s...</td>\n",
       "      <td>http://www.theglobeandmail.com/opinion/fifty-y...</td>\n",
       "      <td>SHEEMA KHAN</td>\n",
       "      <td>2015-10-07 EDT</td>\n",
       "      <td>1142.0</td>\n",
       "      <td>376.0</td>\n",
       "      <td>&lt;p&gt;'Too broken to write,' I told my editor, af...</td>\n",
       "      <td>0.329247</td>\n",
       "      <td>(Fifty, years, in, Canada, ,, and, now, I, fee...</td>\n",
       "      <td>[class, citizen]</td>\n",
       "    </tr>\n",
       "    <tr>\n",
       "      <th>6</th>\n",
       "      <td>25731634</td>\n",
       "      <td>I'm Canadian - and I should have a right to vote</td>\n",
       "      <td>http://www.theglobeandmail.com/opinion/im-cana...</td>\n",
       "      <td>Donald Sutherland</td>\n",
       "      <td>2015-07-28 EDT</td>\n",
       "      <td>1021.0</td>\n",
       "      <td>348.0</td>\n",
       "      <td>&lt;p&gt;My name is Donald Sutherland. My wife's nam...</td>\n",
       "      <td>0.340842</td>\n",
       "      <td>(I, 'm, Canadian, -, and, I, should, have, a, ...</td>\n",
       "      <td>[right]</td>\n",
       "    </tr>\n",
       "    <tr>\n",
       "      <th>8</th>\n",
       "      <td>13647608</td>\n",
       "      <td>A nation of $100,000 firefighters</td>\n",
       "      <td>http://www.theglobeandmail.com/opinion/a-natio...</td>\n",
       "      <td>Margaret Wente</td>\n",
       "      <td>2013-08-08 EDT</td>\n",
       "      <td>1102.0</td>\n",
       "      <td>338.0</td>\n",
       "      <td>&lt;p&gt;Everyone loves firefighters. They save live...</td>\n",
       "      <td>0.306715</td>\n",
       "      <td>(A, nation, of, $, 100,000, firefighters)</td>\n",
       "      <td>[nation]</td>\n",
       "    </tr>\n",
       "    <tr>\n",
       "      <th>...</th>\n",
       "      <td>...</td>\n",
       "      <td>...</td>\n",
       "      <td>...</td>\n",
       "      <td>...</td>\n",
       "      <td>...</td>\n",
       "      <td>...</td>\n",
       "      <td>...</td>\n",
       "      <td>...</td>\n",
       "      <td>...</td>\n",
       "      <td>...</td>\n",
       "      <td>...</td>\n",
       "    </tr>\n",
       "    <tr>\n",
       "      <th>1694</th>\n",
       "      <td>30474884</td>\n",
       "      <td>A dangerous moment in history: Can the politic...</td>\n",
       "      <td>http://www.theglobeandmail.com/opinion/can-the...</td>\n",
       "      <td>Konrad Yakabuski</td>\n",
       "      <td>2016-06-16 EDT</td>\n",
       "      <td>239.0</td>\n",
       "      <td>50.0</td>\n",
       "      <td>&lt;p&gt;As anyone trying to maintain perspective wh...</td>\n",
       "      <td>0.209205</td>\n",
       "      <td>(A, dangerous, moment, in, history, :, Can, th...</td>\n",
       "      <td>[moment, history, centre]</td>\n",
       "    </tr>\n",
       "    <tr>\n",
       "      <th>1735</th>\n",
       "      <td>32088785</td>\n",
       "      <td>Clinton shines in first debate, and not just i...</td>\n",
       "      <td>http://www.theglobeandmail.com/opinion/editori...</td>\n",
       "      <td>GLOBE EDITORIAL</td>\n",
       "      <td>2016-09-27 EDT</td>\n",
       "      <td>232.0</td>\n",
       "      <td>49.0</td>\n",
       "      <td>&lt;p&gt;For those who wondered whether Hillary Clin...</td>\n",
       "      <td>0.211207</td>\n",
       "      <td>(Clinton, shines, in, first, debate, ,, and, n...</td>\n",
       "      <td>[debate, comparison]</td>\n",
       "    </tr>\n",
       "    <tr>\n",
       "      <th>2213</th>\n",
       "      <td>30508530</td>\n",
       "      <td>U.S. gun control: Don't look for logic after O...</td>\n",
       "      <td>http://www.theglobeandmail.com/opinion/us-gun-...</td>\n",
       "      <td>Konrad Yakabuski</td>\n",
       "      <td>2016-06-20 EDT</td>\n",
       "      <td>243.0</td>\n",
       "      <td>40.0</td>\n",
       "      <td>&lt;p&gt;The script is by now tediously formulaic. A...</td>\n",
       "      <td>0.164609</td>\n",
       "      <td>(U.S., gun, control, :, Do, n't, look, for, lo...</td>\n",
       "      <td>[gun, control, logic]</td>\n",
       "    </tr>\n",
       "    <tr>\n",
       "      <th>2301</th>\n",
       "      <td>31605288</td>\n",
       "      <td>Let's make sure Ontario's sex-ed curriculum is...</td>\n",
       "      <td>http://www.theglobeandmail.com/opinion/lets-ma...</td>\n",
       "      <td>DEBRA SOH</td>\n",
       "      <td>2016-08-30 EDT</td>\n",
       "      <td>239.0</td>\n",
       "      <td>39.0</td>\n",
       "      <td>&lt;p&gt;Debra W. Soh is a sex writer and sexual neu...</td>\n",
       "      <td>0.163180</td>\n",
       "      <td>(Let, 's, make, sure, Ontario, 's, sex, -, ed,...</td>\n",
       "      <td>[sex, ed, curriculum]</td>\n",
       "    </tr>\n",
       "    <tr>\n",
       "      <th>2302</th>\n",
       "      <td>24363093</td>\n",
       "      <td>Dad rules when sex ed collides with religion</td>\n",
       "      <td>http://www.theglobeandmail.com/opinion/dad-rul...</td>\n",
       "      <td>MICHAEL ADAMS</td>\n",
       "      <td>2015-05-11 EDT</td>\n",
       "      <td>222.0</td>\n",
       "      <td>39.0</td>\n",
       "      <td>&lt;p&gt;Michael Adams is founder and president of t...</td>\n",
       "      <td>0.175676</td>\n",
       "      <td>(Dad, rules, when, sex, ed, collides, with, re...</td>\n",
       "      <td>[sex, ed, religion]</td>\n",
       "    </tr>\n",
       "  </tbody>\n",
       "</table>\n",
       "<p>519 rows × 11 columns</p>\n",
       "</div>"
      ],
      "text/plain": [
       "      article_id                                              title  \\\n",
       "2        6929035  Too many first nations people live in a dream ...   \n",
       "4       11672346  Disgruntled Arab states look to strip Canada o...   \n",
       "5       26691065  Fifty years in Canada, and now I feel like a s...   \n",
       "6       25731634   I'm Canadian - and I should have a right to vote   \n",
       "8       13647608                  A nation of $100,000 firefighters   \n",
       "...          ...                                                ...   \n",
       "1694    30474884  A dangerous moment in history: Can the politic...   \n",
       "1735    32088785  Clinton shines in first debate, and not just i...   \n",
       "2213    30508530  U.S. gun control: Don't look for logic after O...   \n",
       "2301    31605288  Let's make sure Ontario's sex-ed curriculum is...   \n",
       "2302    24363093       Dad rules when sex ed collides with religion   \n",
       "\n",
       "                                            article_url             author  \\\n",
       "2     http://www.theglobeandmail.com/opinion/too-man...    Jeffrey Simpson   \n",
       "4     http://www.theglobeandmail.com/news/world/disg...     Campbell Clark   \n",
       "5     http://www.theglobeandmail.com/opinion/fifty-y...        SHEEMA KHAN   \n",
       "6     http://www.theglobeandmail.com/opinion/im-cana...  Donald Sutherland   \n",
       "8     http://www.theglobeandmail.com/opinion/a-natio...     Margaret Wente   \n",
       "...                                                 ...                ...   \n",
       "1694  http://www.theglobeandmail.com/opinion/can-the...   Konrad Yakabuski   \n",
       "1735  http://www.theglobeandmail.com/opinion/editori...    GLOBE EDITORIAL   \n",
       "2213  http://www.theglobeandmail.com/opinion/us-gun-...   Konrad Yakabuski   \n",
       "2301  http://www.theglobeandmail.com/opinion/lets-ma...          DEBRA SOH   \n",
       "2302  http://www.theglobeandmail.com/opinion/dad-rul...      MICHAEL ADAMS   \n",
       "\n",
       "      published_date  ncomments  ntop_level_comments  \\\n",
       "2     2013-01-05 EST     1164.0                433.0   \n",
       "4     2013-05-02 EDT     1129.0                411.0   \n",
       "5     2015-10-07 EDT     1142.0                376.0   \n",
       "6     2015-07-28 EDT     1021.0                348.0   \n",
       "8     2013-08-08 EDT     1102.0                338.0   \n",
       "...              ...        ...                  ...   \n",
       "1694  2016-06-16 EDT      239.0                 50.0   \n",
       "1735  2016-09-27 EDT      232.0                 49.0   \n",
       "2213  2016-06-20 EDT      243.0                 40.0   \n",
       "2301  2016-08-30 EDT      239.0                 39.0   \n",
       "2302  2015-05-11 EDT      222.0                 39.0   \n",
       "\n",
       "                                           article_text  comments_ratio  \\\n",
       "2     <p>Large elements of aboriginal Canada live in...        0.371993   \n",
       "4     <p>Growing discontent among Arab nations over ...        0.364039   \n",
       "5     <p>'Too broken to write,' I told my editor, af...        0.329247   \n",
       "6     <p>My name is Donald Sutherland. My wife's nam...        0.340842   \n",
       "8     <p>Everyone loves firefighters. They save live...        0.306715   \n",
       "...                                                 ...             ...   \n",
       "1694  <p>As anyone trying to maintain perspective wh...        0.209205   \n",
       "1735  <p>For those who wondered whether Hillary Clin...        0.211207   \n",
       "2213  <p>The script is by now tediously formulaic. A...        0.164609   \n",
       "2301  <p>Debra W. Soh is a sex writer and sexual neu...        0.163180   \n",
       "2302  <p>Michael Adams is founder and president of t...        0.175676   \n",
       "\n",
       "                                        processed_title  \\\n",
       "2     (Too, many, first, nations, people, live, in, ...   \n",
       "4     (Disgruntled, Arab, states, look, to, strip, C...   \n",
       "5     (Fifty, years, in, Canada, ,, and, now, I, fee...   \n",
       "6     (I, 'm, Canadian, -, and, I, should, have, a, ...   \n",
       "8             (A, nation, of, $, 100,000, firefighters)   \n",
       "...                                                 ...   \n",
       "1694  (A, dangerous, moment, in, history, :, Can, th...   \n",
       "1735  (Clinton, shines, in, first, debate, ,, and, n...   \n",
       "2213  (U.S., gun, control, :, Do, n't, look, for, lo...   \n",
       "2301  (Let, 's, make, sure, Ontario, 's, sex, -, ed,...   \n",
       "2302  (Dad, rules, when, sex, ed, collides, with, re...   \n",
       "\n",
       "                          nouns  \n",
       "2               [dream, palace]  \n",
       "4                      [agency]  \n",
       "5              [class, citizen]  \n",
       "6                       [right]  \n",
       "8                      [nation]  \n",
       "...                         ...  \n",
       "1694  [moment, history, centre]  \n",
       "1735       [debate, comparison]  \n",
       "2213      [gun, control, logic]  \n",
       "2301      [sex, ed, curriculum]  \n",
       "2302        [sex, ed, religion]  \n",
       "\n",
       "[519 rows x 11 columns]"
      ]
     },
     "execution_count": 36,
     "metadata": {},
     "output_type": "execute_result"
    }
   ],
   "source": [
    "# Apply the 'get_nouns' function to the column 'processed_title'\n",
    "talk['nouns'] = talk['processed_title'].apply(get_nouns)\n",
    "\n",
    "# Call the variable to examine the output\n",
    "talk"
   ]
  },
  {
   "cell_type": "markdown",
   "metadata": {},
   "source": [
    "As you can see, an empty DataFrame column is actually not required for adding new data, because *pandas* creates a new column automatically through assignment, as exemplified by `talk['nouns']`."
   ]
  },
  {
   "cell_type": "markdown",
   "metadata": {},
   "source": [
    "We can also easily extract information from DataFrames into Python's native data structures. \n",
    "\n",
    "The `tolist()` method, for instance, can be used to extract the contents of a *pandas* Series into a list."
   ]
  },
  {
   "cell_type": "code",
   "execution_count": 37,
   "metadata": {},
   "outputs": [
    {
     "data": {
      "text/plain": [
       "[['dream', 'palace'],\n",
       " ['agency'],\n",
       " ['class', 'citizen'],\n",
       " ['right'],\n",
       " ['nation'],\n",
       " [],\n",
       " ['reform'],\n",
       " ['leader', 'parade'],\n",
       " ['pm'],\n",
       " ['government', 'monopoly']]"
      ]
     },
     "execution_count": 37,
     "metadata": {},
     "output_type": "execute_result"
    }
   ],
   "source": [
    "# Cast pandas Series to a list\n",
    "noun_list = talk['nouns'].tolist()\n",
    "\n",
    "# Call the variable to check the output\n",
    "noun_list[:10]"
   ]
  },
  {
   "cell_type": "markdown",
   "metadata": {},
   "source": [
    "What we have now under `noun_list` is a list of lists, because each row in the `nouns` column contains a list.  \n",
    "\n",
    "Let's loop over the list and collect the items into a single list named `final_list` using the `extend()` method of a Python list."
   ]
  },
  {
   "cell_type": "code",
   "execution_count": 38,
   "metadata": {},
   "outputs": [],
   "source": [
    "# Set up the placeholder list\n",
    "final_list = []\n",
    "\n",
    "# Loop over each list in the list of lists\n",
    "for nlist in noun_list:\n",
    "    \n",
    "    # Extend the final list with the current list\n",
    "    final_list.extend(nlist)"
   ]
  },
  {
   "cell_type": "markdown",
   "metadata": {},
   "source": [
    "Let's briefly examine the first ten items in final list and then count the number of items in the list."
   ]
  },
  {
   "cell_type": "code",
   "execution_count": 39,
   "metadata": {},
   "outputs": [
    {
     "data": {
      "text/plain": [
       "['dream',\n",
       " 'palace',\n",
       " 'agency',\n",
       " 'class',\n",
       " 'citizen',\n",
       " 'right',\n",
       " 'nation',\n",
       " 'reform',\n",
       " 'leader',\n",
       " 'parade']"
      ]
     },
     "execution_count": 39,
     "metadata": {},
     "output_type": "execute_result"
    }
   ],
   "source": [
    "final_list[:10]"
   ]
  },
  {
   "cell_type": "code",
   "execution_count": 40,
   "metadata": {},
   "outputs": [
    {
     "data": {
      "text/plain": [
       "886"
      ]
     },
     "execution_count": 40,
     "metadata": {},
     "output_type": "execute_result"
    }
   ],
   "source": [
    "len(final_list)"
   ]
  },
  {
   "cell_type": "markdown",
   "metadata": {},
   "source": [
    "To plot the 10 most frequent nouns, we can cast the `final_list` into a *pandas* Series, count the occurrences of each lemma using `value_counts()` and plot the result using the `plot()` method."
   ]
  },
  {
   "cell_type": "code",
   "execution_count": 41,
   "metadata": {},
   "outputs": [
    {
     "data": {
      "text/plain": [
       "<AxesSubplot:>"
      ]
     },
     "execution_count": 41,
     "metadata": {},
     "output_type": "execute_result"
    },
    {
     "data": {
      "image/png": "[encoded data removed]",
      "text/plain": [
       "<Figure size 432x288 with 1 Axes>"
      ]
     },
     "metadata": {
      "needs_background": "light"
     },
     "output_type": "display_data"
    }
   ],
   "source": [
    "pd.Series(final_list).value_counts()[:10].plot(kind='bar')"
   ]
  },
  {
   "cell_type": "markdown",
   "metadata": {},
   "source": [
    "## Saving DataFrames\n",
    "\n",
    "pandas DataFrames can be easily saved as *pickled* objects using the `to_pickle()` method.\n",
    "\n",
    "The `to_pickle()` method takes a string as input, which defines a path to the file in which the DataFrame should be written.\n",
    "\n",
    "Let's pickle the DataFrame with the three articles stored under `df` into a file named `pickled_df.pkl` into the directory `data`."
   ]
  },
  {
   "cell_type": "code",
   "execution_count": 42,
   "metadata": {},
   "outputs": [],
   "source": [
    "# Write the DataFrame to disk using pickle\n",
    "df.to_pickle('data/pickled_df.pkl')"
   ]
  },
  {
   "cell_type": "markdown",
   "metadata": {},
   "source": [
    "We can easily check if the data has been saved successfully by reading the file contents using the `read_pickle()` method."
   ]
  },
  {
   "cell_type": "code",
   "execution_count": 43,
   "metadata": {},
   "outputs": [
    {
     "data": {
      "text/html": [
       "<div>\n",
       "<style scoped>\n",
       "    .dataframe tbody tr th:only-of-type {\n",
       "        vertical-align: middle;\n",
       "    }\n",
       "\n",
       "    .dataframe tbody tr th {\n",
       "        vertical-align: top;\n",
       "    }\n",
       "\n",
       "    .dataframe thead th {\n",
       "        text-align: right;\n",
       "    }\n",
       "</style>\n",
       "<table border=\"1\" class=\"dataframe\">\n",
       "  <thead>\n",
       "    <tr style=\"text-align: right;\">\n",
       "      <th></th>\n",
       "      <th>filename</th>\n",
       "      <th>text</th>\n",
       "    </tr>\n",
       "  </thead>\n",
       "  <tbody>\n",
       "    <tr>\n",
       "      <th>0</th>\n",
       "      <td>WP_1990-08-10-25A.txt</td>\n",
       "      <td>﻿*We Don’t Stand for Bullies': Diverse Voices ...</td>\n",
       "    </tr>\n",
       "    <tr>\n",
       "      <th>1</th>\n",
       "      <td>mod_mod_WP_1990-08-10-25A.txt</td>\n",
       "      <td>﻿*We Don’t Stand for Bullies': Diverse Voices ...</td>\n",
       "    </tr>\n",
       "    <tr>\n",
       "      <th>2</th>\n",
       "      <td>mod_WP_1990-08-10-25A.txt</td>\n",
       "      <td>﻿*We Don’t Stand for Bullies': Diverse Voices ...</td>\n",
       "    </tr>\n",
       "    <tr>\n",
       "      <th>3</th>\n",
       "      <td>NYT_1991-01-16-A15.txt</td>\n",
       "      <td>﻿U.S. TAKING STEPS TO CURB TERRORISM: F.B.I. I...</td>\n",
       "    </tr>\n",
       "    <tr>\n",
       "      <th>4</th>\n",
       "      <td>WP_1991-01-17-A1B.txt</td>\n",
       "      <td>﻿U.S., Allies Launch Massive Air War Against T...</td>\n",
       "    </tr>\n",
       "    <tr>\n",
       "      <th>5</th>\n",
       "      <td>mod_mod_NYT_1991-01-16-A15.txt</td>\n",
       "      <td>﻿U.S. TAKING STEPS TO CURB TERRORISM: F.B.I. I...</td>\n",
       "    </tr>\n",
       "    <tr>\n",
       "      <th>6</th>\n",
       "      <td>mod_mod_WP_1991-01-17-A1B.txt</td>\n",
       "      <td>﻿U.S Allies Launch Massive Air War Against Tar...</td>\n",
       "    </tr>\n",
       "    <tr>\n",
       "      <th>7</th>\n",
       "      <td>mod_WP_1991-01-17-A1B.txt</td>\n",
       "      <td>﻿U.S Allies Launch Massive Air War Against Tar...</td>\n",
       "    </tr>\n",
       "    <tr>\n",
       "      <th>8</th>\n",
       "      <td>mod_NYT_1991-01-16-A15.txt</td>\n",
       "      <td>﻿U.S. TAKING STEPS TO CURB TERRORISM: F.B.I. I...</td>\n",
       "    </tr>\n",
       "  </tbody>\n",
       "</table>\n",
       "</div>"
      ],
      "text/plain": [
       "                         filename  \\\n",
       "0           WP_1990-08-10-25A.txt   \n",
       "1   mod_mod_WP_1990-08-10-25A.txt   \n",
       "2       mod_WP_1990-08-10-25A.txt   \n",
       "3          NYT_1991-01-16-A15.txt   \n",
       "4           WP_1991-01-17-A1B.txt   \n",
       "5  mod_mod_NYT_1991-01-16-A15.txt   \n",
       "6   mod_mod_WP_1991-01-17-A1B.txt   \n",
       "7       mod_WP_1991-01-17-A1B.txt   \n",
       "8      mod_NYT_1991-01-16-A15.txt   \n",
       "\n",
       "                                                text  \n",
       "0  ﻿*We Don’t Stand for Bullies': Diverse Voices ...  \n",
       "1  ﻿*We Don’t Stand for Bullies': Diverse Voices ...  \n",
       "2  ﻿*We Don’t Stand for Bullies': Diverse Voices ...  \n",
       "3  ﻿U.S. TAKING STEPS TO CURB TERRORISM: F.B.I. I...  \n",
       "4  ﻿U.S., Allies Launch Massive Air War Against T...  \n",
       "5  ﻿U.S. TAKING STEPS TO CURB TERRORISM: F.B.I. I...  \n",
       "6  ﻿U.S Allies Launch Massive Air War Against Tar...  \n",
       "7  ﻿U.S Allies Launch Massive Air War Against Tar...  \n",
       "8  ﻿U.S. TAKING STEPS TO CURB TERRORISM: F.B.I. I...  "
      ]
     },
     "execution_count": 43,
     "metadata": {},
     "output_type": "execute_result"
    }
   ],
   "source": [
    "# Read the pickled DataFrame and assign the result to 'df_2'\n",
    "df_2 = pd.read_pickle('data/pickled_df.pkl')\n",
    "\n",
    "# Call the variable to examine the output\n",
    "df_2"
   ]
  },
  {
   "cell_type": "markdown",
   "metadata": {},
   "source": [
    "Let's compare the DataFrames, which returns a Boolean value (True/False) for each cell."
   ]
  },
  {
   "cell_type": "code",
   "execution_count": 44,
   "metadata": {},
   "outputs": [
    {
     "data": {
      "text/html": [
       "<div>\n",
       "<style scoped>\n",
       "    .dataframe tbody tr th:only-of-type {\n",
       "        vertical-align: middle;\n",
       "    }\n",
       "\n",
       "    .dataframe tbody tr th {\n",
       "        vertical-align: top;\n",
       "    }\n",
       "\n",
       "    .dataframe thead th {\n",
       "        text-align: right;\n",
       "    }\n",
       "</style>\n",
       "<table border=\"1\" class=\"dataframe\">\n",
       "  <thead>\n",
       "    <tr style=\"text-align: right;\">\n",
       "      <th></th>\n",
       "      <th>filename</th>\n",
       "      <th>text</th>\n",
       "    </tr>\n",
       "  </thead>\n",
       "  <tbody>\n",
       "    <tr>\n",
       "      <th>0</th>\n",
       "      <td>True</td>\n",
       "      <td>True</td>\n",
       "    </tr>\n",
       "    <tr>\n",
       "      <th>1</th>\n",
       "      <td>True</td>\n",
       "      <td>True</td>\n",
       "    </tr>\n",
       "    <tr>\n",
       "      <th>2</th>\n",
       "      <td>True</td>\n",
       "      <td>True</td>\n",
       "    </tr>\n",
       "    <tr>\n",
       "      <th>3</th>\n",
       "      <td>True</td>\n",
       "      <td>True</td>\n",
       "    </tr>\n",
       "    <tr>\n",
       "      <th>4</th>\n",
       "      <td>True</td>\n",
       "      <td>True</td>\n",
       "    </tr>\n",
       "    <tr>\n",
       "      <th>5</th>\n",
       "      <td>True</td>\n",
       "      <td>True</td>\n",
       "    </tr>\n",
       "    <tr>\n",
       "      <th>6</th>\n",
       "      <td>True</td>\n",
       "      <td>True</td>\n",
       "    </tr>\n",
       "    <tr>\n",
       "      <th>7</th>\n",
       "      <td>True</td>\n",
       "      <td>True</td>\n",
       "    </tr>\n",
       "    <tr>\n",
       "      <th>8</th>\n",
       "      <td>True</td>\n",
       "      <td>True</td>\n",
       "    </tr>\n",
       "  </tbody>\n",
       "</table>\n",
       "</div>"
      ],
      "text/plain": [
       "   filename  text\n",
       "0      True  True\n",
       "1      True  True\n",
       "2      True  True\n",
       "3      True  True\n",
       "4      True  True\n",
       "5      True  True\n",
       "6      True  True\n",
       "7      True  True\n",
       "8      True  True"
      ]
     },
     "execution_count": 44,
     "metadata": {},
     "output_type": "execute_result"
    }
   ],
   "source": [
    "df == df_2"
   ]
  },
  {
   "cell_type": "markdown",
   "metadata": {},
   "source": [
    "This section should have given you a basic idea of the *pandas* library and how DataFrames can be used to store and manipulate textual data."
   ]
  }
 ],
 "metadata": {
  "celltoolbar": "Edit Metadata",
  "kernelspec": {
   "display_name": "Python 3",
   "language": "python",
   "name": "python3"
  },
  "language_info": {
   "codemirror_mode": {
    "name": "ipython",
    "version": 3
   },
   "file_extension": ".py",
   "mimetype": "text/x-python",
   "name": "python",
   "nbconvert_exporter": "python",
   "pygments_lexer": "ipython3",
   "version": "3.8.5"
  }
 },
 "nbformat": 4,
 "nbformat_minor": 2
}
