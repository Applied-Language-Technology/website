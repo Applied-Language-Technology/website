{
 "cells": [
  {
   "cell_type": "markdown",
   "metadata": {},
   "source": [
    "# Introducing word embeddings\n",
    "\n",
    "Word embeddings are a technique for learning numerical representations for individual words based on the context in which the words appear. \n",
    "\n",
    "Numerical representations are a prerequisite for computational processing, that is, performing mathematical calculations.\n",
    "\n",
    "This section is rather long, because word embeddings are used for many natural language processing tasks, which can also inform linguistic research.\n",
    "\n",
    "After reading this section, you should:\n",
    "\n",
    " - understand the relation between the distributional hypothesis and word embeddings\n",
    " - how linguistic structures can be represented numerically\n",
    " - understand how word embeddings are learned"
   ]
  },
  {
   "cell_type": "markdown",
   "metadata": {},
   "source": [
    "## Background: a linguistic perspective on word embeddings\n",
    "\n",
    "The inspiration for word embeddings is often attributed to the following observation by the English linguist [J.R. Firth](https://en.wikipedia.org/wiki/John_Rupert_Firth):\n",
    "\n",
    "> \"You shall know a word by the company it keeps.\"\n",
    "\n",
    "What Firth means is that the meaning of a word can be inferred by examining the word in its context of occurrence.\n",
    "\n",
    "Martin ([2016](https://doi.org/10.1080/00437956.2016.1141939): 45) notes that Firth's interest in co-occurrences of words, or *collocations*, has spawned a wealth of linguistic research, particularly in the field of corpus linguistics. \n",
    "\n",
    "Firth's observation also resonates with the so-called *distributional hypothesis* (Harris [1954](https://doi.org/10.1080/00437956.1954.11659520)), that is, linguistic items with similar distributions should have similar meanings.\n",
    "\n",
    "Examining the distributional hypothesis from a linguistic perspective, Magnus Sahlgren ([2008](http://soda.swedish-ict.se/3941/1/sahlgren.distr-hypo.pdf): 33–34) points out that:\n",
    "\n",
    "> \"Proponents of distributional methods often seem comfortable to ascribe meaning to distributional representations without explaining what they _mean_ by meaning. For the non-distributionalist, on the other hand, this will surely seem odd if not completely outrageous, since meaning is usually taken to involve both reference to objects and situations in the world outside language, and to concepts and ideas inside the mind of the language user.\"\n",
    "\n",
    "Sahlgren ([2008](http://soda.swedish-ict.se/3941/1/sahlgren.distr-hypo.pdf): 34) argues that the distributional hypothesis can be seen as having strong roots in \"structuralist soil\", that is, [Ferdinand de Saussure](https://en.wikipedia.org/wiki/Ferdinand_de_Saussure)'s ideas about the structure of language.\n",
    "\n",
    "Saussure described language as having two facets: *langue*, the abstract system constituted by language, and *parole*, that is, instances of language produced by the underlying system of *langue*. Saussure characterised *langue* as having _syntagmatic_ and _paradigmatic_ axes of organisation, which determine the relations that can hold between linguistic signs.\n",
    "\n",
    "![](img/parasyn.svg)\n",
    "\n",
    "Saussure's and Firth's ideas were taken further by Firth's student [M.A.K. Halliday](https://en.wikipedia.org/wiki/Michael_Halliday), who incorporated them into the foundations of a theory of language known as [systemic functional linguistics](https://en.wikipedia.org/wiki/Systemic_functional_linguistics) (for a recent overview, see Martin [2016](https://doi.org/10.1080/00437956.2016.1141939)). \n",
    "\n",
    "In contrast to Saussure's view of language as a static system, Halliday emphasised the role of _choice_ for language. \n",
    "\n",
    "In Halliday's view, language is defined by *meaning potential*, which is realised *dynamically* through choices made within linguistic systems. In other words, linguistic structures are the result of making constant choices between _paradigmatic alternatives_ and combining the result of these choices into _syntagmatic organisations_. \n",
    "\n",
    "Systemic functional linguistics also emphasises the contribution of _context_ to meaning. That is, the situation in which language is used and the purpose served by language use (see e.g. Fontaine [2017](https://doi.org/10.1186/s40554-017-0051-7)).\n",
    "\n",
    "With these points in mind, we will now turn to explore the distributional hypothesis from both syntagmatic and paradigmatic perspectives."
   ]
  },
  {
   "cell_type": "markdown",
   "metadata": {},
   "source": [
    "## Exploring the distributional hypothesis\n",
    "\n",
    "### A syntagmatic perspective\n",
    "\n",
    "To explore syntagmatic organisations in a corpus of texts, we can build a co-occurrence matrix to examine which words co-occur with each other within some sequence, such as a clause, sentence or a window of a fixed width. \n",
    "\n",
    "To do so, we must retrieve unique words and counting their occurrences across all sequences.\n",
    "\n",
    "Let's start by importing the *spaCy* library and a small language model for English."
   ]
  },
  {
   "cell_type": "code",
   "execution_count": 1,
   "metadata": {},
   "outputs": [],
   "source": [
    "# Import the spaCy library\n",
    "import spacy\n",
    "\n",
    "# Load a small language model for English; assign to variable 'nlp'\n",
    "nlp = spacy.load('en_core_web_sm')"
   ]
  },
  {
   "cell_type": "markdown",
   "metadata": {},
   "source": [
    "We then define a toy example consisting of example sentences in a list, which we assign to the variable `sents`."
   ]
  },
  {
   "cell_type": "code",
   "execution_count": 2,
   "metadata": {},
   "outputs": [
    {
     "name": "stdout",
     "output_type": "stream",
     "text": [
      "['Helsinki is the capital of Finland', 'Tallinn is the capital of Estonia', 'The two capitals are joined by a ferry connection', 'Travelling between Helsinki and Tallinn takes about two hours', 'Ferries depart from downtown Helsinki and Tallinn']\n"
     ]
    }
   ],
   "source": [
    "# Create list\n",
    "sents = [\"Helsinki is the capital of Finland\",\n",
    "         \"Tallinn is the capital of Estonia\",\n",
    "         \"The two capitals are joined by a ferry connection\",\n",
    "         \"Travelling between Helsinki and Tallinn takes about two hours\",\n",
    "         \"Ferries depart from downtown Helsinki and Tallinn\"]\n",
    "\n",
    "# Print list contents\n",
    "print(sents)"
   ]
  },
  {
   "cell_type": "markdown",
   "metadata": {},
   "source": [
    "We can then feed this list to the English language model under `nlp` and store the resulting _Doc_ object under the variable `docs`.\n",
    "\n",
    "To process the example sentences effectively, we can use the `pipe()` method, which takes a list as an input.\n",
    "\n",
    "The `pipe()` method returns a generator object, which we have to cast into a list."
   ]
  },
  {
   "cell_type": "code",
   "execution_count": 3,
   "metadata": {},
   "outputs": [
    {
     "data": {
      "text/plain": [
       "[Helsinki is the capital of Finland,\n",
       " Tallinn is the capital of Estonia,\n",
       " The two capitals are joined by a ferry connection,\n",
       " Travelling between Helsinki and Tallinn takes about two hours,\n",
       " Ferries depart from downtown Helsinki and Tallinn]"
      ]
     },
     "execution_count": 3,
     "metadata": {},
     "output_type": "execute_result"
    }
   ],
   "source": [
    "# Feed the list of example sentences 'sents' to the pipe() method.\n",
    "# Cast the result into a list and store under the variable 'docs'.\n",
    "docs = list(nlp.pipe(sents))\n",
    "\n",
    "# Call the variable to check the output\n",
    "docs"
   ]
  },
  {
   "cell_type": "markdown",
   "metadata": {},
   "source": [
    "For purposes of convenience and simplicity, we examine the co-occurrence of lemmas rather than the inflected forms of words. \n",
    "\n",
    "To count the lemmas in each sentence, we must import the `LEMMA` object from spaCy's `attrs` module. \n",
    "\n",
    "`LEMMA` is just an object that refers to this particular linguistic feature, which we can pass to the `count_by()` method of a *Doc* object to instruct *spaCy* to count these linguistic features."
   ]
  },
  {
   "cell_type": "code",
   "execution_count": 4,
   "metadata": {},
   "outputs": [],
   "source": [
    "# Import the LEMMA object from the 'attrs' module of spaCy\n",
    "from spacy.attrs import LEMMA"
   ]
  },
  {
   "cell_type": "markdown",
   "metadata": {},
   "source": [
    "We then define a Python *dictionary comprehension* to count the lemmas in each sentence.\n",
    "\n",
    "A dictionary comprehension is declared using curly braces `{ }`, which are also used to designate a dictionary in Python.\n",
    "\n",
    "Because Python dictionaries consist of *keys* and *values*, we need **two** items to populate the new `lemma_counts` dictionary using a dictionary comprehension:\n",
    "\n",
    " 1. `i` refers to the number returned by the `enumerate` function that keeps count of items\n",
    " 2. `doc` refers to the current document in `docs`, our _list_ of _Doc_ objects\n",
    " \n",
    "Note that on the right-hand side of the `for` statement, these two variables are separated by a comma.\n",
    " \n",
    "The left-hand side of the `for` statement defines what is actually stored in the `lemma_counts` dictionary. \n",
    "\n",
    "In this case, we store the count `i` as the *key* and assign the output of the `count_by` method as the *value*.\n",
    "\n",
    "On the left-hand side, these variables are separated by a colon."
   ]
  },
  {
   "cell_type": "code",
   "execution_count": 5,
   "metadata": {},
   "outputs": [
    {
     "data": {
      "text/plain": [
       "{0: {332692160570289739: 1,\n",
       "  10382539506755952630: 1,\n",
       "  7425985699627899538: 1,\n",
       "  15481038060779608540: 1,\n",
       "  886050111519832510: 1,\n",
       "  12176099360009088175: 1},\n",
       " 1: {7392857733388117912: 1,\n",
       "  10382539506755952630: 1,\n",
       "  7425985699627899538: 1,\n",
       "  15481038060779608540: 1,\n",
       "  886050111519832510: 1,\n",
       "  15428882767191480669: 1},\n",
       " 2: {7425985699627899538: 1,\n",
       "  11711838292424000352: 1,\n",
       "  15481038060779608540: 1,\n",
       "  10382539506755952630: 1,\n",
       "  16238441731120403936: 1,\n",
       "  16764210730586636600: 1,\n",
       "  11901859001352538922: 1,\n",
       "  16008623592554433546: 1,\n",
       "  14753437861310164020: 1},\n",
       " 3: {9016120516514741834: 1,\n",
       "  7508752285157982505: 1,\n",
       "  332692160570289739: 1,\n",
       "  2283656566040971221: 1,\n",
       "  7392857733388117912: 1,\n",
       "  6789454535283781228: 1,\n",
       "  942632335873952620: 1,\n",
       "  11711838292424000352: 1,\n",
       "  9748623380567160636: 1},\n",
       " 4: {16008623592554433546: 1,\n",
       "  11568774473013387390: 1,\n",
       "  7831658034963690409: 1,\n",
       "  18137549281339502438: 1,\n",
       "  332692160570289739: 1,\n",
       "  2283656566040971221: 1,\n",
       "  7392857733388117912: 1}}"
      ]
     },
     "execution_count": 5,
     "metadata": {},
     "output_type": "execute_result"
    }
   ],
   "source": [
    "# Use a dictionary comprehension to populate the 'lemma_counts' dictionary\n",
    "lemma_counts = {i: doc.count_by(LEMMA) for i, doc in enumerate(docs)}\n",
    "\n",
    "# Call the variable to check the output\n",
    "lemma_counts"
   ]
  },
  {
   "cell_type": "markdown",
   "metadata": {},
   "source": [
    "As you can see, the `lemma_counts` dictionary contains the _Doc_ numbers as *keys* and dictionaries as *values*!\n",
    "\n",
    "At a glance, these dictionaries obviously report some counts, but as we learned in [Part II](../part_ii/basic_nlp.ipynb), *spaCy* uses hash values for *Tokens* for efficiency, which explains the presence of weird sequences of numbers.\n",
    "\n",
    "We can map the hash values to actual words by performing a slightly more complicated dictionary comprehension.\n",
    "\n",
    "Below we update the `lemma_counts` dictionary in two steps:\n",
    "\n",
    " 1. Looping over *key* (`i`) and *value* (`counter`) pairs, which are accessible through the `items()` method of the `lemma_counts` dictionary.\n",
    " \n",
    " This is done by the part on the **right** hand side of the `for` statement, e.g. `i, counter in lemma_counts.items()`.\n",
    " \n",
    " \n",
    " 2. Updating the *keys* and *values* of the `lemma_counts` dictionary by preserving the original key `i` that defines the sentence number.\n",
    " \n",
    " Because the dictionary *value* stored under `counter` is another dictionary, we must define yet another dictionary comprehension!\n",
    " \n",
    " This dictionary comprehension is just like the one above, but this time we update the *keys* of the `counter` dictionary to replace the hash values with text.\n",
    " \n",
    " To do so, we access the sentence in question from the list of spaCy *Doc* objects `docs` by referring to the sentence number under `i`. We then provide the hash value under `k` to the `vocab` attribute to fetch the contents of the attribute `text`.\n",
    " \n",
    "This illustrates just how much a single line of Python can achieve using powerful expressions such as dictionary comprehensions."
   ]
  },
  {
   "cell_type": "code",
   "execution_count": 6,
   "metadata": {},
   "outputs": [
    {
     "data": {
      "text/plain": [
       "{0: {'Helsinki': 1, 'be': 1, 'the': 1, 'capital': 1, 'of': 1, 'finland': 1},\n",
       " 1: {'Tallinn': 1, 'be': 1, 'the': 1, 'capital': 1, 'of': 1, 'Estonia': 1},\n",
       " 2: {'the': 1,\n",
       "  'two': 1,\n",
       "  'capital': 1,\n",
       "  'be': 1,\n",
       "  'join': 1,\n",
       "  'by': 1,\n",
       "  'a': 1,\n",
       "  'ferry': 1,\n",
       "  'connection': 1},\n",
       " 3: {'travel': 1,\n",
       "  'between': 1,\n",
       "  'Helsinki': 1,\n",
       "  'and': 1,\n",
       "  'Tallinn': 1,\n",
       "  'take': 1,\n",
       "  'about': 1,\n",
       "  'two': 1,\n",
       "  'hour': 1},\n",
       " 4: {'ferry': 1,\n",
       "  'depart': 1,\n",
       "  'from': 1,\n",
       "  'downtown': 1,\n",
       "  'Helsinki': 1,\n",
       "  'and': 1,\n",
       "  'Tallinn': 1}}"
      ]
     },
     "execution_count": 6,
     "metadata": {},
     "output_type": "execute_result"
    }
   ],
   "source": [
    "# Use a dictionary comprehension to replace the keys of the 'lemma_counts' dictionary\n",
    "lemma_counts = {i: {docs[i].vocab[k].text: v for k, v in counter.items()} for i, counter in lemma_counts.items()}\n",
    "\n",
    "# Call the variable to check the output\n",
    "lemma_counts"
   ]
  },
  {
   "cell_type": "markdown",
   "metadata": {},
   "source": [
    "This gives us a dictionary with *Doc* numbers as *keys* and dictionaries with lemma counts as *values*.\n",
    "\n",
    "To better understand these counts, we can organise them into a tabular form using a *pandas* DataFrame.\n",
    "\n",
    "This table provides a co-occurrence matrix of lemmas and sentences.\n",
    "\n",
    "We can easily populate the DataFrame by feeding the dictionary of *Docs* and lemma count dictionaries to the `from_dict()` method."
   ]
  },
  {
   "cell_type": "code",
   "execution_count": 7,
   "metadata": {},
   "outputs": [
    {
     "data": {
      "text/html": [
       "<div>\n",
       "<style scoped>\n",
       "    .dataframe tbody tr th:only-of-type {\n",
       "        vertical-align: middle;\n",
       "    }\n",
       "\n",
       "    .dataframe tbody tr th {\n",
       "        vertical-align: top;\n",
       "    }\n",
       "\n",
       "    .dataframe thead th {\n",
       "        text-align: right;\n",
       "    }\n",
       "</style>\n",
       "<table border=\"1\" class=\"dataframe\">\n",
       "  <thead>\n",
       "    <tr style=\"text-align: right;\">\n",
       "      <th></th>\n",
       "      <th>Estonia</th>\n",
       "      <th>Helsinki</th>\n",
       "      <th>Tallinn</th>\n",
       "      <th>a</th>\n",
       "      <th>about</th>\n",
       "      <th>and</th>\n",
       "      <th>be</th>\n",
       "      <th>between</th>\n",
       "      <th>by</th>\n",
       "      <th>capital</th>\n",
       "      <th>...</th>\n",
       "      <th>ferry</th>\n",
       "      <th>finland</th>\n",
       "      <th>from</th>\n",
       "      <th>hour</th>\n",
       "      <th>join</th>\n",
       "      <th>of</th>\n",
       "      <th>take</th>\n",
       "      <th>the</th>\n",
       "      <th>travel</th>\n",
       "      <th>two</th>\n",
       "    </tr>\n",
       "  </thead>\n",
       "  <tbody>\n",
       "    <tr>\n",
       "      <th>0</th>\n",
       "      <td>0.0</td>\n",
       "      <td>1.0</td>\n",
       "      <td>0.0</td>\n",
       "      <td>0.0</td>\n",
       "      <td>0.0</td>\n",
       "      <td>0.0</td>\n",
       "      <td>1.0</td>\n",
       "      <td>0.0</td>\n",
       "      <td>0.0</td>\n",
       "      <td>1.0</td>\n",
       "      <td>...</td>\n",
       "      <td>0.0</td>\n",
       "      <td>1.0</td>\n",
       "      <td>0.0</td>\n",
       "      <td>0.0</td>\n",
       "      <td>0.0</td>\n",
       "      <td>1.0</td>\n",
       "      <td>0.0</td>\n",
       "      <td>1.0</td>\n",
       "      <td>0.0</td>\n",
       "      <td>0.0</td>\n",
       "    </tr>\n",
       "    <tr>\n",
       "      <th>1</th>\n",
       "      <td>1.0</td>\n",
       "      <td>0.0</td>\n",
       "      <td>1.0</td>\n",
       "      <td>0.0</td>\n",
       "      <td>0.0</td>\n",
       "      <td>0.0</td>\n",
       "      <td>1.0</td>\n",
       "      <td>0.0</td>\n",
       "      <td>0.0</td>\n",
       "      <td>1.0</td>\n",
       "      <td>...</td>\n",
       "      <td>0.0</td>\n",
       "      <td>0.0</td>\n",
       "      <td>0.0</td>\n",
       "      <td>0.0</td>\n",
       "      <td>0.0</td>\n",
       "      <td>1.0</td>\n",
       "      <td>0.0</td>\n",
       "      <td>1.0</td>\n",
       "      <td>0.0</td>\n",
       "      <td>0.0</td>\n",
       "    </tr>\n",
       "    <tr>\n",
       "      <th>2</th>\n",
       "      <td>0.0</td>\n",
       "      <td>0.0</td>\n",
       "      <td>0.0</td>\n",
       "      <td>1.0</td>\n",
       "      <td>0.0</td>\n",
       "      <td>0.0</td>\n",
       "      <td>1.0</td>\n",
       "      <td>0.0</td>\n",
       "      <td>1.0</td>\n",
       "      <td>1.0</td>\n",
       "      <td>...</td>\n",
       "      <td>1.0</td>\n",
       "      <td>0.0</td>\n",
       "      <td>0.0</td>\n",
       "      <td>0.0</td>\n",
       "      <td>1.0</td>\n",
       "      <td>0.0</td>\n",
       "      <td>0.0</td>\n",
       "      <td>1.0</td>\n",
       "      <td>0.0</td>\n",
       "      <td>1.0</td>\n",
       "    </tr>\n",
       "    <tr>\n",
       "      <th>3</th>\n",
       "      <td>0.0</td>\n",
       "      <td>1.0</td>\n",
       "      <td>1.0</td>\n",
       "      <td>0.0</td>\n",
       "      <td>1.0</td>\n",
       "      <td>1.0</td>\n",
       "      <td>0.0</td>\n",
       "      <td>1.0</td>\n",
       "      <td>0.0</td>\n",
       "      <td>0.0</td>\n",
       "      <td>...</td>\n",
       "      <td>0.0</td>\n",
       "      <td>0.0</td>\n",
       "      <td>0.0</td>\n",
       "      <td>1.0</td>\n",
       "      <td>0.0</td>\n",
       "      <td>0.0</td>\n",
       "      <td>1.0</td>\n",
       "      <td>0.0</td>\n",
       "      <td>1.0</td>\n",
       "      <td>1.0</td>\n",
       "    </tr>\n",
       "    <tr>\n",
       "      <th>4</th>\n",
       "      <td>0.0</td>\n",
       "      <td>1.0</td>\n",
       "      <td>1.0</td>\n",
       "      <td>0.0</td>\n",
       "      <td>0.0</td>\n",
       "      <td>1.0</td>\n",
       "      <td>0.0</td>\n",
       "      <td>0.0</td>\n",
       "      <td>0.0</td>\n",
       "      <td>0.0</td>\n",
       "      <td>...</td>\n",
       "      <td>1.0</td>\n",
       "      <td>0.0</td>\n",
       "      <td>1.0</td>\n",
       "      <td>0.0</td>\n",
       "      <td>0.0</td>\n",
       "      <td>0.0</td>\n",
       "      <td>0.0</td>\n",
       "      <td>0.0</td>\n",
       "      <td>0.0</td>\n",
       "      <td>0.0</td>\n",
       "    </tr>\n",
       "  </tbody>\n",
       "</table>\n",
       "<p>5 rows × 23 columns</p>\n",
       "</div>"
      ],
      "text/plain": [
       "   Estonia  Helsinki  Tallinn    a  about  and   be  between   by  capital  \\\n",
       "0      0.0       1.0      0.0  0.0    0.0  0.0  1.0      0.0  0.0      1.0   \n",
       "1      1.0       0.0      1.0  0.0    0.0  0.0  1.0      0.0  0.0      1.0   \n",
       "2      0.0       0.0      0.0  1.0    0.0  0.0  1.0      0.0  1.0      1.0   \n",
       "3      0.0       1.0      1.0  0.0    1.0  1.0  0.0      1.0  0.0      0.0   \n",
       "4      0.0       1.0      1.0  0.0    0.0  1.0  0.0      0.0  0.0      0.0   \n",
       "\n",
       "   ...  ferry  finland  from  hour  join   of  take  the  travel  two  \n",
       "0  ...    0.0      1.0   0.0   0.0   0.0  1.0   0.0  1.0     0.0  0.0  \n",
       "1  ...    0.0      0.0   0.0   0.0   0.0  1.0   0.0  1.0     0.0  0.0  \n",
       "2  ...    1.0      0.0   0.0   0.0   1.0  0.0   0.0  1.0     0.0  1.0  \n",
       "3  ...    0.0      0.0   0.0   1.0   0.0  0.0   1.0  0.0     1.0  1.0  \n",
       "4  ...    1.0      0.0   1.0   0.0   0.0  0.0   0.0  0.0     0.0  0.0  \n",
       "\n",
       "[5 rows x 23 columns]"
      ]
     },
     "execution_count": 7,
     "metadata": {},
     "output_type": "execute_result"
    }
   ],
   "source": [
    "# Import the pandas library\n",
    "import pandas as pd\n",
    "\n",
    "# We then create a pandas DataFrame using the .from_dict() method,\n",
    "# to which we pass the dictionary under 'lemma_counts'. We then\n",
    "# sort the index in an ascending order using the sort_index() method.\n",
    "df = pd.DataFrame.from_dict(lemma_counts).sort_index(ascending=True)\n",
    "\n",
    "# Replace NaN values with zeroes using the fillna() method.\n",
    "# Finally, we use .T attribute to transpose the DataFrame.\n",
    "# This switches the place of columns and rows to improve legibility.\n",
    "df = df.fillna(0).T\n",
    "\n",
    "# Print out the DataFrame\n",
    "df"
   ]
  },
  {
   "cell_type": "markdown",
   "metadata": {},
   "source": [
    "This returns a DataFrame with *unique lemmas* across all sentences in the columns, while the individual *Docs* occupy rows at indices 0–4.\n",
    "\n",
    "Each cell in the DataFrame counts how many times a given lemma occurs in a *Doc*.\n",
    "\n",
    "We can use these counts to examine the co-occurrence of lemmas within each *Doc*.\n",
    "\n",
    "Let's examine the values for the first sentence by using the `iloc` accessor, which allows accessing the indices in a *pandas* DataFrame.\n",
    "\n",
    "We access the first *Doc* at index `0` and retrieve the values using the `values` attribute."
   ]
  },
  {
   "cell_type": "code",
   "execution_count": 8,
   "metadata": {},
   "outputs": [
    {
     "data": {
      "text/plain": [
       "array([0., 1., 0., 0., 0., 0., 1., 0., 0., 1., 0., 0., 0., 0., 1., 0., 0.,\n",
       "       0., 1., 0., 1., 0., 0.])"
      ]
     },
     "execution_count": 8,
     "metadata": {},
     "output_type": "execute_result"
    }
   ],
   "source": [
    "df.iloc[0].values"
   ]
  },
  {
   "cell_type": "markdown",
   "metadata": {},
   "source": [
    "This returns an *array*, or a list of values that counts the occurrence of lemmas in the *Doc*.\n",
    "\n",
    "In mathematics, such lists of numbers are called *vectors*.\n",
    "\n",
    "The length of this vector is defined by the number of *unique* lemmas across *all* *Docs*.\n",
    "\n",
    "This number defines the *dimensionality* of the vector.\n",
    "\n",
    "Because each sentence is now represented by a numerical vector, we can easily perform mathematical operations, such as calculate the distance between each pair of vectors to evaluate their similarity.\n",
    "\n",
    "To do so, we can import the `cosine_similarity()` function from the *scikit-learn* library, which allows measuring [cosine similarity](https://en.wikipedia.org/wiki/Cosine_similarity) between vectors."
   ]
  },
  {
   "cell_type": "code",
   "execution_count": 9,
   "metadata": {},
   "outputs": [
    {
     "data": {
      "text/plain": [
       "array([[1.        , 0.66666667, 0.40824829, 0.13608276, 0.15430335],\n",
       "       [0.66666667, 1.        , 0.40824829, 0.13608276, 0.15430335],\n",
       "       [0.40824829, 0.40824829, 1.        , 0.11111111, 0.12598816],\n",
       "       [0.13608276, 0.13608276, 0.11111111, 1.        , 0.37796447],\n",
       "       [0.15430335, 0.15430335, 0.12598816, 0.37796447, 1.        ]])"
      ]
     },
     "execution_count": 9,
     "metadata": {},
     "output_type": "execute_result"
    }
   ],
   "source": [
    "# Import the function for measuring cosine similarity\n",
    "from sklearn.metrics.pairwise import cosine_similarity\n",
    "\n",
    "# Evaluate cosine similarity between vectors\n",
    "sim = cosine_similarity(df.values)\n",
    "\n",
    "# Call the variable to examine the output\n",
    "sim"
   ]
  },
  {
   "cell_type": "markdown",
   "metadata": {},
   "source": [
    "This returns a 5 by 5 matrix with measures for cosine similarity between each pair of sentences.\n",
    "\n",
    "To help us interpret this table, let's import the `heatmap()` function from the _seaborn_ library to visualise the cosine similarity matrix."
   ]
  },
  {
   "cell_type": "code",
   "execution_count": 10,
   "metadata": {},
   "outputs": [
    {
     "data": {
      "text/plain": [
       "<AxesSubplot:>"
      ]
     },
     "execution_count": 10,
     "metadata": {},
     "output_type": "execute_result"
    },
    {
     "data": {
      "image/png": "[encoded data removed]",
      "text/plain": [
       "<Figure size 432x288 with 2 Axes>"
      ]
     },
     "metadata": {
      "needs_background": "light"
     },
     "output_type": "display_data"
    }
   ],
   "source": [
    "# Import the heatmap function from the seaborn library\n",
    "from seaborn import heatmap\n",
    "\n",
    "# Provide the cosine similarity matrix under 'sim' to the heatmap() function\n",
    "heatmap(sim)"
   ]
  },
  {
   "cell_type": "markdown",
   "metadata": {},
   "source": [
    "Each row and column in the heatmap represent a single *Doc*.\n",
    "\n",
    "The heatmap shows a diagonal line across the table with values of 1.0, because each *Doc* is also compared to itself!\n",
    "\n",
    "These *Docs* are naturally perfectly similar, which results in a value of 1.0.\n",
    "\n",
    "What we can also see is that *Docs* 0 and 1 feature some similarities, while most *Docs* are not similar at all, as their values are 0.0."
   ]
  },
  {
   "cell_type": "markdown",
   "metadata": {},
   "source": [
    "To summarise, a co-occurrence matrix can describe *syntagmatic structures* by paradigmatic choices that co-occur within some fixed unit or window of a given length (in our case, a sentence).\n",
    "\n",
    "The downside to this approach, however, is that when the size of the vocabulary in the corpus increases, so does the size of the co-occurrence matrix. For each new word, we must add another dimension for keeping track of its occurrences.\n",
    "\n",
    "Furthermore, the co-occurrence matrix does not contain information about the *order* in which the words appear. For this reason, such representations are often characterised using the term \"[bag of words](https://en.wikipedia.org/wiki/Bag-of-words_model)\".\n",
    "\n",
    "The lack of information about word sequences complicates the identification of paradigmatic alternatives, that is, words that *could* have occurred in connection with other words."
   ]
  },
  {
   "cell_type": "markdown",
   "metadata": {},
   "source": [
    "### A paradigmatic perspective\n",
    "\n",
    "To explore the distributional hypothesis from a paradigmatic perspective, we must shift the target of description from sequences of text to words.\n",
    "\n",
    "Just as we represented entire sentences using vectors with the help of a co-occurrence matrix, we can do the same for individual words.\n",
    "\n",
    "Let's start by taking the unique lemmas in our corpus of *Docs*.\n",
    "\n",
    "These can be easily retrieved from the DataFrame `df` by accessing the `columns` attribute, because the columns correspond to the unique lemmas. We then use the `tolist()` method to convert the output into a Python list."
   ]
  },
  {
   "cell_type": "code",
   "execution_count": 11,
   "metadata": {},
   "outputs": [
    {
     "data": {
      "text/plain": [
       "['Estonia',\n",
       " 'Helsinki',\n",
       " 'Tallinn',\n",
       " 'a',\n",
       " 'about',\n",
       " 'and',\n",
       " 'be',\n",
       " 'between',\n",
       " 'by',\n",
       " 'capital',\n",
       " 'connection',\n",
       " 'depart',\n",
       " 'downtown',\n",
       " 'ferry',\n",
       " 'finland',\n",
       " 'from',\n",
       " 'hour',\n",
       " 'join',\n",
       " 'of',\n",
       " 'take',\n",
       " 'the',\n",
       " 'travel',\n",
       " 'two']"
      ]
     },
     "execution_count": 11,
     "metadata": {},
     "output_type": "execute_result"
    }
   ],
   "source": [
    "# Retrieve the unique lemmas from the DataFrame and convert to list\n",
    "unique_lemmas = df.columns.tolist()\n",
    "\n",
    "# Call the variable to examine the output\n",
    "unique_lemmas"
   ]
  },
  {
   "cell_type": "markdown",
   "metadata": {},
   "source": [
    "We can use a technique called *one-hot encoding* to represent each lemma numerically.\n",
    "\n",
    "One-hot encoding maps each lemma to a vector, which consists of zeroes except at one one dimension, where the value is one. This encodes the identity of a given word.\n",
    "\n",
    "Let's examine this in practice by mapping each lemma to a corresponding one-hot vector.\n",
    "\n",
    "To do so, we import *NumPy*, a Python library for working with arrays (Harris et al. [2020](https://doi.org/10.1038/s41586-020-2649-2))."
   ]
  },
  {
   "cell_type": "code",
   "execution_count": 12,
   "metadata": {},
   "outputs": [
    {
     "name": "stdout",
     "output_type": "stream",
     "text": [
      "[1. 0. 0. 0. 0. 0. 0. 0. 0. 0. 0. 0. 0. 0. 0. 0. 0. 0. 0. 0. 0. 0. 0.] Estonia\n",
      "[0. 1. 0. 0. 0. 0. 0. 0. 0. 0. 0. 0. 0. 0. 0. 0. 0. 0. 0. 0. 0. 0. 0.] Helsinki\n",
      "[0. 0. 1. 0. 0. 0. 0. 0. 0. 0. 0. 0. 0. 0. 0. 0. 0. 0. 0. 0. 0. 0. 0.] Tallinn\n",
      "[0. 0. 0. 1. 0. 0. 0. 0. 0. 0. 0. 0. 0. 0. 0. 0. 0. 0. 0. 0. 0. 0. 0.] a\n",
      "[0. 0. 0. 0. 1. 0. 0. 0. 0. 0. 0. 0. 0. 0. 0. 0. 0. 0. 0. 0. 0. 0. 0.] about\n",
      "[0. 0. 0. 0. 0. 1. 0. 0. 0. 0. 0. 0. 0. 0. 0. 0. 0. 0. 0. 0. 0. 0. 0.] and\n",
      "[0. 0. 0. 0. 0. 0. 1. 0. 0. 0. 0. 0. 0. 0. 0. 0. 0. 0. 0. 0. 0. 0. 0.] be\n",
      "[0. 0. 0. 0. 0. 0. 0. 1. 0. 0. 0. 0. 0. 0. 0. 0. 0. 0. 0. 0. 0. 0. 0.] between\n",
      "[0. 0. 0. 0. 0. 0. 0. 0. 1. 0. 0. 0. 0. 0. 0. 0. 0. 0. 0. 0. 0. 0. 0.] by\n",
      "[0. 0. 0. 0. 0. 0. 0. 0. 0. 1. 0. 0. 0. 0. 0. 0. 0. 0. 0. 0. 0. 0. 0.] capital\n",
      "[0. 0. 0. 0. 0. 0. 0. 0. 0. 0. 1. 0. 0. 0. 0. 0. 0. 0. 0. 0. 0. 0. 0.] connection\n",
      "[0. 0. 0. 0. 0. 0. 0. 0. 0. 0. 0. 1. 0. 0. 0. 0. 0. 0. 0. 0. 0. 0. 0.] depart\n",
      "[0. 0. 0. 0. 0. 0. 0. 0. 0. 0. 0. 0. 1. 0. 0. 0. 0. 0. 0. 0. 0. 0. 0.] downtown\n",
      "[0. 0. 0. 0. 0. 0. 0. 0. 0. 0. 0. 0. 0. 1. 0. 0. 0. 0. 0. 0. 0. 0. 0.] ferry\n",
      "[0. 0. 0. 0. 0. 0. 0. 0. 0. 0. 0. 0. 0. 0. 1. 0. 0. 0. 0. 0. 0. 0. 0.] finland\n",
      "[0. 0. 0. 0. 0. 0. 0. 0. 0. 0. 0. 0. 0. 0. 0. 1. 0. 0. 0. 0. 0. 0. 0.] from\n",
      "[0. 0. 0. 0. 0. 0. 0. 0. 0. 0. 0. 0. 0. 0. 0. 0. 1. 0. 0. 0. 0. 0. 0.] hour\n",
      "[0. 0. 0. 0. 0. 0. 0. 0. 0. 0. 0. 0. 0. 0. 0. 0. 0. 1. 0. 0. 0. 0. 0.] join\n",
      "[0. 0. 0. 0. 0. 0. 0. 0. 0. 0. 0. 0. 0. 0. 0. 0. 0. 0. 1. 0. 0. 0. 0.] of\n",
      "[0. 0. 0. 0. 0. 0. 0. 0. 0. 0. 0. 0. 0. 0. 0. 0. 0. 0. 0. 1. 0. 0. 0.] take\n",
      "[0. 0. 0. 0. 0. 0. 0. 0. 0. 0. 0. 0. 0. 0. 0. 0. 0. 0. 0. 0. 1. 0. 0.] the\n",
      "[0. 0. 0. 0. 0. 0. 0. 0. 0. 0. 0. 0. 0. 0. 0. 0. 0. 0. 0. 0. 0. 1. 0.] travel\n",
      "[0. 0. 0. 0. 0. 0. 0. 0. 0. 0. 0. 0. 0. 0. 0. 0. 0. 0. 0. 0. 0. 0. 1.] two\n"
     ]
    }
   ],
   "source": [
    "# Import NumPy, assign name 'np'\n",
    "import numpy as np\n",
    "\n",
    "# Define an empty placeholder dictionary for lemmas and their vectors\n",
    "lemma_vectors = {}\n",
    "\n",
    "# Loop over the list of unique lemmas; count items using enumerate()\n",
    "for i, lemma in enumerate(unique_lemmas):\n",
    "    \n",
    "    # Create a vector with a length that corresponds to that of the\n",
    "    # 'unique_lemmas' list. This matches the size of our vocabulary.\n",
    "    # The np.zeros() function fills this vector with zeroes.\n",
    "    vector = np.zeros(shape=len(unique_lemmas))\n",
    "    \n",
    "    # Use the brackets to access the vector at the current index 'i',\n",
    "    # which we retrieve during the loop over the list 'unique_lemmas'.\n",
    "    # Set the value to one instead of zero at this position in the vector.\n",
    "    vector[i] = 1\n",
    "    \n",
    "    # Store the lemma and vector into the dictionary\n",
    "    lemma_vectors[lemma] = vector\n",
    "    \n",
    "    # Print out the vector and the lemma it corresponds to\n",
    "    print(vector, lemma)"
   ]
  },
  {
   "cell_type": "markdown",
   "metadata": {},
   "source": [
    "As you can see, dimensions that have a value of 1.0 form a diagonal line across the vectors.\n",
    "\n",
    "This diagonal line emerges because each dimension of the vector encodes the presence of a unique lemma. \n",
    "\n",
    "We can use these vectors to encode sequences of words into numerical representations, which allows us to capture paradigmatic choices in their syntagmatic context of occurrence!\n",
    "\n",
    "Put differently, we can now observe which words occur in similar contexts and are potentially *paradigmatic alternatives*."
   ]
  },
  {
   "cell_type": "code",
   "execution_count": 13,
   "metadata": {},
   "outputs": [
    {
     "name": "stdout",
     "output_type": "stream",
     "text": [
      "[0. 1. 0. 0. 0. 0. 0. 0. 0. 0. 0. 0. 0. 0. 0. 0. 0. 0. 0. 0. 0. 0. 0.] Helsinki\n",
      "[0. 0. 0. 0. 0. 0. 1. 0. 0. 0. 0. 0. 0. 0. 0. 0. 0. 0. 0. 0. 0. 0. 0.] be\n",
      "[0. 0. 0. 0. 0. 0. 0. 0. 0. 0. 0. 0. 0. 0. 0. 0. 0. 0. 0. 0. 1. 0. 0.] the\n",
      "[0. 0. 0. 0. 0. 0. 0. 0. 0. 1. 0. 0. 0. 0. 0. 0. 0. 0. 0. 0. 0. 0. 0.] capital\n",
      "[0. 0. 0. 0. 0. 0. 0. 0. 0. 0. 0. 0. 0. 0. 0. 0. 0. 0. 1. 0. 0. 0. 0.] of\n",
      "[0. 0. 0. 0. 0. 0. 0. 0. 0. 0. 0. 0. 0. 0. 1. 0. 0. 0. 0. 0. 0. 0. 0.] finland\n"
     ]
    }
   ],
   "source": [
    "# Loop over Tokens in the first Doc in the list\n",
    "for token in docs[0]:\n",
    "    \n",
    "    # Get the lemma of each token under the attribute 'lemma_'\n",
    "    # and use this as a key for the 'lemma_vectors' dictionary\n",
    "    # to retrieve the associated vector. Then print the lemma\n",
    "    # itself.\n",
    "    print(lemma_vectors[token.lemma_], token.lemma_)"
   ]
  },
  {
   "cell_type": "markdown",
   "metadata": {},
   "source": [
    "We can join these vector representations of individual words into a *matrix*, a multidimensional \"table\" of vectors.\n",
    "\n",
    "We can use NumPy's `vstack()` method to stack the vectors vertically, that is, place the vectors on top of each other to form a matrix that represents the entire *Doc*."
   ]
  },
  {
   "cell_type": "code",
   "execution_count": 14,
   "metadata": {},
   "outputs": [
    {
     "data": {
      "text/plain": [
       "array([[0., 1., 0., 0., 0., 0., 0., 0., 0., 0., 0., 0., 0., 0., 0., 0.,\n",
       "        0., 0., 0., 0., 0., 0., 0.],\n",
       "       [0., 0., 0., 0., 0., 0., 1., 0., 0., 0., 0., 0., 0., 0., 0., 0.,\n",
       "        0., 0., 0., 0., 0., 0., 0.],\n",
       "       [0., 0., 0., 0., 0., 0., 0., 0., 0., 0., 0., 0., 0., 0., 0., 0.,\n",
       "        0., 0., 0., 0., 1., 0., 0.],\n",
       "       [0., 0., 0., 0., 0., 0., 0., 0., 0., 1., 0., 0., 0., 0., 0., 0.,\n",
       "        0., 0., 0., 0., 0., 0., 0.],\n",
       "       [0., 0., 0., 0., 0., 0., 0., 0., 0., 0., 0., 0., 0., 0., 0., 0.,\n",
       "        0., 0., 1., 0., 0., 0., 0.],\n",
       "       [0., 0., 0., 0., 0., 0., 0., 0., 0., 0., 0., 0., 0., 0., 1., 0.,\n",
       "        0., 0., 0., 0., 0., 0., 0.]])"
      ]
     },
     "execution_count": 14,
     "metadata": {},
     "output_type": "execute_result"
    }
   ],
   "source": [
    "# Use a list comprehension to collect the vectors for each lemma in the first Doc\n",
    "sentence_matrix = np.vstack([lemma_vectors[token.lemma_] for token in docs[0]])\n",
    "\n",
    "# Call the variable to examine the output\n",
    "sentence_matrix"
   ]
  },
  {
   "cell_type": "markdown",
   "metadata": {},
   "source": [
    "We can examine the shape of the resulting matrix using the attribute `shape`."
   ]
  },
  {
   "cell_type": "code",
   "execution_count": 15,
   "metadata": {},
   "outputs": [
    {
     "data": {
      "text/plain": [
       "(6, 23)"
      ]
     },
     "execution_count": 15,
     "metadata": {},
     "output_type": "execute_result"
    }
   ],
   "source": [
    "sentence_matrix.shape"
   ]
  },
  {
   "cell_type": "markdown",
   "metadata": {},
   "source": [
    "The `shape` attribute contains the shape of the matrix: six rows, one for each lemma, and 23 columns, which encode the presence of individual lemmas in the vocabulary.\n",
    "\n",
    "A matrix allows representing any sequence of *Tokens* numerically. However, as the size of the vocabulary grows, so does the number of dimensions needed to represent each unique word in the vocabulary.\n",
    "\n",
    "These vectors are often characterised as *sparse*, because most dimensions do not encode any information, but consist of zero values.\n",
    "\n",
    "To make word embeddings efficient, each dimension of a vector should encode some information about the word and the context in which it occurs.\n",
    "\n",
    "This can be achieved by learning word embeddings directly from data."
   ]
  },
  {
   "cell_type": "markdown",
   "metadata": {},
   "source": [
    "## Learning word embeddings\n",
    "\n",
    "As introduced above, we can now map each lemma to a sparse vector, which consists of zeros except in one position (or dimension), which encodes the identity of a given lemma by having a value of 1.\n",
    "\n",
    "We can use the mappings between a word and its vector to encode any sequence of words, provided that the words are included in our vocabulary.\n",
    "\n",
    "Because we can now represent any word numerically as a vector, we can use these vectors to train an algorithm to predict which words are likely to occur close to each other.\n",
    "\n",
    "To do so, we must determine what we consider as a neighbour to a given word.\n",
    "\n",
    "To exemplify, let's choose the second *Doc* in the list `docs` as an example."
   ]
  },
  {
   "cell_type": "code",
   "execution_count": 16,
   "metadata": {},
   "outputs": [
    {
     "data": {
      "text/plain": [
       "Tallinn is the capital of Estonia"
      ]
     },
     "execution_count": 16,
     "metadata": {},
     "output_type": "execute_result"
    }
   ],
   "source": [
    "# Access the second Doc in the list: remember zero-indexing!\n",
    "docs[1]"
   ]
  },
  {
   "cell_type": "markdown",
   "metadata": {},
   "source": [
    "Let's assume that the two neighbouring words on either side of a word count as its neighbours.\n",
    "\n",
    "To examine a single word, let's access the third _Token_ in the second *Doc*."
   ]
  },
  {
   "cell_type": "code",
   "execution_count": 17,
   "metadata": {},
   "outputs": [
    {
     "data": {
      "text/plain": [
       "the"
      ]
     },
     "execution_count": 17,
     "metadata": {},
     "output_type": "execute_result"
    }
   ],
   "source": [
    "# Access the second Doc and the third Token\n",
    "docs[1][2]"
   ]
  },
  {
   "cell_type": "markdown",
   "metadata": {},
   "source": [
    "We can use the `nbor()` method of a *Token* to fetch the neighbours of the current *Token*.\n",
    "\n",
    "The `nbor()` method takes an integer as input, which determines the position relative to the current *Token*. \n",
    "\n",
    "Negative integers refer to the indices of *Tokens* that come before the current *Token*, while positive integers refer to those that come after."
   ]
  },
  {
   "cell_type": "code",
   "execution_count": 18,
   "metadata": {},
   "outputs": [
    {
     "data": {
      "text/plain": [
       "is"
      ]
     },
     "execution_count": 18,
     "metadata": {},
     "output_type": "execute_result"
    }
   ],
   "source": [
    "# Get the preceding Token at position -1\n",
    "docs[1][2].nbor(-1)"
   ]
  },
  {
   "cell_type": "code",
   "execution_count": 19,
   "metadata": {},
   "outputs": [
    {
     "data": {
      "text/plain": [
       "capital"
      ]
     },
     "execution_count": 19,
     "metadata": {},
     "output_type": "execute_result"
    }
   ],
   "source": [
    "# Get the follow Token at position +1\n",
    "docs[1][2].nbor(1)"
   ]
  },
  {
   "cell_type": "markdown",
   "metadata": {},
   "source": [
    "In order to train an algorithm to predict neighbouring words, we must first collect all words that occur within a two-word window of a given word.\n",
    "\n",
    "In linguistics, words that co-occur with each other are known as a collocation.\n",
    "\n",
    "Note that our approach only approximates collocations, since our definition of a word's neighbourhood is not motivated linguistically, whereas actual collocates often are. In other words, our search for collocates can easily violate the borders of perceived linguistic structures.\n",
    "\n",
    "Furthermore, not all words have neighbours on both sides: the words that start or finish a sentence or some other sequence will not have preceding or following words.\n",
    "\n",
    "To deal with this problem, we can use the `try` and `except` statements in Python to catch the errors arising from missing neighbours."
   ]
  },
  {
   "cell_type": "code",
   "execution_count": 20,
   "metadata": {},
   "outputs": [],
   "source": [
    "# Define a list to hold Tokens and their neighbouring Tokens\n",
    "pairs = []\n",
    "\n",
    "# Loop over each Doc in the list of Docs under the variable 'docs'\n",
    "for doc in docs:\n",
    "    \n",
    "    # Loop over each Token in a Doc\n",
    "    for token in doc:\n",
    "        \n",
    "        # Loop over the indices of neighbouring Tokens that are of \n",
    "        # interest to us.\n",
    "        for neighbour_i in [-2, -1, 1, 2]:\n",
    "        \n",
    "            # Try to retrieve neighbour at position 'neighbour_i'\n",
    "            try:\n",
    "\n",
    "                # Assign the preceding Token into the variable 'context'\n",
    "                context = token.nbor(neighbour_i)\n",
    "            \n",
    "                # Append a tuple consisting of the current Token\n",
    "                # and the neighbouring Token to the list 'pairs'\n",
    "                pairs.append((token.lemma_, context.lemma_))\n",
    "        \n",
    "            # Use the except command to catch the error arising if \n",
    "            # there is no preceding Token ('IndexError')\n",
    "            except IndexError:\n",
    "\n",
    "                # Move to the next Token in the list of neighbours\n",
    "                continue"
   ]
  },
  {
   "cell_type": "markdown",
   "metadata": {},
   "source": [
    "This produces a list of tuples that contain word pairs that occur within two words of each other.\n",
    "\n",
    "Let's print out the first 10 pairs to examine the result."
   ]
  },
  {
   "cell_type": "code",
   "execution_count": 21,
   "metadata": {},
   "outputs": [
    {
     "data": {
      "text/plain": [
       "[('Helsinki', 'be'),\n",
       " ('Helsinki', 'the'),\n",
       " ('be', 'Helsinki'),\n",
       " ('be', 'the'),\n",
       " ('be', 'capital'),\n",
       " ('the', 'Helsinki'),\n",
       " ('the', 'be'),\n",
       " ('the', 'capital'),\n",
       " ('the', 'of'),\n",
       " ('capital', 'be')]"
      ]
     },
     "execution_count": 21,
     "metadata": {},
     "output_type": "execute_result"
    }
   ],
   "source": [
    "# Print out the first 10 tuples in the list 'pairs'\n",
    "pairs[:10]"
   ]
  },
  {
   "cell_type": "markdown",
   "metadata": {},
   "source": [
    "The first word in each tuple can be described as the *target* lemma, whereas the second constitutes a *context* lemma.\n",
    "\n",
    "To set the stage for making predictions, we must collect all target words in the list and their matching context words, while also converting them into their one-hot encoded numerical representations. \n",
    "\n",
    "This can be achieved by a list comprehension, which loops over the tuples in the list `pairs`. We can then fetch the one-hot encoded vector from the dictionary `lemma_vectors` by using the target lemma as the key."
   ]
  },
  {
   "cell_type": "code",
   "execution_count": 22,
   "metadata": {},
   "outputs": [
    {
     "data": {
      "text/plain": [
       "(118, 23)"
      ]
     },
     "execution_count": 22,
     "metadata": {},
     "output_type": "execute_result"
    }
   ],
   "source": [
    "# Define a list comprehension that collects target lemmas and stores\n",
    "# the one-hot encoded vectors into a list named 'targets'\n",
    "targets = [lemma_vectors[target] for target, context in pairs]\n",
    "\n",
    "# Stack all the target lemmas into a matrix\n",
    "targets = np.vstack(targets)\n",
    "\n",
    "# Call the variable to check the size of the matrix\n",
    "targets.shape"
   ]
  },
  {
   "cell_type": "markdown",
   "metadata": {},
   "source": [
    "Examining the `shape` attribute reveals that we have a total of 118 target lemmas. We then repeat the same operation for their matching context lemmas."
   ]
  },
  {
   "cell_type": "code",
   "execution_count": 23,
   "metadata": {},
   "outputs": [
    {
     "data": {
      "text/plain": [
       "(118, 23)"
      ]
     },
     "execution_count": 23,
     "metadata": {},
     "output_type": "execute_result"
    }
   ],
   "source": [
    "# Define a list comprehension that collects context lemmas and stores\n",
    "# the one-hot encoded vectors into a list named 'context'\n",
    "context = [lemma_vectors[context] for target, context in pairs]\n",
    "\n",
    "# Stack all the context lemmas into a matrix\n",
    "context = np.vstack(context)\n",
    "\n",
    "# Call the variable to check the size of the matrix\n",
    "context.shape"
   ]
  },
  {
   "cell_type": "markdown",
   "metadata": {},
   "source": [
    "Perfect! Each target lemma in `targets` now has a matching context lemma under `context`. "
   ]
  },
  {
   "cell_type": "markdown",
   "metadata": {},
   "source": [
    "Next, we will define a small neural network, which attempts to learn a mapping between the target and context lemmas.\n",
    "\n",
    "In other words, given a target word, the network attempts to predict which context lemmas are likely to occur near the target lemma. \n",
    "\n",
    "To do so, we define a small neural network using [Keras](https://keras.io/).\n",
    "\n",
    "More specifically, we implement a variant of an algorithm called *Word2vec* (for *word to vector*), proposed by Tomas Mikolov et al. ([2013](https://arxiv.org/abs/1301.3781v3)).\n",
    "\n",
    "Keras is a part of the TensorFlow deep learning library; we import both Keras and *Dense*, a specific type of neural network layer."
   ]
  },
  {
   "cell_type": "code",
   "execution_count": 24,
   "metadata": {},
   "outputs": [],
   "source": [
    "from tensorflow import keras\n",
    "from tensorflow.keras.layers import Dense"
   ]
  },
  {
   "cell_type": "markdown",
   "metadata": {},
   "source": [
    "We start by defining an *Input* layer, which receives the one-hot encoded vectors stored under the variable `targets`.\n",
    "\n",
    "We fetch the size of the second dimension (`[1]`) of the `targets` matrix available under the `shape` attribute. We then provide this information to the `shape` *argument* of the *Input* layer, which informs the neural network about the size of the incoming data.\n",
    "\n",
    "We also use the `name` argument to name the layer as `input_layer`. \n",
    "\n",
    "We store the resulting *Input* object under the variable `network_input`."
   ]
  },
  {
   "cell_type": "code",
   "execution_count": 25,
   "metadata": {},
   "outputs": [],
   "source": [
    "network_input = keras.Input(shape=targets.shape[1], name='input_layer')"
   ]
  },
  {
   "cell_type": "markdown",
   "metadata": {},
   "source": [
    "Next, we define a *Dense* layer with two neurons, as defined by the `units` argument. \n",
    "\n",
    "We connect the *Input* layer to this layer by placing the variable `network_input` in parentheses after the *Dense* layer, e.g. `Dense(...)(network_input)`. \n",
    "\n",
    "We assign the output of the *Dense* layer under variable `hidden_layer`."
   ]
  },
  {
   "cell_type": "code",
   "execution_count": 26,
   "metadata": {},
   "outputs": [],
   "source": [
    "hidden_layer = Dense(units=2, activation=None, name='hidden_layer')(network_input)"
   ]
  },
  {
   "cell_type": "markdown",
   "metadata": {},
   "source": [
    "To make predictions about which context lemmas occur close to the target lemmas, we then define another *Dense* layer whose `units` argument matches the size of our vocabulary.\n",
    "\n",
    "This layer acts as the output layer of our network.\n",
    "\n",
    "By setting the `activation` argument to `softmax`, the network will return probabilities for all lemmas in the vocabulary."
   ]
  },
  {
   "cell_type": "code",
   "execution_count": 27,
   "metadata": {},
   "outputs": [],
   "source": [
    "output_layer = Dense(units=context.shape[1], activation='softmax', name='output_layer')(hidden_layer)"
   ]
  },
  {
   "cell_type": "markdown",
   "metadata": {},
   "source": [
    "We then combine the layers defined above into a network and assign the result under the variable `embedding_model`.\n",
    "\n",
    "This is achieved using the *Model* object in Keras and its two arguments: `inputs` and `outputs`, to which we must provide the input and output layers of our network, that is, `input_layer` and `output_layer`."
   ]
  },
  {
   "cell_type": "code",
   "execution_count": 28,
   "metadata": {},
   "outputs": [],
   "source": [
    "embedding_model = keras.Model(inputs=network_input, outputs=output_layer)"
   ]
  },
  {
   "cell_type": "markdown",
   "metadata": {},
   "source": [
    "Finally, we use the `compile()` method to compile the model and define a loss function using the `loss` argument. \n",
    "\n",
    "The purpose of a loss function is to measure the error between predicted and actual context lemmas. This error is used to adjust the neurons in a way that should potentially improve the predictions next time."
   ]
  },
  {
   "cell_type": "code",
   "execution_count": 29,
   "metadata": {},
   "outputs": [],
   "source": [
    "embedding_model.compile(loss='categorical_crossentropy')"
   ]
  },
  {
   "cell_type": "markdown",
   "metadata": {},
   "source": [
    "To examine the resulting model, we call the `summary()` method."
   ]
  },
  {
   "cell_type": "code",
   "execution_count": 30,
   "metadata": {},
   "outputs": [
    {
     "name": "stdout",
     "output_type": "stream",
     "text": [
      "Model: \"functional_1\"\n",
      "_________________________________________________________________\n",
      "Layer (type)                 Output Shape              Param #   \n",
      "=================================================================\n",
      "input_layer (InputLayer)     [(None, 23)]              0         \n",
      "_________________________________________________________________\n",
      "hidden_layer (Dense)         (None, 2)                 48        \n",
      "_________________________________________________________________\n",
      "output_layer (Dense)         (None, 23)                69        \n",
      "=================================================================\n",
      "Total params: 117\n",
      "Trainable params: 117\n",
      "Non-trainable params: 0\n",
      "_________________________________________________________________\n"
     ]
    }
   ],
   "source": [
    "embedding_model.summary()"
   ]
  },
  {
   "cell_type": "markdown",
   "metadata": {},
   "source": [
    "We have now compiled a simple neural network. The network has a single hidden layer with two neurons, which acts as a bottleneck for information.\n",
    "\n",
    "To learn how to predict the context lemmas based on the target lemmas, the model must learn to condense information contained in the sparse input vectors.\n",
    "\n",
    "The next step is to train the model. This is achieved using the model's `fit()` function.\n",
    "\n",
    "This function requires defining several arguments. The arguments `x` and `y` correspond to the inputs and outputs. These consist of the target and context lemmas, which are stored in the matrices under `targets` and `context`, respectively. \n",
    "\n",
    "We examine 64 pairs of target and context lemmas at the same time, as defined by the keyword `batch`, and loop over all pairs of lemmas 1500 times, as defined by the keyword `epochs`.\n",
    "\n",
    "We also provide the `verbose` argument with a value of 0 to avoid flooding the notebook with status messages about the training procedure."
   ]
  },
  {
   "cell_type": "code",
   "execution_count": 31,
   "metadata": {},
   "outputs": [
    {
     "data": {
      "text/plain": [
       "<tensorflow.python.keras.callbacks.History at 0x1643a12e0>"
      ]
     },
     "execution_count": 31,
     "metadata": {},
     "output_type": "execute_result"
    }
   ],
   "source": [
    "# Fit a model to the data\n",
    "embedding_model.fit(x=targets,\n",
    "                    y=context,\n",
    "                    batch_size=64,\n",
    "                    epochs=1500,\n",
    "                    verbose=0\n",
    "                   )"
   ]
  },
  {
   "cell_type": "markdown",
   "metadata": {},
   "source": [
    "Now that the neural network has been trained, we can use the model to predict which context lemmas are likely to occur close to the target lemma.\n",
    "\n",
    "Let's examine these predictions by retrieving the one-hot encoded vector for the lemma \"be\" and input this to the model.\n",
    "\n",
    "To do so, we must use the `expand_dims()` function from NumPy to add a dummy axis in front of the network, because our network expects to receive vectors in batches. This tells the network that the input consists of a single vector.\n",
    "\n",
    "We store the input under the variable `input_array`."
   ]
  },
  {
   "cell_type": "code",
   "execution_count": 32,
   "metadata": {},
   "outputs": [
    {
     "data": {
      "text/plain": [
       "(1, 23)"
      ]
     },
     "execution_count": 32,
     "metadata": {},
     "output_type": "execute_result"
    }
   ],
   "source": [
    "# Add a dummy axis to the input vector\n",
    "input_array = np.expand_dims(lemma_vectors['be'], axis=0)\n",
    "\n",
    "# Check the shape of the input array\n",
    "input_array.shape"
   ]
  },
  {
   "cell_type": "markdown",
   "metadata": {},
   "source": [
    "We then input the vector to the model using the `predict()` method, which returns an array of probabilities.\n",
    "\n",
    "We store these probabilities under the variable `prediction`."
   ]
  },
  {
   "cell_type": "code",
   "execution_count": 33,
   "metadata": {},
   "outputs": [
    {
     "data": {
      "text/plain": [
       "array([[0.03473333, 0.02966244, 0.05496332, 0.01312688, 0.03144532,\n",
       "        0.01338098, 0.16059351, 0.00844715, 0.02779917, 0.1333195 ,\n",
       "        0.0031655 , 0.00379298, 0.00374762, 0.00754086, 0.03519079,\n",
       "        0.00506445, 0.02893545, 0.04149509, 0.08172575, 0.03377206,\n",
       "        0.17026985, 0.00574794, 0.07208008]], dtype=float32)"
      ]
     },
     "execution_count": 33,
     "metadata": {},
     "output_type": "execute_result"
    }
   ],
   "source": [
    "# Feed the input to the neural network; store predictions under 'prediction'\n",
    "prediction = embedding_model.predict(input_array)\n",
    "\n",
    "# Call the variable to examine the output\n",
    "prediction"
   ]
  },
  {
   "cell_type": "markdown",
   "metadata": {},
   "source": [
    "These probabilities correspond to the unique lemmas in our vocabulary.\n",
    "\n",
    "To examine which lemma is the most likely to occur in the neighbourhood of the lemma \"be\", we can use NumPy's `argmax()` method to find which dimension in the `prediction` vector has the highest value.\n",
    "\n",
    "This gives us an integer, which we can use as an index for the list of lemmas under `unique_lemmas`."
   ]
  },
  {
   "cell_type": "code",
   "execution_count": 34,
   "metadata": {},
   "outputs": [
    {
     "data": {
      "text/plain": [
       "'the'"
      ]
     },
     "execution_count": 34,
     "metadata": {},
     "output_type": "execute_result"
    }
   ],
   "source": [
    "unique_lemmas[np.argmax(prediction)]"
   ]
  },
  {
   "cell_type": "markdown",
   "metadata": {},
   "source": [
    "However, predicting the most likely neighbour of a given lemma is not the actual *goal* of the training procedure, but this task is more like a proxy for the true objective: to learn numerical representations for individual words. \n",
    "\n",
    "To predict context lemmas, the network must learn useful representations for target lemmas. One may think of these numerical representations as the identity of the word, which was previously encoded using a one-hot vector.\n",
    "\n",
    "These representations are learned by the hidden layer of the neural network, which contains two neurons. \n",
    "\n",
    "These neurons have *parameters*, commonly referred to as *weights*, which are adjusted as the network learns to improve predictions based on the error estimated by the loss function.\n",
    "\n",
    "The weights of a model can be retrieved using the `get_weights()` method of a Keras *Model*."
   ]
  },
  {
   "cell_type": "code",
   "execution_count": 35,
   "metadata": {},
   "outputs": [
    {
     "data": {
      "text/plain": [
       "(23, 2)"
      ]
     },
     "execution_count": 35,
     "metadata": {},
     "output_type": "execute_result"
    }
   ],
   "source": [
    "# Retrieve model weights; assign the resulting list to 'model_weights'\n",
    "model_weights = embedding_model.get_weights()\n",
    "\n",
    "# The weights of the hidden layer are the first item in the list\n",
    "hidden_layer_weights = model_weights[0]\n",
    "\n",
    "# Call the variable and use the 'shape' attribute to examine size\n",
    "hidden_layer_weights.shape"
   ]
  },
  {
   "cell_type": "markdown",
   "metadata": {},
   "source": [
    "The weights of the hidden layer consist of 23 two-dimensional vectors, one two-dimensional vector for each unique lemma in the vocabulary.\n",
    "\n",
    "Let's print out the first five vectors to examine their values."
   ]
  },
  {
   "cell_type": "code",
   "execution_count": 36,
   "metadata": {},
   "outputs": [
    {
     "data": {
      "text/plain": [
       "array([[ 2.8478522 ,  1.7331156 ],\n",
       "       [-1.2587945 ,  0.0688768 ],\n",
       "       [-1.130976  ,  2.124587  ],\n",
       "       [ 1.0169924 , -2.0106888 ],\n",
       "       [-0.54537183,  1.3178084 ]], dtype=float32)"
      ]
     },
     "execution_count": 36,
     "metadata": {},
     "output_type": "execute_result"
    }
   ],
   "source": [
    "# Check out the first five items in the weight matrix\n",
    "hidden_layer_weights[:5]"
   ]
  },
  {
   "cell_type": "markdown",
   "metadata": {},
   "source": [
    "In contrast to the sparse one-hot encoded vectors, the representations learned by the hidden layer may be characterised as *dense*, as each dimension of the vector encodes some information.\n",
    "\n",
    "We can think of these two-dimensional values as coordinates and plot these dimensions against each other to examine position of each lemma in the two-dimensional space.\n",
    "\n",
    "This is the *embedding space* for the vectors.\n",
    "\n",
    "To visualise the embedding space and the vectors within this space, we use a dictionary comprehension to map each unique lemma to its two-dimensional representation in the hidden layer."
   ]
  },
  {
   "cell_type": "code",
   "execution_count": 37,
   "metadata": {},
   "outputs": [],
   "source": [
    "# Collect hidden layer weights into a dictionary using a dictionary comprehension\n",
    "lemma_embeddings = {lemma: hidden_layer_weights[i] for i, lemma in enumerate(unique_lemmas)}"
   ]
  },
  {
   "cell_type": "markdown",
   "metadata": {},
   "source": [
    "We start by importing the *matplotlib* library and create a figure. The `dpi` argument sets the resolution of the figure to 150 dots per inch.\n",
    "\n",
    "We then loop over the lemmas and their vector representations in the `lemma_embeddings` dictionary. \n",
    "\n",
    "The `items()` method of a dictionary returns both keys and values, which we then add to the *matplotlib* figure."
   ]
  },
  {
   "cell_type": "code",
   "execution_count": 38,
   "metadata": {},
   "outputs": [
    {
     "data": {
      "image/png": "[encoded data removed]",
      "text/plain": [
       "<Figure size 900x600 with 1 Axes>"
      ]
     },
     "metadata": {
      "needs_background": "light"
     },
     "output_type": "display_data"
    }
   ],
   "source": [
    "%matplotlib inline\n",
    "\n",
    "# Import the pyplot component from matplotlib\n",
    "import matplotlib.pyplot as plt\n",
    "\n",
    "# Create a figure with a resolution of 200 DPI\n",
    "plt.figure(dpi=150)\n",
    "\n",
    "# Loop over the key/value pairs in the dictionary\n",
    "for lemma, coordinates in lemma_embeddings.items():\n",
    "\n",
    "    # Unpack the coordinates variable into two variables\n",
    "    # These stand for the horizontal/vertical coordinates\n",
    "    x, y = coordinates[0], coordinates[1]\n",
    "    \n",
    "    # Use the scatter() method to add the x and y coordinates\n",
    "    # to the figure\n",
    "    plt.scatter(x, y)\n",
    "    \n",
    "    # Use the annotate() method to add the lemmas as labels \n",
    "    # to the coordinate pairs, which must be wrapped into a tuple\n",
    "    plt.annotate(lemma, (x, y))"
   ]
  },
  {
   "cell_type": "markdown",
   "metadata": {},
   "source": [
    "Plotting the two dimensions of the vectors against each other provides a visualisation of the vectors in the two-dimensional embedding space.\n",
    "\n",
    "The vector representations of lemmas that occur in similar contexts should be positioned close to each other in the embedding space."
   ]
  },
  {
   "cell_type": "markdown",
   "metadata": {},
   "source": [
    "This section should have given you a basic understanding of the distributional hypothesis, which has been influential in developing the concept of word embeddings.\n",
    "\n",
    "At the same time, you should have learned that word embeddings are not a form of \"neural sorcery\". They are learned directly from the data via a proxy task such as predicting the neighbouring word.\n",
    "\n",
    "However, one must understand that the toy example merely scratches the surface. \n",
    "\n",
    "Contemporary approaches to learning word embeddings use models with complex architectures and billions of parameters, which attempt to encode more information about the neighbouring words, in order to distinguish between homonymic forms such as \"bank\" as a financial institution and \"bank\" as an area close to the river.\n",
    "\n",
    "In the following section, we dive deeper into word embeddings and how they can be used via spaCy."
   ]
  }
 ],
 "metadata": {
  "celltoolbar": "Edit Metadata",
  "kernelspec": {
   "display_name": "Python 3",
   "language": "python",
   "name": "python3"
  },
  "language_info": {
   "codemirror_mode": {
    "name": "ipython",
    "version": 3
   },
   "file_extension": ".py",
   "mimetype": "text/x-python",
   "name": "python",
   "nbconvert_exporter": "python",
   "pygments_lexer": "ipython3",
   "version": "3.8.5"
  }
 },
 "nbformat": 4,
 "nbformat_minor": 2
}
